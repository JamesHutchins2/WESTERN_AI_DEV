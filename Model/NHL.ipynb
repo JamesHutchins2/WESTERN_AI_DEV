{
 "cells": [
  {
   "attachments": {},
   "cell_type": "markdown",
   "metadata": {},
   "source": [
    "# Introduction \n",
    "\n",
    "The goal of this analysis is to create a classification model that predicts if a player will be drafted in the first round of the NHL draft based on statisitcs from their junior hockey career. "
   ]
  },
  {
   "attachments": {},
   "cell_type": "markdown",
   "metadata": {},
   "source": [
    "THe data comes from the following two sources:\n",
    "\n",
    "NHL Draft Data: `https://www.kaggle.com/datasets/mattop/nhl-draft-hockey-player-data-1963-2022`\n",
    "\n",
    "Amateur Hockey Data: `https://www.kaggle.com/datasets/mjavon/elite-prospects-hockey-stats-player-data`\n",
    "Note, use the `player_stats` file"
   ]
  },
  {
   "cell_type": "code",
   "execution_count": 1,
   "metadata": {},
   "outputs": [],
   "source": [
    "#Import standard libraries\n",
    "import pandas as pd\n",
    "import numpy as np\n",
    "from matplotlib import pyplot as plt\n",
    "import seaborn as sns\n",
    "from scipy import stats"
   ]
  },
  {
   "attachments": {},
   "cell_type": "markdown",
   "metadata": {},
   "source": [
    "## Exploring the Data"
   ]
  },
  {
   "cell_type": "code",
   "execution_count": 2,
   "metadata": {},
   "outputs": [
    {
     "name": "stderr",
     "output_type": "stream",
     "text": [
      "C:\\Users\\James\\AppData\\Local\\Packages\\PythonSoftwareFoundation.Python.3.9_qbz5n2kfra8p0\\LocalCache\\local-packages\\Python39\\site-packages\\IPython\\core\\interactiveshell.py:3139: DtypeWarning: Columns (4,6) have mixed types.Specify dtype option on import or set low_memory=False.\n",
      "  has_raised = await self.run_ast_nodes(code_ast.body, cell_name,\n"
     ]
    },
    {
     "data": {
      "text/html": [
       "<div>\n",
       "<style scoped>\n",
       "    .dataframe tbody tr th:only-of-type {\n",
       "        vertical-align: middle;\n",
       "    }\n",
       "\n",
       "    .dataframe tbody tr th {\n",
       "        vertical-align: top;\n",
       "    }\n",
       "\n",
       "    .dataframe thead th {\n",
       "        text-align: right;\n",
       "    }\n",
       "</style>\n",
       "<table border=\"1\" class=\"dataframe\">\n",
       "  <thead>\n",
       "    <tr style=\"text-align: right;\">\n",
       "      <th></th>\n",
       "      <th>Unnamed: 0</th>\n",
       "      <th>fdc_id</th>\n",
       "      <th>brand_owner</th>\n",
       "      <th>brand_name</th>\n",
       "      <th>gtin_upc</th>\n",
       "      <th>ingredients</th>\n",
       "      <th>serving_size</th>\n",
       "      <th>serving_size_unit</th>\n",
       "      <th>branded_food_category</th>\n",
       "      <th>data_source</th>\n",
       "      <th>package_weight</th>\n",
       "      <th>modified_date</th>\n",
       "      <th>available_date</th>\n",
       "      <th>market_country</th>\n",
       "      <th>data_type</th>\n",
       "      <th>description</th>\n",
       "      <th>food_category_id</th>\n",
       "      <th>publication_date</th>\n",
       "      <th>nutrients</th>\n",
       "    </tr>\n",
       "  </thead>\n",
       "  <tbody>\n",
       "    <tr>\n",
       "      <th>0</th>\n",
       "      <td>0</td>\n",
       "      <td>1105904</td>\n",
       "      <td>Richardson Oilseed Products (US) Limited</td>\n",
       "      <td>WESSON</td>\n",
       "      <td>27000612323</td>\n",
       "      <td>Vegetable Oil</td>\n",
       "      <td>15.0</td>\n",
       "      <td>ml</td>\n",
       "      <td>Oils Edible</td>\n",
       "      <td>GDSN</td>\n",
       "      <td>Not Applicable</td>\n",
       "      <td>2020-10-02</td>\n",
       "      <td>2020-11-13</td>\n",
       "      <td>United States</td>\n",
       "      <td>branded_food</td>\n",
       "      <td>WESSON Vegetable Oil 1 GAL</td>\n",
       "      <td>26.0</td>\n",
       "      <td>2020-11-13</td>\n",
       "      <td>0.0 G of Protein,  93.33 G of Total lipid (fat...</td>\n",
       "    </tr>\n",
       "    <tr>\n",
       "      <th>1</th>\n",
       "      <td>1</td>\n",
       "      <td>1105905</td>\n",
       "      <td>CAMPBELL SOUP COMPANY</td>\n",
       "      <td>SWANSON</td>\n",
       "      <td>51000198808</td>\n",
       "      <td>INGREDIENTS: BEEF STOCK, CONTAINS LESS THAN 2%...</td>\n",
       "      <td>240.0</td>\n",
       "      <td>ml</td>\n",
       "      <td>Herbs/Spices/Extracts</td>\n",
       "      <td>GDSN</td>\n",
       "      <td>Not Applicable</td>\n",
       "      <td>2020-09-12</td>\n",
       "      <td>2020-11-13</td>\n",
       "      <td>United States</td>\n",
       "      <td>branded_food</td>\n",
       "      <td>SWANSON BROTH BEEF</td>\n",
       "      <td>26.0</td>\n",
       "      <td>2020-11-13</td>\n",
       "      <td>0.83 G of Protein,  0.0 G of Total lipid (fat)...</td>\n",
       "    </tr>\n",
       "    <tr>\n",
       "      <th>2</th>\n",
       "      <td>2</td>\n",
       "      <td>1105906</td>\n",
       "      <td>CAMPBELL SOUP COMPANY</td>\n",
       "      <td>CAMPBELL'S</td>\n",
       "      <td>51000213273</td>\n",
       "      <td>INGREDIENTS: CLAM STOCK, POTATOES, CLAMS, CREA...</td>\n",
       "      <td>440.0</td>\n",
       "      <td>g</td>\n",
       "      <td>Prepared Soups</td>\n",
       "      <td>GDSN</td>\n",
       "      <td>Not Applicable</td>\n",
       "      <td>2020-09-01</td>\n",
       "      <td>2020-11-13</td>\n",
       "      <td>United States</td>\n",
       "      <td>branded_food</td>\n",
       "      <td>CAMPBELL'S SLOW KETTLE SOUP CLAM CHOWDER</td>\n",
       "      <td>26.0</td>\n",
       "      <td>2020-11-13</td>\n",
       "      <td>2.45 G of Protein,  5.31 G of Total lipid (fat...</td>\n",
       "    </tr>\n",
       "    <tr>\n",
       "      <th>3</th>\n",
       "      <td>3</td>\n",
       "      <td>1105907</td>\n",
       "      <td>CAMPBELL SOUP COMPANY</td>\n",
       "      <td>CAMPBELL'S</td>\n",
       "      <td>51000213303</td>\n",
       "      <td>INGREDIENTS: WATER, CREAM, BROCCOLI, CELERY, V...</td>\n",
       "      <td>440.0</td>\n",
       "      <td>g</td>\n",
       "      <td>Prepared Soups</td>\n",
       "      <td>GDSN</td>\n",
       "      <td>Not Applicable</td>\n",
       "      <td>2020-09-01</td>\n",
       "      <td>2020-11-13</td>\n",
       "      <td>United States</td>\n",
       "      <td>branded_food</td>\n",
       "      <td>CAMPBELL'S SLOW KETTLE SOUP CHEESE BROCCOLI</td>\n",
       "      <td>26.0</td>\n",
       "      <td>2020-11-13</td>\n",
       "      <td>1.22 G of Protein,  6.12 G of Total lipid (fat...</td>\n",
       "    </tr>\n",
       "    <tr>\n",
       "      <th>4</th>\n",
       "      <td>4</td>\n",
       "      <td>1105908</td>\n",
       "      <td>CAMPBELL SOUP COMPANY</td>\n",
       "      <td>SWANSON</td>\n",
       "      <td>51000224637</td>\n",
       "      <td>INGREDIENTS: CHICKEN STOCK, CONTAINS LESS THAN...</td>\n",
       "      <td>240.0</td>\n",
       "      <td>ml</td>\n",
       "      <td>Herbs/Spices/Extracts</td>\n",
       "      <td>GDSN</td>\n",
       "      <td>Not Applicable</td>\n",
       "      <td>2020-10-03</td>\n",
       "      <td>2020-11-13</td>\n",
       "      <td>United States</td>\n",
       "      <td>branded_food</td>\n",
       "      <td>SWANSON BROTH CHICKEN</td>\n",
       "      <td>26.0</td>\n",
       "      <td>2020-11-13</td>\n",
       "      <td>0.83 G of Protein,  0.0 G of Total lipid (fat)...</td>\n",
       "    </tr>\n",
       "  </tbody>\n",
       "</table>\n",
       "</div>"
      ],
      "text/plain": [
       "   Unnamed: 0   fdc_id                               brand_owner  brand_name  \\\n",
       "0           0  1105904  Richardson Oilseed Products (US) Limited      WESSON   \n",
       "1           1  1105905                     CAMPBELL SOUP COMPANY     SWANSON   \n",
       "2           2  1105906                     CAMPBELL SOUP COMPANY  CAMPBELL'S   \n",
       "3           3  1105907                     CAMPBELL SOUP COMPANY  CAMPBELL'S   \n",
       "4           4  1105908                     CAMPBELL SOUP COMPANY     SWANSON   \n",
       "\n",
       "      gtin_upc                                        ingredients  \\\n",
       "0  27000612323                                      Vegetable Oil   \n",
       "1  51000198808  INGREDIENTS: BEEF STOCK, CONTAINS LESS THAN 2%...   \n",
       "2  51000213273  INGREDIENTS: CLAM STOCK, POTATOES, CLAMS, CREA...   \n",
       "3  51000213303  INGREDIENTS: WATER, CREAM, BROCCOLI, CELERY, V...   \n",
       "4  51000224637  INGREDIENTS: CHICKEN STOCK, CONTAINS LESS THAN...   \n",
       "\n",
       "  serving_size serving_size_unit  branded_food_category data_source  \\\n",
       "0         15.0                ml            Oils Edible        GDSN   \n",
       "1        240.0                ml  Herbs/Spices/Extracts        GDSN   \n",
       "2        440.0                 g         Prepared Soups        GDSN   \n",
       "3        440.0                 g         Prepared Soups        GDSN   \n",
       "4        240.0                ml  Herbs/Spices/Extracts        GDSN   \n",
       "\n",
       "   package_weight modified_date available_date market_country     data_type  \\\n",
       "0  Not Applicable    2020-10-02     2020-11-13  United States  branded_food   \n",
       "1  Not Applicable    2020-09-12     2020-11-13  United States  branded_food   \n",
       "2  Not Applicable    2020-09-01     2020-11-13  United States  branded_food   \n",
       "3  Not Applicable    2020-09-01     2020-11-13  United States  branded_food   \n",
       "4  Not Applicable    2020-10-03     2020-11-13  United States  branded_food   \n",
       "\n",
       "                                   description  food_category_id  \\\n",
       "0                   WESSON Vegetable Oil 1 GAL              26.0   \n",
       "1                           SWANSON BROTH BEEF              26.0   \n",
       "2     CAMPBELL'S SLOW KETTLE SOUP CLAM CHOWDER              26.0   \n",
       "3  CAMPBELL'S SLOW KETTLE SOUP CHEESE BROCCOLI              26.0   \n",
       "4                        SWANSON BROTH CHICKEN              26.0   \n",
       "\n",
       "  publication_date                                          nutrients  \n",
       "0       2020-11-13  0.0 G of Protein,  93.33 G of Total lipid (fat...  \n",
       "1       2020-11-13  0.83 G of Protein,  0.0 G of Total lipid (fat)...  \n",
       "2       2020-11-13  2.45 G of Protein,  5.31 G of Total lipid (fat...  \n",
       "3       2020-11-13  1.22 G of Protein,  6.12 G of Total lipid (fat...  \n",
       "4       2020-11-13  0.83 G of Protein,  0.0 G of Total lipid (fat)...  "
      ]
     },
     "execution_count": 2,
     "metadata": {},
     "output_type": "execute_result"
    }
   ],
   "source": [
    "#Lets load the dataset for the NHL Draft Picks\n",
    "df=pd.read_csv('Final_Data.csv')\n",
    "df.head()\n"
   ]
  },
  {
   "cell_type": "code",
   "execution_count": 3,
   "metadata": {},
   "outputs": [
    {
     "ename": "KeyError",
     "evalue": "\"['penalties_minutes' 'point_shares' 'goalie_losses' 'save_percentage'\\n 'goals' 'goals_against_average' 'goalie_wins' 'plus_minus' 'points'\\n 'goalie_games_played' 'goalie_ties_overtime' 'assists' 'to_year'\\n 'games_played'] not found in axis\"",
     "output_type": "error",
     "traceback": [
      "\u001b[1;31m---------------------------------------------------------------------------\u001b[0m",
      "\u001b[1;31mKeyError\u001b[0m                                  Traceback (most recent call last)",
      "Cell \u001b[1;32mIn [3], line 2\u001b[0m\n\u001b[0;32m      1\u001b[0m \u001b[39m#Immediately, lets drop all columns that are not needed\u001b[39;00m\n\u001b[1;32m----> 2\u001b[0m df\u001b[39m.\u001b[39;49mdrop(columns\u001b[39m=\u001b[39;49m{ \u001b[39m'\u001b[39;49m\u001b[39mto_year\u001b[39;49m\u001b[39m'\u001b[39;49m, \u001b[39m'\u001b[39;49m\u001b[39mgames_played\u001b[39;49m\u001b[39m'\u001b[39;49m, \u001b[39m'\u001b[39;49m\u001b[39mgoals\u001b[39;49m\u001b[39m'\u001b[39;49m,\n\u001b[0;32m      3\u001b[0m        \u001b[39m'\u001b[39;49m\u001b[39massists\u001b[39;49m\u001b[39m'\u001b[39;49m, \u001b[39m'\u001b[39;49m\u001b[39mpoints\u001b[39;49m\u001b[39m'\u001b[39;49m, \u001b[39m'\u001b[39;49m\u001b[39mplus_minus\u001b[39;49m\u001b[39m'\u001b[39;49m, \u001b[39m'\u001b[39;49m\u001b[39mpenalties_minutes\u001b[39;49m\u001b[39m'\u001b[39;49m,\n\u001b[0;32m      4\u001b[0m        \u001b[39m'\u001b[39;49m\u001b[39mgoalie_games_played\u001b[39;49m\u001b[39m'\u001b[39;49m, \u001b[39m'\u001b[39;49m\u001b[39mgoalie_wins\u001b[39;49m\u001b[39m'\u001b[39;49m, \u001b[39m'\u001b[39;49m\u001b[39mgoalie_losses\u001b[39;49m\u001b[39m'\u001b[39;49m,\n\u001b[0;32m      5\u001b[0m        \u001b[39m'\u001b[39;49m\u001b[39mgoalie_ties_overtime\u001b[39;49m\u001b[39m'\u001b[39;49m, \u001b[39m'\u001b[39;49m\u001b[39msave_percentage\u001b[39;49m\u001b[39m'\u001b[39;49m, \u001b[39m'\u001b[39;49m\u001b[39mgoals_against_average\u001b[39;49m\u001b[39m'\u001b[39;49m,\n\u001b[0;32m      6\u001b[0m        \u001b[39m'\u001b[39;49m\u001b[39mpoint_shares\u001b[39;49m\u001b[39m'\u001b[39;49m},inplace\u001b[39m=\u001b[39;49m\u001b[39mTrue\u001b[39;49;00m)\n",
      "File \u001b[1;32m~\\AppData\\Local\\Packages\\PythonSoftwareFoundation.Python.3.9_qbz5n2kfra8p0\\LocalCache\\local-packages\\Python39\\site-packages\\pandas\\core\\frame.py:4308\u001b[0m, in \u001b[0;36mDataFrame.drop\u001b[1;34m(self, labels, axis, index, columns, level, inplace, errors)\u001b[0m\n\u001b[0;32m   4178\u001b[0m \u001b[39mdef\u001b[39;00m \u001b[39mdrop\u001b[39m(\n\u001b[0;32m   4179\u001b[0m     \u001b[39mself\u001b[39m,\n\u001b[0;32m   4180\u001b[0m     labels\u001b[39m=\u001b[39m\u001b[39mNone\u001b[39;00m,\n\u001b[1;32m   (...)\u001b[0m\n\u001b[0;32m   4186\u001b[0m     errors\u001b[39m=\u001b[39m\u001b[39m\"\u001b[39m\u001b[39mraise\u001b[39m\u001b[39m\"\u001b[39m,\n\u001b[0;32m   4187\u001b[0m ):\n\u001b[0;32m   4188\u001b[0m     \u001b[39m\"\"\"\u001b[39;00m\n\u001b[0;32m   4189\u001b[0m \u001b[39m    Drop specified labels from rows or columns.\u001b[39;00m\n\u001b[0;32m   4190\u001b[0m \n\u001b[1;32m   (...)\u001b[0m\n\u001b[0;32m   4306\u001b[0m \u001b[39m            weight  1.0     0.8\u001b[39;00m\n\u001b[0;32m   4307\u001b[0m \u001b[39m    \"\"\"\u001b[39;00m\n\u001b[1;32m-> 4308\u001b[0m     \u001b[39mreturn\u001b[39;00m \u001b[39msuper\u001b[39;49m()\u001b[39m.\u001b[39;49mdrop(\n\u001b[0;32m   4309\u001b[0m         labels\u001b[39m=\u001b[39;49mlabels,\n\u001b[0;32m   4310\u001b[0m         axis\u001b[39m=\u001b[39;49maxis,\n\u001b[0;32m   4311\u001b[0m         index\u001b[39m=\u001b[39;49mindex,\n\u001b[0;32m   4312\u001b[0m         columns\u001b[39m=\u001b[39;49mcolumns,\n\u001b[0;32m   4313\u001b[0m         level\u001b[39m=\u001b[39;49mlevel,\n\u001b[0;32m   4314\u001b[0m         inplace\u001b[39m=\u001b[39;49minplace,\n\u001b[0;32m   4315\u001b[0m         errors\u001b[39m=\u001b[39;49merrors,\n\u001b[0;32m   4316\u001b[0m     )\n",
      "File \u001b[1;32m~\\AppData\\Local\\Packages\\PythonSoftwareFoundation.Python.3.9_qbz5n2kfra8p0\\LocalCache\\local-packages\\Python39\\site-packages\\pandas\\core\\generic.py:4153\u001b[0m, in \u001b[0;36mNDFrame.drop\u001b[1;34m(self, labels, axis, index, columns, level, inplace, errors)\u001b[0m\n\u001b[0;32m   4151\u001b[0m \u001b[39mfor\u001b[39;00m axis, labels \u001b[39min\u001b[39;00m axes\u001b[39m.\u001b[39mitems():\n\u001b[0;32m   4152\u001b[0m     \u001b[39mif\u001b[39;00m labels \u001b[39mis\u001b[39;00m \u001b[39mnot\u001b[39;00m \u001b[39mNone\u001b[39;00m:\n\u001b[1;32m-> 4153\u001b[0m         obj \u001b[39m=\u001b[39m obj\u001b[39m.\u001b[39;49m_drop_axis(labels, axis, level\u001b[39m=\u001b[39;49mlevel, errors\u001b[39m=\u001b[39;49merrors)\n\u001b[0;32m   4155\u001b[0m \u001b[39mif\u001b[39;00m inplace:\n\u001b[0;32m   4156\u001b[0m     \u001b[39mself\u001b[39m\u001b[39m.\u001b[39m_update_inplace(obj)\n",
      "File \u001b[1;32m~\\AppData\\Local\\Packages\\PythonSoftwareFoundation.Python.3.9_qbz5n2kfra8p0\\LocalCache\\local-packages\\Python39\\site-packages\\pandas\\core\\generic.py:4188\u001b[0m, in \u001b[0;36mNDFrame._drop_axis\u001b[1;34m(self, labels, axis, level, errors)\u001b[0m\n\u001b[0;32m   4186\u001b[0m         new_axis \u001b[39m=\u001b[39m axis\u001b[39m.\u001b[39mdrop(labels, level\u001b[39m=\u001b[39mlevel, errors\u001b[39m=\u001b[39merrors)\n\u001b[0;32m   4187\u001b[0m     \u001b[39melse\u001b[39;00m:\n\u001b[1;32m-> 4188\u001b[0m         new_axis \u001b[39m=\u001b[39m axis\u001b[39m.\u001b[39;49mdrop(labels, errors\u001b[39m=\u001b[39;49merrors)\n\u001b[0;32m   4189\u001b[0m     result \u001b[39m=\u001b[39m \u001b[39mself\u001b[39m\u001b[39m.\u001b[39mreindex(\u001b[39m*\u001b[39m\u001b[39m*\u001b[39m{axis_name: new_axis})\n\u001b[0;32m   4191\u001b[0m \u001b[39m# Case for non-unique axis\u001b[39;00m\n\u001b[0;32m   4192\u001b[0m \u001b[39melse\u001b[39;00m:\n",
      "File \u001b[1;32m~\\AppData\\Local\\Packages\\PythonSoftwareFoundation.Python.3.9_qbz5n2kfra8p0\\LocalCache\\local-packages\\Python39\\site-packages\\pandas\\core\\indexes\\base.py:5591\u001b[0m, in \u001b[0;36mIndex.drop\u001b[1;34m(self, labels, errors)\u001b[0m\n\u001b[0;32m   5589\u001b[0m \u001b[39mif\u001b[39;00m mask\u001b[39m.\u001b[39many():\n\u001b[0;32m   5590\u001b[0m     \u001b[39mif\u001b[39;00m errors \u001b[39m!=\u001b[39m \u001b[39m\"\u001b[39m\u001b[39mignore\u001b[39m\u001b[39m\"\u001b[39m:\n\u001b[1;32m-> 5591\u001b[0m         \u001b[39mraise\u001b[39;00m \u001b[39mKeyError\u001b[39;00m(\u001b[39mf\u001b[39m\u001b[39m\"\u001b[39m\u001b[39m{\u001b[39;00mlabels[mask]\u001b[39m}\u001b[39;00m\u001b[39m not found in axis\u001b[39m\u001b[39m\"\u001b[39m)\n\u001b[0;32m   5592\u001b[0m     indexer \u001b[39m=\u001b[39m indexer[\u001b[39m~\u001b[39mmask]\n\u001b[0;32m   5593\u001b[0m \u001b[39mreturn\u001b[39;00m \u001b[39mself\u001b[39m\u001b[39m.\u001b[39mdelete(indexer)\n",
      "\u001b[1;31mKeyError\u001b[0m: \"['penalties_minutes' 'point_shares' 'goalie_losses' 'save_percentage'\\n 'goals' 'goals_against_average' 'goalie_wins' 'plus_minus' 'points'\\n 'goalie_games_played' 'goalie_ties_overtime' 'assists' 'to_year'\\n 'games_played'] not found in axis\""
     ]
    }
   ],
   "source": [
    "#Immediately, lets drop all columns that are not needed\n",
    "df.drop(columns={ 'to_year', 'games_played', 'goals',\n",
    "       'assists', 'points', 'plus_minus', 'penalties_minutes',\n",
    "       'goalie_games_played', 'goalie_wins', 'goalie_losses',\n",
    "       'goalie_ties_overtime', 'save_percentage', 'goals_against_average',\n",
    "       'point_shares'},inplace=True)"
   ]
  },
  {
   "cell_type": "code",
   "execution_count": null,
   "metadata": {},
   "outputs": [
    {
     "data": {
      "text/html": [
       "<div>\n",
       "<style scoped>\n",
       "    .dataframe tbody tr th:only-of-type {\n",
       "        vertical-align: middle;\n",
       "    }\n",
       "\n",
       "    .dataframe tbody tr th {\n",
       "        vertical-align: top;\n",
       "    }\n",
       "\n",
       "    .dataframe thead th {\n",
       "        text-align: right;\n",
       "    }\n",
       "</style>\n",
       "<table border=\"1\" class=\"dataframe\">\n",
       "  <thead>\n",
       "    <tr style=\"text-align: right;\">\n",
       "      <th></th>\n",
       "      <th>ROW_ID</th>\n",
       "      <th>PLAYER_URL</th>\n",
       "      <th>PLAYER_ID</th>\n",
       "      <th>PLAYER_NAME</th>\n",
       "      <th>FIRST_NAME</th>\n",
       "      <th>LAST_NAME</th>\n",
       "      <th>PRIMARY_POS</th>\n",
       "      <th>SECONDARY_POS</th>\n",
       "      <th>G</th>\n",
       "      <th>A</th>\n",
       "      <th>GP</th>\n",
       "      <th>PIM</th>\n",
       "      <th>+/-</th>\n",
       "      <th>LEAGUE</th>\n",
       "      <th>LEAGUE_YEAR</th>\n",
       "      <th>P</th>\n",
       "      <th>PPG</th>\n",
       "    </tr>\n",
       "  </thead>\n",
       "  <tbody>\n",
       "    <tr>\n",
       "      <th>0</th>\n",
       "      <td>1</td>\n",
       "      <td>https://www.eliteprospects.com/player/9678/way...</td>\n",
       "      <td>9678.0</td>\n",
       "      <td>Wayne Gretzky (C)</td>\n",
       "      <td>Wayne</td>\n",
       "      <td>Gretzky</td>\n",
       "      <td>C</td>\n",
       "      <td>NaN</td>\n",
       "      <td>92.0</td>\n",
       "      <td>120.0</td>\n",
       "      <td>80.0</td>\n",
       "      <td>26.0</td>\n",
       "      <td>80.0</td>\n",
       "      <td>NHL</td>\n",
       "      <td>1981-1982</td>\n",
       "      <td>212.0</td>\n",
       "      <td>2.6500</td>\n",
       "    </tr>\n",
       "    <tr>\n",
       "      <th>1</th>\n",
       "      <td>2</td>\n",
       "      <td>https://www.eliteprospects.com/player/21408/mi...</td>\n",
       "      <td>21408.0</td>\n",
       "      <td>Mike Bossy (RW)</td>\n",
       "      <td>Mike</td>\n",
       "      <td>Bossy</td>\n",
       "      <td>RW</td>\n",
       "      <td>NaN</td>\n",
       "      <td>64.0</td>\n",
       "      <td>83.0</td>\n",
       "      <td>80.0</td>\n",
       "      <td>22.0</td>\n",
       "      <td>69.0</td>\n",
       "      <td>NHL</td>\n",
       "      <td>1981-1982</td>\n",
       "      <td>147.0</td>\n",
       "      <td>1.8375</td>\n",
       "    </tr>\n",
       "    <tr>\n",
       "      <th>2</th>\n",
       "      <td>3</td>\n",
       "      <td>https://www.eliteprospects.com/player/21343/pe...</td>\n",
       "      <td>21343.0</td>\n",
       "      <td>Peter Stastny (C)</td>\n",
       "      <td>Peter</td>\n",
       "      <td>Stastny</td>\n",
       "      <td>C</td>\n",
       "      <td>NaN</td>\n",
       "      <td>46.0</td>\n",
       "      <td>93.0</td>\n",
       "      <td>80.0</td>\n",
       "      <td>91.0</td>\n",
       "      <td>-10.0</td>\n",
       "      <td>NHL</td>\n",
       "      <td>1981-1982</td>\n",
       "      <td>139.0</td>\n",
       "      <td>1.7375</td>\n",
       "    </tr>\n",
       "    <tr>\n",
       "      <th>3</th>\n",
       "      <td>4</td>\n",
       "      <td>https://www.eliteprospects.com/player/42478/de...</td>\n",
       "      <td>42478.0</td>\n",
       "      <td>Dennis Maruk (C)</td>\n",
       "      <td>Dennis</td>\n",
       "      <td>Maruk</td>\n",
       "      <td>C</td>\n",
       "      <td>NaN</td>\n",
       "      <td>60.0</td>\n",
       "      <td>76.0</td>\n",
       "      <td>80.0</td>\n",
       "      <td>128.0</td>\n",
       "      <td>-4.0</td>\n",
       "      <td>NHL</td>\n",
       "      <td>1981-1982</td>\n",
       "      <td>136.0</td>\n",
       "      <td>1.7000</td>\n",
       "    </tr>\n",
       "    <tr>\n",
       "      <th>4</th>\n",
       "      <td>5</td>\n",
       "      <td>https://www.eliteprospects.com/player/22541/br...</td>\n",
       "      <td>22541.0</td>\n",
       "      <td>Bryan Trottier (C)</td>\n",
       "      <td>Bryan</td>\n",
       "      <td>Trottier</td>\n",
       "      <td>C</td>\n",
       "      <td>NaN</td>\n",
       "      <td>50.0</td>\n",
       "      <td>79.0</td>\n",
       "      <td>80.0</td>\n",
       "      <td>88.0</td>\n",
       "      <td>70.0</td>\n",
       "      <td>NHL</td>\n",
       "      <td>1981-1982</td>\n",
       "      <td>129.0</td>\n",
       "      <td>1.6125</td>\n",
       "    </tr>\n",
       "  </tbody>\n",
       "</table>\n",
       "</div>"
      ],
      "text/plain": [
       "   ROW_ID                                         PLAYER_URL  PLAYER_ID  \\\n",
       "0       1  https://www.eliteprospects.com/player/9678/way...     9678.0   \n",
       "1       2  https://www.eliteprospects.com/player/21408/mi...    21408.0   \n",
       "2       3  https://www.eliteprospects.com/player/21343/pe...    21343.0   \n",
       "3       4  https://www.eliteprospects.com/player/42478/de...    42478.0   \n",
       "4       5  https://www.eliteprospects.com/player/22541/br...    22541.0   \n",
       "\n",
       "          PLAYER_NAME FIRST_NAME LAST_NAME PRIMARY_POS SECONDARY_POS     G  \\\n",
       "0   Wayne Gretzky (C)      Wayne   Gretzky           C           NaN  92.0   \n",
       "1     Mike Bossy (RW)       Mike     Bossy          RW           NaN  64.0   \n",
       "2   Peter Stastny (C)      Peter   Stastny           C           NaN  46.0   \n",
       "3    Dennis Maruk (C)     Dennis     Maruk           C           NaN  60.0   \n",
       "4  Bryan Trottier (C)      Bryan  Trottier           C           NaN  50.0   \n",
       "\n",
       "       A    GP    PIM   +/- LEAGUE LEAGUE_YEAR      P     PPG  \n",
       "0  120.0  80.0   26.0  80.0    NHL   1981-1982  212.0  2.6500  \n",
       "1   83.0  80.0   22.0  69.0    NHL   1981-1982  147.0  1.8375  \n",
       "2   93.0  80.0   91.0 -10.0    NHL   1981-1982  139.0  1.7375  \n",
       "3   76.0  80.0  128.0  -4.0    NHL   1981-1982  136.0  1.7000  \n",
       "4   79.0  80.0   88.0  70.0    NHL   1981-1982  129.0  1.6125  "
      ]
     },
     "execution_count": 1682,
     "metadata": {},
     "output_type": "execute_result"
    }
   ],
   "source": [
    "junior_data=pd.read_csv('player_stats.csv',encoding='ISO-8859-1')\n",
    "junior_data.head()"
   ]
  },
  {
   "attachments": {},
   "cell_type": "markdown",
   "metadata": {},
   "source": [
    "I will explore the junior dataset first because I need to merge it to the draft picks dataset to populate the player stats"
   ]
  },
  {
   "cell_type": "code",
   "execution_count": null,
   "metadata": {},
   "outputs": [
    {
     "data": {
      "text/html": [
       "<div>\n",
       "<style scoped>\n",
       "    .dataframe tbody tr th:only-of-type {\n",
       "        vertical-align: middle;\n",
       "    }\n",
       "\n",
       "    .dataframe tbody tr th {\n",
       "        vertical-align: top;\n",
       "    }\n",
       "\n",
       "    .dataframe thead th {\n",
       "        text-align: right;\n",
       "    }\n",
       "</style>\n",
       "<table border=\"1\" class=\"dataframe\">\n",
       "  <thead>\n",
       "    <tr style=\"text-align: right;\">\n",
       "      <th></th>\n",
       "      <th>G</th>\n",
       "      <th>A</th>\n",
       "      <th>GP</th>\n",
       "      <th>PIM</th>\n",
       "      <th>+/-</th>\n",
       "      <th>LEAGUE</th>\n",
       "      <th>LEAGUE_YEAR</th>\n",
       "      <th>P</th>\n",
       "      <th>PPG</th>\n",
       "      <th>player</th>\n",
       "    </tr>\n",
       "  </thead>\n",
       "  <tbody>\n",
       "    <tr>\n",
       "      <th>0</th>\n",
       "      <td>92.0</td>\n",
       "      <td>120.0</td>\n",
       "      <td>80.0</td>\n",
       "      <td>26.0</td>\n",
       "      <td>80.0</td>\n",
       "      <td>NHL</td>\n",
       "      <td>1981-1982</td>\n",
       "      <td>212.0</td>\n",
       "      <td>2.6500</td>\n",
       "      <td>Wayne Gretzky</td>\n",
       "    </tr>\n",
       "    <tr>\n",
       "      <th>1</th>\n",
       "      <td>64.0</td>\n",
       "      <td>83.0</td>\n",
       "      <td>80.0</td>\n",
       "      <td>22.0</td>\n",
       "      <td>69.0</td>\n",
       "      <td>NHL</td>\n",
       "      <td>1981-1982</td>\n",
       "      <td>147.0</td>\n",
       "      <td>1.8375</td>\n",
       "      <td>Mike Bossy</td>\n",
       "    </tr>\n",
       "    <tr>\n",
       "      <th>2</th>\n",
       "      <td>46.0</td>\n",
       "      <td>93.0</td>\n",
       "      <td>80.0</td>\n",
       "      <td>91.0</td>\n",
       "      <td>-10.0</td>\n",
       "      <td>NHL</td>\n",
       "      <td>1981-1982</td>\n",
       "      <td>139.0</td>\n",
       "      <td>1.7375</td>\n",
       "      <td>Peter Stastny</td>\n",
       "    </tr>\n",
       "    <tr>\n",
       "      <th>3</th>\n",
       "      <td>60.0</td>\n",
       "      <td>76.0</td>\n",
       "      <td>80.0</td>\n",
       "      <td>128.0</td>\n",
       "      <td>-4.0</td>\n",
       "      <td>NHL</td>\n",
       "      <td>1981-1982</td>\n",
       "      <td>136.0</td>\n",
       "      <td>1.7000</td>\n",
       "      <td>Dennis Maruk</td>\n",
       "    </tr>\n",
       "    <tr>\n",
       "      <th>4</th>\n",
       "      <td>50.0</td>\n",
       "      <td>79.0</td>\n",
       "      <td>80.0</td>\n",
       "      <td>88.0</td>\n",
       "      <td>70.0</td>\n",
       "      <td>NHL</td>\n",
       "      <td>1981-1982</td>\n",
       "      <td>129.0</td>\n",
       "      <td>1.6125</td>\n",
       "      <td>Bryan Trottier</td>\n",
       "    </tr>\n",
       "  </tbody>\n",
       "</table>\n",
       "</div>"
      ],
      "text/plain": [
       "      G      A    GP    PIM   +/- LEAGUE LEAGUE_YEAR      P     PPG  \\\n",
       "0  92.0  120.0  80.0   26.0  80.0    NHL   1981-1982  212.0  2.6500   \n",
       "1  64.0   83.0  80.0   22.0  69.0    NHL   1981-1982  147.0  1.8375   \n",
       "2  46.0   93.0  80.0   91.0 -10.0    NHL   1981-1982  139.0  1.7375   \n",
       "3  60.0   76.0  80.0  128.0  -4.0    NHL   1981-1982  136.0  1.7000   \n",
       "4  50.0   79.0  80.0   88.0  70.0    NHL   1981-1982  129.0  1.6125   \n",
       "\n",
       "           player  \n",
       "0   Wayne Gretzky  \n",
       "1      Mike Bossy  \n",
       "2   Peter Stastny  \n",
       "3    Dennis Maruk  \n",
       "4  Bryan Trottier  "
      ]
     },
     "execution_count": 1683,
     "metadata": {},
     "output_type": "execute_result"
    }
   ],
   "source": [
    "#Lets create a new column for the name. This will be the key to join the datasets. I will also drop all unescesary columns\n",
    "junior_data['player']=junior_data.FIRST_NAME + \" \" + junior_data.LAST_NAME\n",
    "junior_data.drop(columns={'ROW_ID','PLAYER_URL','PLAYER_ID','PLAYER_NAME','SECONDARY_POS','PRIMARY_POS','FIRST_NAME','LAST_NAME'},inplace=True)\n",
    "junior_data.head()"
   ]
  },
  {
   "cell_type": "code",
   "execution_count": null,
   "metadata": {},
   "outputs": [
    {
     "data": {
      "text/html": [
       "<div>\n",
       "<style scoped>\n",
       "    .dataframe tbody tr th:only-of-type {\n",
       "        vertical-align: middle;\n",
       "    }\n",
       "\n",
       "    .dataframe tbody tr th {\n",
       "        vertical-align: top;\n",
       "    }\n",
       "\n",
       "    .dataframe thead th {\n",
       "        text-align: right;\n",
       "    }\n",
       "</style>\n",
       "<table border=\"1\" class=\"dataframe\">\n",
       "  <thead>\n",
       "    <tr style=\"text-align: right;\">\n",
       "      <th></th>\n",
       "      <th>G</th>\n",
       "      <th>A</th>\n",
       "      <th>GP</th>\n",
       "      <th>PIM</th>\n",
       "      <th>+/-</th>\n",
       "      <th>LEAGUE</th>\n",
       "      <th>LEAGUE_YEAR</th>\n",
       "      <th>P</th>\n",
       "      <th>PPG</th>\n",
       "      <th>player</th>\n",
       "    </tr>\n",
       "  </thead>\n",
       "  <tbody>\n",
       "    <tr>\n",
       "      <th>9233</th>\n",
       "      <td>0.0</td>\n",
       "      <td>1.0</td>\n",
       "      <td>5.0</td>\n",
       "      <td>5.0</td>\n",
       "      <td>2.0</td>\n",
       "      <td>NHL</td>\n",
       "      <td>1994-1995</td>\n",
       "      <td>1.0</td>\n",
       "      <td>0.200000</td>\n",
       "      <td>Craig Rivet</td>\n",
       "    </tr>\n",
       "    <tr>\n",
       "      <th>9894</th>\n",
       "      <td>1.0</td>\n",
       "      <td>4.0</td>\n",
       "      <td>19.0</td>\n",
       "      <td>54.0</td>\n",
       "      <td>4.0</td>\n",
       "      <td>NHL</td>\n",
       "      <td>1995-1996</td>\n",
       "      <td>5.0</td>\n",
       "      <td>0.263158</td>\n",
       "      <td>Craig Rivet</td>\n",
       "    </tr>\n",
       "    <tr>\n",
       "      <th>10700</th>\n",
       "      <td>0.0</td>\n",
       "      <td>4.0</td>\n",
       "      <td>35.0</td>\n",
       "      <td>54.0</td>\n",
       "      <td>7.0</td>\n",
       "      <td>NHL</td>\n",
       "      <td>1996-1997</td>\n",
       "      <td>4.0</td>\n",
       "      <td>0.114286</td>\n",
       "      <td>Craig Rivet</td>\n",
       "    </tr>\n",
       "    <tr>\n",
       "      <th>11520</th>\n",
       "      <td>0.0</td>\n",
       "      <td>2.0</td>\n",
       "      <td>61.0</td>\n",
       "      <td>93.0</td>\n",
       "      <td>-3.0</td>\n",
       "      <td>NHL</td>\n",
       "      <td>1997-1998</td>\n",
       "      <td>2.0</td>\n",
       "      <td>0.032787</td>\n",
       "      <td>Craig Rivet</td>\n",
       "    </tr>\n",
       "    <tr>\n",
       "      <th>12093</th>\n",
       "      <td>2.0</td>\n",
       "      <td>8.0</td>\n",
       "      <td>66.0</td>\n",
       "      <td>66.0</td>\n",
       "      <td>-3.0</td>\n",
       "      <td>NHL</td>\n",
       "      <td>1998-1999</td>\n",
       "      <td>10.0</td>\n",
       "      <td>0.151515</td>\n",
       "      <td>Craig Rivet</td>\n",
       "    </tr>\n",
       "    <tr>\n",
       "      <th>12848</th>\n",
       "      <td>3.0</td>\n",
       "      <td>14.0</td>\n",
       "      <td>61.0</td>\n",
       "      <td>76.0</td>\n",
       "      <td>11.0</td>\n",
       "      <td>NHL</td>\n",
       "      <td>1999-2000</td>\n",
       "      <td>17.0</td>\n",
       "      <td>0.278689</td>\n",
       "      <td>Craig Rivet</td>\n",
       "    </tr>\n",
       "    <tr>\n",
       "      <th>13991</th>\n",
       "      <td>1.0</td>\n",
       "      <td>2.0</td>\n",
       "      <td>26.0</td>\n",
       "      <td>36.0</td>\n",
       "      <td>-8.0</td>\n",
       "      <td>NHL</td>\n",
       "      <td>2000-2001</td>\n",
       "      <td>3.0</td>\n",
       "      <td>0.115385</td>\n",
       "      <td>Craig Rivet</td>\n",
       "    </tr>\n",
       "    <tr>\n",
       "      <th>14477</th>\n",
       "      <td>8.0</td>\n",
       "      <td>17.0</td>\n",
       "      <td>82.0</td>\n",
       "      <td>76.0</td>\n",
       "      <td>1.0</td>\n",
       "      <td>NHL</td>\n",
       "      <td>2001-2002</td>\n",
       "      <td>25.0</td>\n",
       "      <td>0.304878</td>\n",
       "      <td>Craig Rivet</td>\n",
       "    </tr>\n",
       "    <tr>\n",
       "      <th>15385</th>\n",
       "      <td>7.0</td>\n",
       "      <td>15.0</td>\n",
       "      <td>82.0</td>\n",
       "      <td>71.0</td>\n",
       "      <td>1.0</td>\n",
       "      <td>NHL</td>\n",
       "      <td>2002-2003</td>\n",
       "      <td>22.0</td>\n",
       "      <td>0.268293</td>\n",
       "      <td>Craig Rivet</td>\n",
       "    </tr>\n",
       "    <tr>\n",
       "      <th>16423</th>\n",
       "      <td>4.0</td>\n",
       "      <td>8.0</td>\n",
       "      <td>80.0</td>\n",
       "      <td>98.0</td>\n",
       "      <td>-1.0</td>\n",
       "      <td>NHL</td>\n",
       "      <td>2003-2004</td>\n",
       "      <td>12.0</td>\n",
       "      <td>0.150000</td>\n",
       "      <td>Craig Rivet</td>\n",
       "    </tr>\n",
       "    <tr>\n",
       "      <th>17129</th>\n",
       "      <td>7.0</td>\n",
       "      <td>27.0</td>\n",
       "      <td>82.0</td>\n",
       "      <td>109.0</td>\n",
       "      <td>-5.0</td>\n",
       "      <td>NHL</td>\n",
       "      <td>2005-2006</td>\n",
       "      <td>34.0</td>\n",
       "      <td>0.414634</td>\n",
       "      <td>Craig Rivet</td>\n",
       "    </tr>\n",
       "    <tr>\n",
       "      <th>18085</th>\n",
       "      <td>7.0</td>\n",
       "      <td>17.0</td>\n",
       "      <td>71.0</td>\n",
       "      <td>69.0</td>\n",
       "      <td>1.0</td>\n",
       "      <td>NHL</td>\n",
       "      <td>2006-2007</td>\n",
       "      <td>24.0</td>\n",
       "      <td>0.338028</td>\n",
       "      <td>Craig Rivet</td>\n",
       "    </tr>\n",
       "    <tr>\n",
       "      <th>18826</th>\n",
       "      <td>5.0</td>\n",
       "      <td>30.0</td>\n",
       "      <td>74.0</td>\n",
       "      <td>104.0</td>\n",
       "      <td>3.0</td>\n",
       "      <td>NHL</td>\n",
       "      <td>2007-2008</td>\n",
       "      <td>35.0</td>\n",
       "      <td>0.472973</td>\n",
       "      <td>Craig Rivet</td>\n",
       "    </tr>\n",
       "    <tr>\n",
       "      <th>19800</th>\n",
       "      <td>2.0</td>\n",
       "      <td>22.0</td>\n",
       "      <td>64.0</td>\n",
       "      <td>125.0</td>\n",
       "      <td>4.0</td>\n",
       "      <td>NHL</td>\n",
       "      <td>2008-2009</td>\n",
       "      <td>24.0</td>\n",
       "      <td>0.375000</td>\n",
       "      <td>Craig Rivet</td>\n",
       "    </tr>\n",
       "    <tr>\n",
       "      <th>20816</th>\n",
       "      <td>1.0</td>\n",
       "      <td>14.0</td>\n",
       "      <td>78.0</td>\n",
       "      <td>100.0</td>\n",
       "      <td>-6.0</td>\n",
       "      <td>NHL</td>\n",
       "      <td>2009-2010</td>\n",
       "      <td>15.0</td>\n",
       "      <td>0.192308</td>\n",
       "      <td>Craig Rivet</td>\n",
       "    </tr>\n",
       "    <tr>\n",
       "      <th>21893</th>\n",
       "      <td>2.0</td>\n",
       "      <td>2.0</td>\n",
       "      <td>37.0</td>\n",
       "      <td>35.0</td>\n",
       "      <td>-12.0</td>\n",
       "      <td>NHL</td>\n",
       "      <td>2010-2011</td>\n",
       "      <td>4.0</td>\n",
       "      <td>0.108108</td>\n",
       "      <td>Craig Rivet</td>\n",
       "    </tr>\n",
       "    <tr>\n",
       "      <th>34972</th>\n",
       "      <td>0.0</td>\n",
       "      <td>2.0</td>\n",
       "      <td>4.0</td>\n",
       "      <td>2.0</td>\n",
       "      <td>-2.0</td>\n",
       "      <td>AHL</td>\n",
       "      <td>1993-1994</td>\n",
       "      <td>2.0</td>\n",
       "      <td>0.500000</td>\n",
       "      <td>Craig Rivet</td>\n",
       "    </tr>\n",
       "    <tr>\n",
       "      <th>35238</th>\n",
       "      <td>5.0</td>\n",
       "      <td>27.0</td>\n",
       "      <td>78.0</td>\n",
       "      <td>126.0</td>\n",
       "      <td>-5.0</td>\n",
       "      <td>AHL</td>\n",
       "      <td>1994-1995</td>\n",
       "      <td>32.0</td>\n",
       "      <td>0.410256</td>\n",
       "      <td>Craig Rivet</td>\n",
       "    </tr>\n",
       "    <tr>\n",
       "      <th>35849</th>\n",
       "      <td>5.0</td>\n",
       "      <td>18.0</td>\n",
       "      <td>49.0</td>\n",
       "      <td>189.0</td>\n",
       "      <td>1.0</td>\n",
       "      <td>AHL</td>\n",
       "      <td>1995-1996</td>\n",
       "      <td>23.0</td>\n",
       "      <td>0.469388</td>\n",
       "      <td>Craig Rivet</td>\n",
       "    </tr>\n",
       "    <tr>\n",
       "      <th>36522</th>\n",
       "      <td>3.0</td>\n",
       "      <td>12.0</td>\n",
       "      <td>23.0</td>\n",
       "      <td>99.0</td>\n",
       "      <td>6.0</td>\n",
       "      <td>AHL</td>\n",
       "      <td>1996-1997</td>\n",
       "      <td>15.0</td>\n",
       "      <td>0.652174</td>\n",
       "      <td>Craig Rivet</td>\n",
       "    </tr>\n",
       "    <tr>\n",
       "      <th>71531</th>\n",
       "      <td>5.0</td>\n",
       "      <td>19.0</td>\n",
       "      <td>61.0</td>\n",
       "      <td>102.0</td>\n",
       "      <td>11.0</td>\n",
       "      <td>ECHL</td>\n",
       "      <td>2011-2012</td>\n",
       "      <td>24.0</td>\n",
       "      <td>0.393443</td>\n",
       "      <td>Craig Rivet</td>\n",
       "    </tr>\n",
       "    <tr>\n",
       "      <th>178486</th>\n",
       "      <td>5.0</td>\n",
       "      <td>21.0</td>\n",
       "      <td>66.0</td>\n",
       "      <td>97.0</td>\n",
       "      <td>NaN</td>\n",
       "      <td>OHL</td>\n",
       "      <td>1991-1992</td>\n",
       "      <td>26.0</td>\n",
       "      <td>0.393939</td>\n",
       "      <td>Craig Rivet</td>\n",
       "    </tr>\n",
       "    <tr>\n",
       "      <th>178763</th>\n",
       "      <td>19.0</td>\n",
       "      <td>55.0</td>\n",
       "      <td>64.0</td>\n",
       "      <td>117.0</td>\n",
       "      <td>NaN</td>\n",
       "      <td>OHL</td>\n",
       "      <td>1992-1993</td>\n",
       "      <td>74.0</td>\n",
       "      <td>1.156250</td>\n",
       "      <td>Craig Rivet</td>\n",
       "    </tr>\n",
       "    <tr>\n",
       "      <th>179172</th>\n",
       "      <td>12.0</td>\n",
       "      <td>52.0</td>\n",
       "      <td>61.0</td>\n",
       "      <td>100.0</td>\n",
       "      <td>NaN</td>\n",
       "      <td>OHL</td>\n",
       "      <td>1993-1994</td>\n",
       "      <td>64.0</td>\n",
       "      <td>1.049180</td>\n",
       "      <td>Craig Rivet</td>\n",
       "    </tr>\n",
       "    <tr>\n",
       "      <th>274862</th>\n",
       "      <td>3.0</td>\n",
       "      <td>1.0</td>\n",
       "      <td>18.0</td>\n",
       "      <td>28.0</td>\n",
       "      <td>3.0</td>\n",
       "      <td>LIIGA</td>\n",
       "      <td>2004-2005</td>\n",
       "      <td>4.0</td>\n",
       "      <td>0.222222</td>\n",
       "      <td>Craig Rivet</td>\n",
       "    </tr>\n",
       "  </tbody>\n",
       "</table>\n",
       "</div>"
      ],
      "text/plain": [
       "           G     A    GP    PIM   +/- LEAGUE LEAGUE_YEAR     P       PPG  \\\n",
       "9233     0.0   1.0   5.0    5.0   2.0    NHL   1994-1995   1.0  0.200000   \n",
       "9894     1.0   4.0  19.0   54.0   4.0    NHL   1995-1996   5.0  0.263158   \n",
       "10700    0.0   4.0  35.0   54.0   7.0    NHL   1996-1997   4.0  0.114286   \n",
       "11520    0.0   2.0  61.0   93.0  -3.0    NHL   1997-1998   2.0  0.032787   \n",
       "12093    2.0   8.0  66.0   66.0  -3.0    NHL   1998-1999  10.0  0.151515   \n",
       "12848    3.0  14.0  61.0   76.0  11.0    NHL   1999-2000  17.0  0.278689   \n",
       "13991    1.0   2.0  26.0   36.0  -8.0    NHL   2000-2001   3.0  0.115385   \n",
       "14477    8.0  17.0  82.0   76.0   1.0    NHL   2001-2002  25.0  0.304878   \n",
       "15385    7.0  15.0  82.0   71.0   1.0    NHL   2002-2003  22.0  0.268293   \n",
       "16423    4.0   8.0  80.0   98.0  -1.0    NHL   2003-2004  12.0  0.150000   \n",
       "17129    7.0  27.0  82.0  109.0  -5.0    NHL   2005-2006  34.0  0.414634   \n",
       "18085    7.0  17.0  71.0   69.0   1.0    NHL   2006-2007  24.0  0.338028   \n",
       "18826    5.0  30.0  74.0  104.0   3.0    NHL   2007-2008  35.0  0.472973   \n",
       "19800    2.0  22.0  64.0  125.0   4.0    NHL   2008-2009  24.0  0.375000   \n",
       "20816    1.0  14.0  78.0  100.0  -6.0    NHL   2009-2010  15.0  0.192308   \n",
       "21893    2.0   2.0  37.0   35.0 -12.0    NHL   2010-2011   4.0  0.108108   \n",
       "34972    0.0   2.0   4.0    2.0  -2.0    AHL   1993-1994   2.0  0.500000   \n",
       "35238    5.0  27.0  78.0  126.0  -5.0    AHL   1994-1995  32.0  0.410256   \n",
       "35849    5.0  18.0  49.0  189.0   1.0    AHL   1995-1996  23.0  0.469388   \n",
       "36522    3.0  12.0  23.0   99.0   6.0    AHL   1996-1997  15.0  0.652174   \n",
       "71531    5.0  19.0  61.0  102.0  11.0   ECHL   2011-2012  24.0  0.393443   \n",
       "178486   5.0  21.0  66.0   97.0   NaN    OHL   1991-1992  26.0  0.393939   \n",
       "178763  19.0  55.0  64.0  117.0   NaN    OHL   1992-1993  74.0  1.156250   \n",
       "179172  12.0  52.0  61.0  100.0   NaN    OHL   1993-1994  64.0  1.049180   \n",
       "274862   3.0   1.0  18.0   28.0   3.0  LIIGA   2004-2005   4.0  0.222222   \n",
       "\n",
       "             player  \n",
       "9233    Craig Rivet  \n",
       "9894    Craig Rivet  \n",
       "10700   Craig Rivet  \n",
       "11520   Craig Rivet  \n",
       "12093   Craig Rivet  \n",
       "12848   Craig Rivet  \n",
       "13991   Craig Rivet  \n",
       "14477   Craig Rivet  \n",
       "15385   Craig Rivet  \n",
       "16423   Craig Rivet  \n",
       "17129   Craig Rivet  \n",
       "18085   Craig Rivet  \n",
       "18826   Craig Rivet  \n",
       "19800   Craig Rivet  \n",
       "20816   Craig Rivet  \n",
       "21893   Craig Rivet  \n",
       "34972   Craig Rivet  \n",
       "35238   Craig Rivet  \n",
       "35849   Craig Rivet  \n",
       "36522   Craig Rivet  \n",
       "71531   Craig Rivet  \n",
       "178486  Craig Rivet  \n",
       "178763  Craig Rivet  \n",
       "179172  Craig Rivet  \n",
       "274862  Craig Rivet  "
      ]
     },
     "execution_count": 1684,
     "metadata": {},
     "output_type": "execute_result"
    }
   ],
   "source": [
    "#I will explore Craig Rivet stats as a case study\n",
    "junior_data[junior_data.player=='Craig Rivet']"
   ]
  },
  {
   "attachments": {},
   "cell_type": "markdown",
   "metadata": {},
   "source": [
    "FOr this example, we only want the OHL data. We also have three seasons. We could either take the most recent season or an average of all seasons.\n",
    "Because the most recent season often is the most important for the draft year, we will only keep the most recent season.\n",
    "\n",
    "First, lets filter out att data that is not junior level. Lets look at the types of leaugues"
   ]
  },
  {
   "cell_type": "code",
   "execution_count": null,
   "metadata": {},
   "outputs": [
    {
     "data": {
      "text/plain": [
       "array(['NHL', 'AHL', 'ECHL', 'NCAA', 'KHL', 'USHL', 'WHL', 'BCHL', 'OHL',\n",
       "       'QMJHL', 'AJHL', 'MJHL', 'SIJHL', 'SJHL', 'CCHL', 'NOJHL', 'OJHL',\n",
       "       'MJAHL', 'QJAAAHL', 'SHL', 'LIIGA', 'NLA', 'DEL', 'CZECH',\n",
       "       'USHS-PREP', 'USHS-MN', 'USHS-MI', 'USHS-NY', 'USHS-MA'],\n",
       "      dtype=object)"
      ]
     },
     "execution_count": 1685,
     "metadata": {},
     "output_type": "execute_result"
    }
   ],
   "source": [
    "junior_data.LEAGUE.unique()"
   ]
  },
  {
   "cell_type": "code",
   "execution_count": null,
   "metadata": {},
   "outputs": [
    {
     "data": {
      "text/html": [
       "<div>\n",
       "<style scoped>\n",
       "    .dataframe tbody tr th:only-of-type {\n",
       "        vertical-align: middle;\n",
       "    }\n",
       "\n",
       "    .dataframe tbody tr th {\n",
       "        vertical-align: top;\n",
       "    }\n",
       "\n",
       "    .dataframe thead th {\n",
       "        text-align: right;\n",
       "    }\n",
       "</style>\n",
       "<table border=\"1\" class=\"dataframe\">\n",
       "  <thead>\n",
       "    <tr style=\"text-align: right;\">\n",
       "      <th></th>\n",
       "      <th>G</th>\n",
       "      <th>A</th>\n",
       "      <th>GP</th>\n",
       "      <th>PIM</th>\n",
       "      <th>+/-</th>\n",
       "      <th>LEAGUE</th>\n",
       "      <th>LEAGUE_YEAR</th>\n",
       "      <th>P</th>\n",
       "      <th>PPG</th>\n",
       "      <th>player</th>\n",
       "    </tr>\n",
       "  </thead>\n",
       "  <tbody>\n",
       "    <tr>\n",
       "      <th>77973</th>\n",
       "      <td>50.0</td>\n",
       "      <td>34.0</td>\n",
       "      <td>42.0</td>\n",
       "      <td>59.0</td>\n",
       "      <td>NaN</td>\n",
       "      <td>NCAA</td>\n",
       "      <td>1981-1982</td>\n",
       "      <td>84.0</td>\n",
       "      <td>2.000000</td>\n",
       "      <td>Ed Beers</td>\n",
       "    </tr>\n",
       "    <tr>\n",
       "      <th>77974</th>\n",
       "      <td>26.0</td>\n",
       "      <td>57.0</td>\n",
       "      <td>43.0</td>\n",
       "      <td>40.0</td>\n",
       "      <td>NaN</td>\n",
       "      <td>NCAA</td>\n",
       "      <td>1981-1982</td>\n",
       "      <td>83.0</td>\n",
       "      <td>1.930233</td>\n",
       "      <td>Donald Fraser</td>\n",
       "    </tr>\n",
       "    <tr>\n",
       "      <th>77975</th>\n",
       "      <td>34.0</td>\n",
       "      <td>47.0</td>\n",
       "      <td>41.0</td>\n",
       "      <td>41.0</td>\n",
       "      <td>NaN</td>\n",
       "      <td>NCAA</td>\n",
       "      <td>1981-1982</td>\n",
       "      <td>81.0</td>\n",
       "      <td>1.975610</td>\n",
       "      <td>Brian Hills</td>\n",
       "    </tr>\n",
       "    <tr>\n",
       "      <th>77976</th>\n",
       "      <td>28.0</td>\n",
       "      <td>52.0</td>\n",
       "      <td>40.0</td>\n",
       "      <td>57.0</td>\n",
       "      <td>NaN</td>\n",
       "      <td>NCAA</td>\n",
       "      <td>1981-1982</td>\n",
       "      <td>80.0</td>\n",
       "      <td>2.000000</td>\n",
       "      <td>George McPhee</td>\n",
       "    </tr>\n",
       "    <tr>\n",
       "      <th>77977</th>\n",
       "      <td>37.0</td>\n",
       "      <td>37.0</td>\n",
       "      <td>34.0</td>\n",
       "      <td>23.0</td>\n",
       "      <td>NaN</td>\n",
       "      <td>NCAA</td>\n",
       "      <td>1981-1982</td>\n",
       "      <td>74.0</td>\n",
       "      <td>2.176471</td>\n",
       "      <td>Ed Collazzo</td>\n",
       "    </tr>\n",
       "  </tbody>\n",
       "</table>\n",
       "</div>"
      ],
      "text/plain": [
       "          G     A    GP   PIM  +/- LEAGUE LEAGUE_YEAR     P       PPG  \\\n",
       "77973  50.0  34.0  42.0  59.0  NaN   NCAA   1981-1982  84.0  2.000000   \n",
       "77974  26.0  57.0  43.0  40.0  NaN   NCAA   1981-1982  83.0  1.930233   \n",
       "77975  34.0  47.0  41.0  41.0  NaN   NCAA   1981-1982  81.0  1.975610   \n",
       "77976  28.0  52.0  40.0  57.0  NaN   NCAA   1981-1982  80.0  2.000000   \n",
       "77977  37.0  37.0  34.0  23.0  NaN   NCAA   1981-1982  74.0  2.176471   \n",
       "\n",
       "              player  \n",
       "77973       Ed Beers  \n",
       "77974  Donald Fraser  \n",
       "77975    Brian Hills  \n",
       "77976  George McPhee  \n",
       "77977    Ed Collazzo  "
      ]
     },
     "execution_count": 1686,
     "metadata": {},
     "output_type": "execute_result"
    }
   ],
   "source": [
    "#These are all of the junior leagues that we will keep\n",
    "junior_leagues=['NCAA','USHL','WHL','BCHL','OHL','QMJHL','AJHL','MJHL','SIJHL', 'SJHL', 'CCHL', 'NOJHL', 'OJHL',\n",
    "       'MJAHL', 'QJAAAHL']\n",
    "\n",
    "\n",
    "junior_data=junior_data[junior_data.LEAGUE.isin(junior_leagues)]\n",
    "junior_data.head()"
   ]
  },
  {
   "cell_type": "code",
   "execution_count": null,
   "metadata": {},
   "outputs": [
    {
     "data": {
      "text/html": [
       "<div>\n",
       "<style scoped>\n",
       "    .dataframe tbody tr th:only-of-type {\n",
       "        vertical-align: middle;\n",
       "    }\n",
       "\n",
       "    .dataframe tbody tr th {\n",
       "        vertical-align: top;\n",
       "    }\n",
       "\n",
       "    .dataframe thead th {\n",
       "        text-align: right;\n",
       "    }\n",
       "</style>\n",
       "<table border=\"1\" class=\"dataframe\">\n",
       "  <thead>\n",
       "    <tr style=\"text-align: right;\">\n",
       "      <th></th>\n",
       "      <th>G</th>\n",
       "      <th>A</th>\n",
       "      <th>GP</th>\n",
       "      <th>PIM</th>\n",
       "      <th>+/-</th>\n",
       "      <th>LEAGUE</th>\n",
       "      <th>LEAGUE_YEAR</th>\n",
       "      <th>P</th>\n",
       "      <th>PPG</th>\n",
       "      <th>player</th>\n",
       "      <th>start_year</th>\n",
       "    </tr>\n",
       "  </thead>\n",
       "  <tbody>\n",
       "    <tr>\n",
       "      <th>77973</th>\n",
       "      <td>50.0</td>\n",
       "      <td>34.0</td>\n",
       "      <td>42.0</td>\n",
       "      <td>59.0</td>\n",
       "      <td>NaN</td>\n",
       "      <td>NCAA</td>\n",
       "      <td>1981-1982</td>\n",
       "      <td>84.0</td>\n",
       "      <td>2.000000</td>\n",
       "      <td>Ed Beers</td>\n",
       "      <td>1981</td>\n",
       "    </tr>\n",
       "    <tr>\n",
       "      <th>77974</th>\n",
       "      <td>26.0</td>\n",
       "      <td>57.0</td>\n",
       "      <td>43.0</td>\n",
       "      <td>40.0</td>\n",
       "      <td>NaN</td>\n",
       "      <td>NCAA</td>\n",
       "      <td>1981-1982</td>\n",
       "      <td>83.0</td>\n",
       "      <td>1.930233</td>\n",
       "      <td>Donald Fraser</td>\n",
       "      <td>1981</td>\n",
       "    </tr>\n",
       "    <tr>\n",
       "      <th>77975</th>\n",
       "      <td>34.0</td>\n",
       "      <td>47.0</td>\n",
       "      <td>41.0</td>\n",
       "      <td>41.0</td>\n",
       "      <td>NaN</td>\n",
       "      <td>NCAA</td>\n",
       "      <td>1981-1982</td>\n",
       "      <td>81.0</td>\n",
       "      <td>1.975610</td>\n",
       "      <td>Brian Hills</td>\n",
       "      <td>1981</td>\n",
       "    </tr>\n",
       "    <tr>\n",
       "      <th>77976</th>\n",
       "      <td>28.0</td>\n",
       "      <td>52.0</td>\n",
       "      <td>40.0</td>\n",
       "      <td>57.0</td>\n",
       "      <td>NaN</td>\n",
       "      <td>NCAA</td>\n",
       "      <td>1981-1982</td>\n",
       "      <td>80.0</td>\n",
       "      <td>2.000000</td>\n",
       "      <td>George McPhee</td>\n",
       "      <td>1981</td>\n",
       "    </tr>\n",
       "    <tr>\n",
       "      <th>77977</th>\n",
       "      <td>37.0</td>\n",
       "      <td>37.0</td>\n",
       "      <td>34.0</td>\n",
       "      <td>23.0</td>\n",
       "      <td>NaN</td>\n",
       "      <td>NCAA</td>\n",
       "      <td>1981-1982</td>\n",
       "      <td>74.0</td>\n",
       "      <td>2.176471</td>\n",
       "      <td>Ed Collazzo</td>\n",
       "      <td>1981</td>\n",
       "    </tr>\n",
       "  </tbody>\n",
       "</table>\n",
       "</div>"
      ],
      "text/plain": [
       "          G     A    GP   PIM  +/- LEAGUE LEAGUE_YEAR     P       PPG  \\\n",
       "77973  50.0  34.0  42.0  59.0  NaN   NCAA   1981-1982  84.0  2.000000   \n",
       "77974  26.0  57.0  43.0  40.0  NaN   NCAA   1981-1982  83.0  1.930233   \n",
       "77975  34.0  47.0  41.0  41.0  NaN   NCAA   1981-1982  81.0  1.975610   \n",
       "77976  28.0  52.0  40.0  57.0  NaN   NCAA   1981-1982  80.0  2.000000   \n",
       "77977  37.0  37.0  34.0  23.0  NaN   NCAA   1981-1982  74.0  2.176471   \n",
       "\n",
       "              player start_year  \n",
       "77973       Ed Beers       1981  \n",
       "77974  Donald Fraser       1981  \n",
       "77975    Brian Hills       1981  \n",
       "77976  George McPhee       1981  \n",
       "77977    Ed Collazzo       1981  "
      ]
     },
     "execution_count": 1687,
     "metadata": {},
     "output_type": "execute_result"
    }
   ],
   "source": [
    "#Now we only want to keep the most recent season for the player. First we need to convert the league year to a year column and sort by year\n",
    "#First lets grab the start year\n",
    "junior_data['start_year']=junior_data.LEAGUE_YEAR.apply(lambda x: x.split('-')[0])\n",
    "junior_data.head()"
   ]
  },
  {
   "cell_type": "code",
   "execution_count": null,
   "metadata": {},
   "outputs": [],
   "source": [
    "#Now lets convert to a date\n",
    "from datetime import datetime\n",
    "\n",
    "junior_data.start_year = junior_data.start_year.apply(lambda x: datetime.strptime(x, '%Y'))"
   ]
  },
  {
   "attachments": {},
   "cell_type": "markdown",
   "metadata": {},
   "source": [
    "We face a challenge when trying to merge the junior stats with the nhl draft picks - Many players have the same name, which is the key that\n",
    "the tables are joined on. I investigated some repeat names between the two datasets and found that most of the time the two tables share the most recent player draft and junior data. So, if we sort the tables by year and drop duplicates then we should join properly. "
   ]
  },
  {
   "cell_type": "code",
   "execution_count": null,
   "metadata": {},
   "outputs": [],
   "source": [
    "#Finally, lets sort by year and drop all duplicates based on name except the first year\n",
    "junior_data=junior_data.sort_values(by='start_year',ascending=False).reset_index()\n",
    "\n",
    "#Now, drop all duplicates and keep the first\n",
    "\n",
    "junior_data.drop_duplicates(subset='player',keep='first',inplace=True)\n",
    "\n",
    "#We need to do the same thing with the draft picks\n",
    "df.year=df.year.astype(str)\n",
    "df.year = df.year.apply(lambda x: datetime.strptime(x, '%Y'))\n",
    "df=df.sort_values(by='year',ascending=False).reset_index()\n",
    "\n",
    "#Now, drop all duplicates and keep the first\n",
    "\n",
    "df.drop_duplicates(subset='player',keep='first',inplace=True)\n"
   ]
  },
  {
   "cell_type": "code",
   "execution_count": null,
   "metadata": {},
   "outputs": [
    {
     "data": {
      "text/html": [
       "<div>\n",
       "<style scoped>\n",
       "    .dataframe tbody tr th:only-of-type {\n",
       "        vertical-align: middle;\n",
       "    }\n",
       "\n",
       "    .dataframe tbody tr th {\n",
       "        vertical-align: top;\n",
       "    }\n",
       "\n",
       "    .dataframe thead th {\n",
       "        text-align: right;\n",
       "    }\n",
       "</style>\n",
       "<table border=\"1\" class=\"dataframe\">\n",
       "  <thead>\n",
       "    <tr style=\"text-align: right;\">\n",
       "      <th></th>\n",
       "      <th>index_x</th>\n",
       "      <th>id</th>\n",
       "      <th>year</th>\n",
       "      <th>overall_pick</th>\n",
       "      <th>team</th>\n",
       "      <th>player</th>\n",
       "      <th>nationality</th>\n",
       "      <th>position</th>\n",
       "      <th>age</th>\n",
       "      <th>amateur_team</th>\n",
       "      <th>...</th>\n",
       "      <th>G</th>\n",
       "      <th>A</th>\n",
       "      <th>GP</th>\n",
       "      <th>PIM</th>\n",
       "      <th>+/-</th>\n",
       "      <th>LEAGUE</th>\n",
       "      <th>LEAGUE_YEAR</th>\n",
       "      <th>P</th>\n",
       "      <th>PPG</th>\n",
       "      <th>start_year</th>\n",
       "    </tr>\n",
       "  </thead>\n",
       "  <tbody>\n",
       "    <tr>\n",
       "      <th>0</th>\n",
       "      <td>144</td>\n",
       "      <td>145</td>\n",
       "      <td>2022-01-01</td>\n",
       "      <td>145</td>\n",
       "      <td>Vegas Golden Knights</td>\n",
       "      <td>Patrick Guay</td>\n",
       "      <td>CA</td>\n",
       "      <td>C</td>\n",
       "      <td>20.0</td>\n",
       "      <td>Charlottetown Islanders (QMJHL)</td>\n",
       "      <td>...</td>\n",
       "      <td>18.0</td>\n",
       "      <td>18.0</td>\n",
       "      <td>54.0</td>\n",
       "      <td>16.0</td>\n",
       "      <td>-16.0</td>\n",
       "      <td>QMJHL</td>\n",
       "      <td>2018-2019</td>\n",
       "      <td>36.0</td>\n",
       "      <td>0.666667</td>\n",
       "      <td>2018-01-01</td>\n",
       "    </tr>\n",
       "    <tr>\n",
       "      <th>1</th>\n",
       "      <td>145</td>\n",
       "      <td>146</td>\n",
       "      <td>2022-01-01</td>\n",
       "      <td>146</td>\n",
       "      <td>Nashville Predators</td>\n",
       "      <td>Graham Sward</td>\n",
       "      <td>CA</td>\n",
       "      <td>D</td>\n",
       "      <td>19.0</td>\n",
       "      <td>Spokane Chiefs (WHL)</td>\n",
       "      <td>...</td>\n",
       "      <td>1.0</td>\n",
       "      <td>0.0</td>\n",
       "      <td>1.0</td>\n",
       "      <td>0.0</td>\n",
       "      <td>2.0</td>\n",
       "      <td>WHL</td>\n",
       "      <td>2018-2019</td>\n",
       "      <td>1.0</td>\n",
       "      <td>1.000000</td>\n",
       "      <td>2018-01-01</td>\n",
       "    </tr>\n",
       "    <tr>\n",
       "      <th>2</th>\n",
       "      <td>129</td>\n",
       "      <td>130</td>\n",
       "      <td>2022-01-01</td>\n",
       "      <td>130</td>\n",
       "      <td>Montreal Canadiens</td>\n",
       "      <td>Jared Davidson</td>\n",
       "      <td>CA</td>\n",
       "      <td>C</td>\n",
       "      <td>20.0</td>\n",
       "      <td>Seattle Thunderbirds (WHL)</td>\n",
       "      <td>...</td>\n",
       "      <td>2.0</td>\n",
       "      <td>2.0</td>\n",
       "      <td>48.0</td>\n",
       "      <td>22.0</td>\n",
       "      <td>-9.0</td>\n",
       "      <td>WHL</td>\n",
       "      <td>2018-2019</td>\n",
       "      <td>4.0</td>\n",
       "      <td>0.083333</td>\n",
       "      <td>2018-01-01</td>\n",
       "    </tr>\n",
       "    <tr>\n",
       "      <th>3</th>\n",
       "      <td>113</td>\n",
       "      <td>114</td>\n",
       "      <td>2022-01-01</td>\n",
       "      <td>114</td>\n",
       "      <td>Nashville Predators</td>\n",
       "      <td>Cole O'Hara</td>\n",
       "      <td>CA</td>\n",
       "      <td>RW</td>\n",
       "      <td>20.0</td>\n",
       "      <td>Tri-City Storm (USHL)</td>\n",
       "      <td>...</td>\n",
       "      <td>11.0</td>\n",
       "      <td>31.0</td>\n",
       "      <td>53.0</td>\n",
       "      <td>24.0</td>\n",
       "      <td>NaN</td>\n",
       "      <td>OJHL</td>\n",
       "      <td>2018-2019</td>\n",
       "      <td>42.0</td>\n",
       "      <td>0.792453</td>\n",
       "      <td>2018-01-01</td>\n",
       "    </tr>\n",
       "    <tr>\n",
       "      <th>4</th>\n",
       "      <td>172</td>\n",
       "      <td>173</td>\n",
       "      <td>2022-01-01</td>\n",
       "      <td>173</td>\n",
       "      <td>Chicago Blackhawks</td>\n",
       "      <td>Dominic James</td>\n",
       "      <td>US</td>\n",
       "      <td>C</td>\n",
       "      <td>20.0</td>\n",
       "      <td>Minnesota-Duluth (NCHC)</td>\n",
       "      <td>...</td>\n",
       "      <td>0.0</td>\n",
       "      <td>0.0</td>\n",
       "      <td>2.0</td>\n",
       "      <td>2.0</td>\n",
       "      <td>-2.0</td>\n",
       "      <td>USHL</td>\n",
       "      <td>2018-2019</td>\n",
       "      <td>0.0</td>\n",
       "      <td>0.000000</td>\n",
       "      <td>2018-01-01</td>\n",
       "    </tr>\n",
       "  </tbody>\n",
       "</table>\n",
       "<p>5 rows × 21 columns</p>\n",
       "</div>"
      ],
      "text/plain": [
       "   index_x   id       year  overall_pick                  team  \\\n",
       "0      144  145 2022-01-01           145  Vegas Golden Knights   \n",
       "1      145  146 2022-01-01           146   Nashville Predators   \n",
       "2      129  130 2022-01-01           130    Montreal Canadiens   \n",
       "3      113  114 2022-01-01           114   Nashville Predators   \n",
       "4      172  173 2022-01-01           173    Chicago Blackhawks   \n",
       "\n",
       "           player nationality position   age                     amateur_team  \\\n",
       "0    Patrick Guay          CA        C  20.0  Charlottetown Islanders (QMJHL)   \n",
       "1    Graham Sward          CA        D  19.0             Spokane Chiefs (WHL)   \n",
       "2  Jared Davidson          CA        C  20.0       Seattle Thunderbirds (WHL)   \n",
       "3     Cole O'Hara          CA       RW  20.0            Tri-City Storm (USHL)   \n",
       "4   Dominic James          US        C  20.0          Minnesota-Duluth (NCHC)   \n",
       "\n",
       "   ...     G     A    GP   PIM   +/-  LEAGUE LEAGUE_YEAR     P       PPG  \\\n",
       "0  ...  18.0  18.0  54.0  16.0 -16.0   QMJHL   2018-2019  36.0  0.666667   \n",
       "1  ...   1.0   0.0   1.0   0.0   2.0     WHL   2018-2019   1.0  1.000000   \n",
       "2  ...   2.0   2.0  48.0  22.0  -9.0     WHL   2018-2019   4.0  0.083333   \n",
       "3  ...  11.0  31.0  53.0  24.0   NaN    OJHL   2018-2019  42.0  0.792453   \n",
       "4  ...   0.0   0.0   2.0   2.0  -2.0    USHL   2018-2019   0.0  0.000000   \n",
       "\n",
       "   start_year  \n",
       "0  2018-01-01  \n",
       "1  2018-01-01  \n",
       "2  2018-01-01  \n",
       "3  2018-01-01  \n",
       "4  2018-01-01  \n",
       "\n",
       "[5 rows x 21 columns]"
      ]
     },
     "execution_count": 1690,
     "metadata": {},
     "output_type": "execute_result"
    }
   ],
   "source": [
    "#Now, lets merge it the the dataframe with nhl picks.\n",
    "\n",
    "df=pd.merge(df,junior_data,on='player')\n",
    "\n",
    "df.head()"
   ]
  },
  {
   "cell_type": "code",
   "execution_count": null,
   "metadata": {},
   "outputs": [
    {
     "data": {
      "text/plain": [
       "Index(['index_x', 'id', 'year', 'overall_pick', 'team', 'player',\n",
       "       'nationality', 'position', 'age', 'amateur_team', 'index_y', 'G', 'A',\n",
       "       'GP', 'PIM', '+/-', 'LEAGUE', 'LEAGUE_YEAR', 'P', 'PPG', 'start_year'],\n",
       "      dtype='object')"
      ]
     },
     "execution_count": 1691,
     "metadata": {},
     "output_type": "execute_result"
    }
   ],
   "source": [
    "#Lets look at the columns\n",
    "df.columns"
   ]
  },
  {
   "cell_type": "code",
   "execution_count": null,
   "metadata": {},
   "outputs": [
    {
     "name": "stdout",
     "output_type": "stream",
     "text": [
      "<class 'pandas.core.frame.DataFrame'>\n",
      "Int64Index: 6200 entries, 0 to 6199\n",
      "Data columns (total 21 columns):\n",
      " #   Column        Non-Null Count  Dtype         \n",
      "---  ------        --------------  -----         \n",
      " 0   index_x       6200 non-null   int64         \n",
      " 1   id            6200 non-null   int64         \n",
      " 2   year          6200 non-null   datetime64[ns]\n",
      " 3   overall_pick  6200 non-null   int64         \n",
      " 4   team          6200 non-null   object        \n",
      " 5   player        6200 non-null   object        \n",
      " 6   nationality   6200 non-null   object        \n",
      " 7   position      6191 non-null   object        \n",
      " 8   age           4390 non-null   float64       \n",
      " 9   amateur_team  6200 non-null   object        \n",
      " 10  index_y       6200 non-null   int64         \n",
      " 11  G             6171 non-null   float64       \n",
      " 12  A             6170 non-null   float64       \n",
      " 13  GP            6170 non-null   float64       \n",
      " 14  PIM           6168 non-null   float64       \n",
      " 15  +/-           3750 non-null   float64       \n",
      " 16  LEAGUE        6200 non-null   object        \n",
      " 17  LEAGUE_YEAR   6200 non-null   object        \n",
      " 18  P             6170 non-null   float64       \n",
      " 19  PPG           6154 non-null   float64       \n",
      " 20  start_year    6200 non-null   datetime64[ns]\n",
      "dtypes: datetime64[ns](2), float64(8), int64(4), object(7)\n",
      "memory usage: 1.0+ MB\n"
     ]
    }
   ],
   "source": [
    "#I want to look at any null values\n",
    "df.info()"
   ]
  },
  {
   "attachments": {},
   "cell_type": "markdown",
   "metadata": {},
   "source": [
    "It looks like most of the data is there. Lets drop age column as most players are drafted around 18 years old\n",
    "\n",
    "Lets also drop +/- as we are missing half of the data\n",
    "\n",
    "Lets also drop PPG as we have games and points so this information is redundant"
   ]
  },
  {
   "cell_type": "code",
   "execution_count": null,
   "metadata": {},
   "outputs": [],
   "source": [
    "df.drop(columns={'age','+/-','PPG'},inplace=True)"
   ]
  },
  {
   "cell_type": "code",
   "execution_count": null,
   "metadata": {},
   "outputs": [
    {
     "name": "stdout",
     "output_type": "stream",
     "text": [
      "<class 'pandas.core.frame.DataFrame'>\n",
      "Int64Index: 6200 entries, 0 to 6199\n",
      "Data columns (total 18 columns):\n",
      " #   Column        Non-Null Count  Dtype         \n",
      "---  ------        --------------  -----         \n",
      " 0   index_x       6200 non-null   int64         \n",
      " 1   id            6200 non-null   int64         \n",
      " 2   year          6200 non-null   datetime64[ns]\n",
      " 3   overall_pick  6200 non-null   int64         \n",
      " 4   team          6200 non-null   object        \n",
      " 5   player        6200 non-null   object        \n",
      " 6   nationality   6200 non-null   object        \n",
      " 7   position      6191 non-null   object        \n",
      " 8   amateur_team  6200 non-null   object        \n",
      " 9   index_y       6200 non-null   int64         \n",
      " 10  G             6171 non-null   float64       \n",
      " 11  A             6170 non-null   float64       \n",
      " 12  GP            6170 non-null   float64       \n",
      " 13  PIM           6168 non-null   float64       \n",
      " 14  LEAGUE        6200 non-null   object        \n",
      " 15  LEAGUE_YEAR   6200 non-null   object        \n",
      " 16  P             6170 non-null   float64       \n",
      " 17  start_year    6200 non-null   datetime64[ns]\n",
      "dtypes: datetime64[ns](2), float64(5), int64(4), object(7)\n",
      "memory usage: 920.3+ KB\n"
     ]
    }
   ],
   "source": [
    "df.info()\n",
    " "
   ]
  },
  {
   "cell_type": "code",
   "execution_count": null,
   "metadata": {},
   "outputs": [
    {
     "data": {
      "text/html": [
       "<div>\n",
       "<style scoped>\n",
       "    .dataframe tbody tr th:only-of-type {\n",
       "        vertical-align: middle;\n",
       "    }\n",
       "\n",
       "    .dataframe tbody tr th {\n",
       "        vertical-align: top;\n",
       "    }\n",
       "\n",
       "    .dataframe thead th {\n",
       "        text-align: right;\n",
       "    }\n",
       "</style>\n",
       "<table border=\"1\" class=\"dataframe\">\n",
       "  <thead>\n",
       "    <tr style=\"text-align: right;\">\n",
       "      <th></th>\n",
       "      <th>index_x</th>\n",
       "      <th>id</th>\n",
       "      <th>year</th>\n",
       "      <th>overall_pick</th>\n",
       "      <th>team</th>\n",
       "      <th>player</th>\n",
       "      <th>nationality</th>\n",
       "      <th>position</th>\n",
       "      <th>amateur_team</th>\n",
       "      <th>index_y</th>\n",
       "      <th>G</th>\n",
       "      <th>A</th>\n",
       "      <th>GP</th>\n",
       "      <th>PIM</th>\n",
       "      <th>LEAGUE</th>\n",
       "      <th>LEAGUE_YEAR</th>\n",
       "      <th>P</th>\n",
       "      <th>start_year</th>\n",
       "    </tr>\n",
       "  </thead>\n",
       "  <tbody>\n",
       "    <tr>\n",
       "      <th>1807</th>\n",
       "      <td>3360</td>\n",
       "      <td>3361</td>\n",
       "      <td>2007-01-01</td>\n",
       "      <td>150</td>\n",
       "      <td>Tampa Bay Lightning</td>\n",
       "      <td>Matt Marshall</td>\n",
       "      <td>US</td>\n",
       "      <td>C/RW</td>\n",
       "      <td>Noble &amp; Greenough School (High-MA)</td>\n",
       "      <td>116973</td>\n",
       "      <td>NaN</td>\n",
       "      <td>NaN</td>\n",
       "      <td>NaN</td>\n",
       "      <td>NaN</td>\n",
       "      <td>NCAA</td>\n",
       "      <td>2012-2013</td>\n",
       "      <td>NaN</td>\n",
       "      <td>2012-01-01</td>\n",
       "    </tr>\n",
       "    <tr>\n",
       "      <th>2567</th>\n",
       "      <td>4170</td>\n",
       "      <td>4171</td>\n",
       "      <td>2003-01-01</td>\n",
       "      <td>15</td>\n",
       "      <td>New York Islanders</td>\n",
       "      <td>Robert Nilsson</td>\n",
       "      <td>CA</td>\n",
       "      <td>C</td>\n",
       "      <td>Leksands IF (Sweden)</td>\n",
       "      <td>83804</td>\n",
       "      <td>NaN</td>\n",
       "      <td>NaN</td>\n",
       "      <td>NaN</td>\n",
       "      <td>NaN</td>\n",
       "      <td>NCAA</td>\n",
       "      <td>1986-1987</td>\n",
       "      <td>NaN</td>\n",
       "      <td>1986-01-01</td>\n",
       "    </tr>\n",
       "    <tr>\n",
       "      <th>4032</th>\n",
       "      <td>7087</td>\n",
       "      <td>7088</td>\n",
       "      <td>1993-01-01</td>\n",
       "      <td>230</td>\n",
       "      <td>Detroit Red Wings</td>\n",
       "      <td>Ryan Shanahan</td>\n",
       "      <td>US</td>\n",
       "      <td>RW</td>\n",
       "      <td>Sudbury Wolves (OHL)</td>\n",
       "      <td>96990</td>\n",
       "      <td>NaN</td>\n",
       "      <td>NaN</td>\n",
       "      <td>NaN</td>\n",
       "      <td>NaN</td>\n",
       "      <td>NCAA</td>\n",
       "      <td>1998-1999</td>\n",
       "      <td>NaN</td>\n",
       "      <td>1998-01-01</td>\n",
       "    </tr>\n",
       "  </tbody>\n",
       "</table>\n",
       "</div>"
      ],
      "text/plain": [
       "      index_x    id       year  overall_pick                 team  \\\n",
       "1807     3360  3361 2007-01-01           150  Tampa Bay Lightning   \n",
       "2567     4170  4171 2003-01-01            15   New York Islanders   \n",
       "4032     7087  7088 1993-01-01           230    Detroit Red Wings   \n",
       "\n",
       "              player nationality position                        amateur_team  \\\n",
       "1807   Matt Marshall          US     C/RW  Noble & Greenough School (High-MA)   \n",
       "2567  Robert Nilsson          CA        C                Leksands IF (Sweden)   \n",
       "4032   Ryan Shanahan          US       RW                Sudbury Wolves (OHL)   \n",
       "\n",
       "      index_y   G   A  GP  PIM LEAGUE LEAGUE_YEAR   P start_year  \n",
       "1807   116973 NaN NaN NaN  NaN   NCAA   2012-2013 NaN 2012-01-01  \n",
       "2567    83804 NaN NaN NaN  NaN   NCAA   1986-1987 NaN 1986-01-01  \n",
       "4032    96990 NaN NaN NaN  NaN   NCAA   1998-1999 NaN 1998-01-01  "
      ]
     },
     "execution_count": 1695,
     "metadata": {},
     "output_type": "execute_result"
    }
   ],
   "source": [
    "df[df.G.isna()].head(3)"
   ]
  },
  {
   "attachments": {},
   "cell_type": "markdown",
   "metadata": {},
   "source": [
    "The missing data seems to all be NCAA data. When we are missing Goals, we are also missing the other stats. Lets drop all missing data"
   ]
  },
  {
   "cell_type": "code",
   "execution_count": null,
   "metadata": {},
   "outputs": [],
   "source": [
    "df.dropna(inplace=True,subset='PIM')"
   ]
  },
  {
   "cell_type": "code",
   "execution_count": null,
   "metadata": {},
   "outputs": [],
   "source": [
    "#I also want to split up the data between players and goalies as they have different statistics and we will not be able to classifier them together\n",
    "df.position.unique()\n",
    "\n",
    "players=df[df.position != 'G']\n",
    "goalies= df[df.position == 'G']"
   ]
  },
  {
   "cell_type": "code",
   "execution_count": null,
   "metadata": {},
   "outputs": [
    {
     "data": {
      "text/html": [
       "<div>\n",
       "<style scoped>\n",
       "    .dataframe tbody tr th:only-of-type {\n",
       "        vertical-align: middle;\n",
       "    }\n",
       "\n",
       "    .dataframe tbody tr th {\n",
       "        vertical-align: top;\n",
       "    }\n",
       "\n",
       "    .dataframe thead th {\n",
       "        text-align: right;\n",
       "    }\n",
       "</style>\n",
       "<table border=\"1\" class=\"dataframe\">\n",
       "  <thead>\n",
       "    <tr style=\"text-align: right;\">\n",
       "      <th></th>\n",
       "      <th>index_x</th>\n",
       "      <th>id</th>\n",
       "      <th>year</th>\n",
       "      <th>overall_pick</th>\n",
       "      <th>team</th>\n",
       "      <th>player</th>\n",
       "      <th>nationality</th>\n",
       "      <th>position</th>\n",
       "      <th>amateur_team</th>\n",
       "      <th>index_y</th>\n",
       "      <th>G</th>\n",
       "      <th>A</th>\n",
       "      <th>GP</th>\n",
       "      <th>PIM</th>\n",
       "      <th>LEAGUE</th>\n",
       "      <th>LEAGUE_YEAR</th>\n",
       "      <th>P</th>\n",
       "      <th>start_year</th>\n",
       "    </tr>\n",
       "  </thead>\n",
       "  <tbody>\n",
       "    <tr>\n",
       "      <th>5513</th>\n",
       "      <td>9184</td>\n",
       "      <td>9185</td>\n",
       "      <td>1984-01-01</td>\n",
       "      <td>1</td>\n",
       "      <td>Pittsburgh Penguins</td>\n",
       "      <td>Mario Lemieux</td>\n",
       "      <td>CA</td>\n",
       "      <td>C</td>\n",
       "      <td>Laval Voisins (QMJHL)</td>\n",
       "      <td>192154</td>\n",
       "      <td>133.0</td>\n",
       "      <td>149.0</td>\n",
       "      <td>70.0</td>\n",
       "      <td>92.0</td>\n",
       "      <td>QMJHL</td>\n",
       "      <td>1983-1984</td>\n",
       "      <td>282.0</td>\n",
       "      <td>1983-01-01</td>\n",
       "    </tr>\n",
       "    <tr>\n",
       "      <th>5672</th>\n",
       "      <td>9436</td>\n",
       "      <td>9437</td>\n",
       "      <td>1983-01-01</td>\n",
       "      <td>3</td>\n",
       "      <td>New York Islanders</td>\n",
       "      <td>Pat LaFontaine</td>\n",
       "      <td>US</td>\n",
       "      <td>C</td>\n",
       "      <td>Verdun Juniors (QMJHL)</td>\n",
       "      <td>191895</td>\n",
       "      <td>104.0</td>\n",
       "      <td>130.0</td>\n",
       "      <td>70.0</td>\n",
       "      <td>10.0</td>\n",
       "      <td>QMJHL</td>\n",
       "      <td>1982-1983</td>\n",
       "      <td>234.0</td>\n",
       "      <td>1982-01-01</td>\n",
       "    </tr>\n",
       "  </tbody>\n",
       "</table>\n",
       "</div>"
      ],
      "text/plain": [
       "      index_x    id       year  overall_pick                 team  \\\n",
       "5513     9184  9185 1984-01-01             1  Pittsburgh Penguins   \n",
       "5672     9436  9437 1983-01-01             3   New York Islanders   \n",
       "\n",
       "              player nationality position            amateur_team  index_y  \\\n",
       "5513   Mario Lemieux          CA        C   Laval Voisins (QMJHL)   192154   \n",
       "5672  Pat LaFontaine          US        C  Verdun Juniors (QMJHL)   191895   \n",
       "\n",
       "          G      A    GP   PIM LEAGUE LEAGUE_YEAR      P start_year  \n",
       "5513  133.0  149.0  70.0  92.0  QMJHL   1983-1984  282.0 1983-01-01  \n",
       "5672  104.0  130.0  70.0  10.0  QMJHL   1982-1983  234.0 1982-01-01  "
      ]
     },
     "execution_count": 1698,
     "metadata": {},
     "output_type": "execute_result"
    }
   ],
   "source": [
    "players[players.P>200].head()"
   ]
  },
  {
   "cell_type": "code",
   "execution_count": null,
   "metadata": {},
   "outputs": [
    {
     "data": {
      "text/plain": [
       "(6108, 18)"
      ]
     },
     "execution_count": 1699,
     "metadata": {},
     "output_type": "execute_result"
    }
   ],
   "source": [
    "#Lets look at the shape of our data\n",
    "players.shape"
   ]
  },
  {
   "cell_type": "code",
   "execution_count": null,
   "metadata": {},
   "outputs": [
    {
     "name": "stdout",
     "output_type": "stream",
     "text": [
      "<class 'pandas.core.frame.DataFrame'>\n",
      "Int64Index: 6108 entries, 0 to 6199\n",
      "Data columns (total 14 columns):\n",
      " #   Column        Non-Null Count  Dtype         \n",
      "---  ------        --------------  -----         \n",
      " 0   year          6108 non-null   datetime64[ns]\n",
      " 1   overall_pick  6108 non-null   int64         \n",
      " 2   team          6108 non-null   object        \n",
      " 3   player        6108 non-null   object        \n",
      " 4   nationality   6108 non-null   object        \n",
      " 5   position      6099 non-null   object        \n",
      " 6   amateur_team  6108 non-null   object        \n",
      " 7   G             6108 non-null   float64       \n",
      " 8   A             6108 non-null   float64       \n",
      " 9   GP            6108 non-null   float64       \n",
      " 10  PIM           6108 non-null   float64       \n",
      " 11  LEAGUE        6108 non-null   object        \n",
      " 12  P             6108 non-null   float64       \n",
      " 13  start_year    6108 non-null   datetime64[ns]\n",
      "dtypes: datetime64[ns](2), float64(5), int64(1), object(6)\n",
      "memory usage: 715.8+ KB\n"
     ]
    }
   ],
   "source": [
    "#Now lets drop all columns that are not needed\n",
    "feature_cols=['year', 'overall_pick', 'team', 'player', 'nationality',\n",
    "       'position', 'amateur_team','G','A','GP','PIM','LEAGUE','P','start_year']\n",
    "players=players[feature_cols]\n",
    "players.info()\n",
    "\n",
    "#There are no more null values so lets move on to setting up the data"
   ]
  },
  {
   "cell_type": "code",
   "execution_count": null,
   "metadata": {},
   "outputs": [
    {
     "name": "stdout",
     "output_type": "stream",
     "text": [
      "<class 'pandas.core.frame.DataFrame'>\n",
      "Int64Index: 6099 entries, 0 to 6199\n",
      "Data columns (total 14 columns):\n",
      " #   Column        Non-Null Count  Dtype         \n",
      "---  ------        --------------  -----         \n",
      " 0   year          6099 non-null   datetime64[ns]\n",
      " 1   overall_pick  6099 non-null   int64         \n",
      " 2   team          6099 non-null   object        \n",
      " 3   player        6099 non-null   object        \n",
      " 4   nationality   6099 non-null   object        \n",
      " 5   position      6099 non-null   object        \n",
      " 6   amateur_team  6099 non-null   object        \n",
      " 7   G             6099 non-null   float64       \n",
      " 8   A             6099 non-null   float64       \n",
      " 9   GP            6099 non-null   float64       \n",
      " 10  PIM           6099 non-null   float64       \n",
      " 11  LEAGUE        6099 non-null   object        \n",
      " 12  P             6099 non-null   float64       \n",
      " 13  start_year    6099 non-null   datetime64[ns]\n",
      "dtypes: datetime64[ns](2), float64(5), int64(1), object(6)\n",
      "memory usage: 714.7+ KB\n"
     ]
    }
   ],
   "source": [
    "#Finally, we need to drop null values for position\n",
    "players.dropna(inplace=True,subset='position')\n",
    "players.info()\n"
   ]
  },
  {
   "attachments": {},
   "cell_type": "markdown",
   "metadata": {},
   "source": [
    "Now we have clean data. Lets move on to processing the data for the ML models"
   ]
  },
  {
   "attachments": {},
   "cell_type": "markdown",
   "metadata": {},
   "source": [
    "# Data Pre-processing"
   ]
  },
  {
   "attachments": {},
   "cell_type": "markdown",
   "metadata": {},
   "source": [
    "### Data Set up"
   ]
  },
  {
   "cell_type": "code",
   "execution_count": null,
   "metadata": {},
   "outputs": [
    {
     "data": {
      "text/html": [
       "<div>\n",
       "<style scoped>\n",
       "    .dataframe tbody tr th:only-of-type {\n",
       "        vertical-align: middle;\n",
       "    }\n",
       "\n",
       "    .dataframe tbody tr th {\n",
       "        vertical-align: top;\n",
       "    }\n",
       "\n",
       "    .dataframe thead th {\n",
       "        text-align: right;\n",
       "    }\n",
       "</style>\n",
       "<table border=\"1\" class=\"dataframe\">\n",
       "  <thead>\n",
       "    <tr style=\"text-align: right;\">\n",
       "      <th></th>\n",
       "      <th>year</th>\n",
       "      <th>overall_pick</th>\n",
       "      <th>team</th>\n",
       "      <th>player</th>\n",
       "      <th>nationality</th>\n",
       "      <th>position</th>\n",
       "      <th>amateur_team</th>\n",
       "      <th>G</th>\n",
       "      <th>A</th>\n",
       "      <th>GP</th>\n",
       "      <th>PIM</th>\n",
       "      <th>LEAGUE</th>\n",
       "      <th>P</th>\n",
       "      <th>start_year</th>\n",
       "    </tr>\n",
       "  </thead>\n",
       "  <tbody>\n",
       "    <tr>\n",
       "      <th>0</th>\n",
       "      <td>2022-01-01</td>\n",
       "      <td>145</td>\n",
       "      <td>Vegas Golden Knights</td>\n",
       "      <td>Patrick Guay</td>\n",
       "      <td>CA</td>\n",
       "      <td>C</td>\n",
       "      <td>Charlottetown Islanders (QMJHL)</td>\n",
       "      <td>18.0</td>\n",
       "      <td>18.0</td>\n",
       "      <td>54.0</td>\n",
       "      <td>16.0</td>\n",
       "      <td>QMJHL</td>\n",
       "      <td>36.0</td>\n",
       "      <td>2018-01-01</td>\n",
       "    </tr>\n",
       "    <tr>\n",
       "      <th>1</th>\n",
       "      <td>2022-01-01</td>\n",
       "      <td>146</td>\n",
       "      <td>Nashville Predators</td>\n",
       "      <td>Graham Sward</td>\n",
       "      <td>CA</td>\n",
       "      <td>D</td>\n",
       "      <td>Spokane Chiefs (WHL)</td>\n",
       "      <td>1.0</td>\n",
       "      <td>0.0</td>\n",
       "      <td>1.0</td>\n",
       "      <td>0.0</td>\n",
       "      <td>WHL</td>\n",
       "      <td>1.0</td>\n",
       "      <td>2018-01-01</td>\n",
       "    </tr>\n",
       "  </tbody>\n",
       "</table>\n",
       "</div>"
      ],
      "text/plain": [
       "        year  overall_pick                  team        player nationality  \\\n",
       "0 2022-01-01           145  Vegas Golden Knights  Patrick Guay          CA   \n",
       "1 2022-01-01           146   Nashville Predators  Graham Sward          CA   \n",
       "\n",
       "  position                     amateur_team     G     A    GP   PIM LEAGUE  \\\n",
       "0        C  Charlottetown Islanders (QMJHL)  18.0  18.0  54.0  16.0  QMJHL   \n",
       "1        D             Spokane Chiefs (WHL)   1.0   0.0   1.0   0.0    WHL   \n",
       "\n",
       "      P start_year  \n",
       "0  36.0 2018-01-01  \n",
       "1   1.0 2018-01-01  "
      ]
     },
     "execution_count": 1702,
     "metadata": {},
     "output_type": "execute_result"
    }
   ],
   "source": [
    "players.head(2)"
   ]
  },
  {
   "cell_type": "code",
   "execution_count": null,
   "metadata": {},
   "outputs": [],
   "source": [
    "#There are 32 picks in the 1st round of the draft.\n",
    "#I want to simplify my analysis to 1=1st round pick and 0=not first round pick\n",
    "first_round_list=(range(1,33))\n",
    "players['first_round']=players.overall_pick.apply(lambda x: 1 if x in first_round_list else 0)"
   ]
  },
  {
   "cell_type": "code",
   "execution_count": null,
   "metadata": {},
   "outputs": [
    {
     "data": {
      "image/png": "[encoded data removed]",
      "text/plain": [
       "<Figure size 640x480 with 1 Axes>"
      ]
     },
     "metadata": {},
     "output_type": "display_data"
    }
   ],
   "source": [
    "sns.histplot(x=players.P,hue=players.first_round)\n",
    "plt.show()\n",
    "plt.close()"
   ]
  },
  {
   "cell_type": "code",
   "execution_count": null,
   "metadata": {},
   "outputs": [
    {
     "data": {
      "image/png": "[encoded data removed]",
      "text/plain": [
       "<Figure size 500x500 with 1 Axes>"
      ]
     },
     "metadata": {},
     "output_type": "display_data"
    }
   ],
   "source": [
    "#Before I move on I want to look at the distributions of points for first round picks to check for outliers \n",
    "# as these will limit our model performance\n",
    "\n",
    "first_round_players=players.loc[players['first_round'] == 1]\n",
    "sns.displot(first_round_players.P)\n",
    "plt.show()\n",
    "plt.close()\n",
    "\n",
    "#There are far too many points around zero. Lets take a closer look\n"
   ]
  },
  {
   "cell_type": "code",
   "execution_count": null,
   "metadata": {},
   "outputs": [
    {
     "data": {
      "image/png": "[encoded data removed]",
      "text/plain": [
       "<Figure size 500x500 with 1 Axes>"
      ]
     },
     "metadata": {},
     "output_type": "display_data"
    }
   ],
   "source": [
    "first_round_players=first_round_players.loc[first_round_players['P'] < 50]\n",
    "sns.displot(first_round_players.P)\n",
    "plt.show()\n",
    "plt.close()\n",
    "\n",
    "#Some of this data could be accurate, but first round picks who had less than 50 points in their last junior season is concerning"
   ]
  },
  {
   "cell_type": "code",
   "execution_count": null,
   "metadata": {},
   "outputs": [
    {
     "data": {
      "text/html": [
       "<div>\n",
       "<style scoped>\n",
       "    .dataframe tbody tr th:only-of-type {\n",
       "        vertical-align: middle;\n",
       "    }\n",
       "\n",
       "    .dataframe tbody tr th {\n",
       "        vertical-align: top;\n",
       "    }\n",
       "\n",
       "    .dataframe thead th {\n",
       "        text-align: right;\n",
       "    }\n",
       "</style>\n",
       "<table border=\"1\" class=\"dataframe\">\n",
       "  <thead>\n",
       "    <tr style=\"text-align: right;\">\n",
       "      <th></th>\n",
       "      <th>year</th>\n",
       "      <th>overall_pick</th>\n",
       "      <th>team</th>\n",
       "      <th>player</th>\n",
       "      <th>nationality</th>\n",
       "      <th>position</th>\n",
       "      <th>amateur_team</th>\n",
       "      <th>G</th>\n",
       "      <th>A</th>\n",
       "      <th>GP</th>\n",
       "      <th>PIM</th>\n",
       "      <th>LEAGUE</th>\n",
       "      <th>P</th>\n",
       "      <th>start_year</th>\n",
       "      <th>first_round</th>\n",
       "    </tr>\n",
       "  </thead>\n",
       "  <tbody>\n",
       "    <tr>\n",
       "      <th>39</th>\n",
       "      <td>2021-01-01</td>\n",
       "      <td>32</td>\n",
       "      <td>Chicago Blackhawks</td>\n",
       "      <td>Nolan Allan</td>\n",
       "      <td>CA</td>\n",
       "      <td>D</td>\n",
       "      <td>Prince Albert Raiders (WHL)</td>\n",
       "      <td>0.0</td>\n",
       "      <td>1.0</td>\n",
       "      <td>7.0</td>\n",
       "      <td>2.0</td>\n",
       "      <td>WHL</td>\n",
       "      <td>1.0</td>\n",
       "      <td>2018-01-01</td>\n",
       "      <td>1</td>\n",
       "    </tr>\n",
       "    <tr>\n",
       "      <th>47</th>\n",
       "      <td>2021-01-01</td>\n",
       "      <td>29</td>\n",
       "      <td>New Jersey Devils</td>\n",
       "      <td>Chase Stillman</td>\n",
       "      <td>US</td>\n",
       "      <td>RW</td>\n",
       "      <td>Sudbury Wolves (OHL)</td>\n",
       "      <td>6.0</td>\n",
       "      <td>2.0</td>\n",
       "      <td>8.0</td>\n",
       "      <td>0.0</td>\n",
       "      <td>NOJHL</td>\n",
       "      <td>8.0</td>\n",
       "      <td>2018-01-01</td>\n",
       "      <td>1</td>\n",
       "    </tr>\n",
       "    <tr>\n",
       "      <th>49</th>\n",
       "      <td>2021-01-01</td>\n",
       "      <td>2</td>\n",
       "      <td>Seattle Kraken</td>\n",
       "      <td>Matthew Beniers</td>\n",
       "      <td>US</td>\n",
       "      <td>C</td>\n",
       "      <td>Michigan (Big Ten)</td>\n",
       "      <td>11.0</td>\n",
       "      <td>20.0</td>\n",
       "      <td>33.0</td>\n",
       "      <td>12.0</td>\n",
       "      <td>USHL</td>\n",
       "      <td>31.0</td>\n",
       "      <td>2018-01-01</td>\n",
       "      <td>1</td>\n",
       "    </tr>\n",
       "    <tr>\n",
       "      <th>50</th>\n",
       "      <td>2021-01-01</td>\n",
       "      <td>5</td>\n",
       "      <td>Columbus Blue Jackets</td>\n",
       "      <td>Kent Johnson</td>\n",
       "      <td>CA</td>\n",
       "      <td>C</td>\n",
       "      <td>Michigan (Big Ten)</td>\n",
       "      <td>20.0</td>\n",
       "      <td>26.0</td>\n",
       "      <td>57.0</td>\n",
       "      <td>24.0</td>\n",
       "      <td>BCHL</td>\n",
       "      <td>46.0</td>\n",
       "      <td>2018-01-01</td>\n",
       "      <td>1</td>\n",
       "    </tr>\n",
       "    <tr>\n",
       "      <th>51</th>\n",
       "      <td>2021-01-01</td>\n",
       "      <td>9</td>\n",
       "      <td>Arizona Coyotes</td>\n",
       "      <td>Dylan Guenther</td>\n",
       "      <td>CA</td>\n",
       "      <td>RW</td>\n",
       "      <td>Edmonton Oil Kings (WHL)</td>\n",
       "      <td>3.0</td>\n",
       "      <td>1.0</td>\n",
       "      <td>8.0</td>\n",
       "      <td>0.0</td>\n",
       "      <td>WHL</td>\n",
       "      <td>4.0</td>\n",
       "      <td>2018-01-01</td>\n",
       "      <td>1</td>\n",
       "    </tr>\n",
       "  </tbody>\n",
       "</table>\n",
       "</div>"
      ],
      "text/plain": [
       "         year  overall_pick                   team           player  \\\n",
       "39 2021-01-01            32     Chicago Blackhawks      Nolan Allan   \n",
       "47 2021-01-01            29      New Jersey Devils   Chase Stillman   \n",
       "49 2021-01-01             2         Seattle Kraken  Matthew Beniers   \n",
       "50 2021-01-01             5  Columbus Blue Jackets     Kent Johnson   \n",
       "51 2021-01-01             9        Arizona Coyotes   Dylan Guenther   \n",
       "\n",
       "   nationality position                 amateur_team     G     A    GP   PIM  \\\n",
       "39          CA        D  Prince Albert Raiders (WHL)   0.0   1.0   7.0   2.0   \n",
       "47          US       RW         Sudbury Wolves (OHL)   6.0   2.0   8.0   0.0   \n",
       "49          US        C           Michigan (Big Ten)  11.0  20.0  33.0  12.0   \n",
       "50          CA        C           Michigan (Big Ten)  20.0  26.0  57.0  24.0   \n",
       "51          CA       RW     Edmonton Oil Kings (WHL)   3.0   1.0   8.0   0.0   \n",
       "\n",
       "   LEAGUE     P start_year  first_round  \n",
       "39    WHL   1.0 2018-01-01            1  \n",
       "47  NOJHL   8.0 2018-01-01            1  \n",
       "49   USHL  31.0 2018-01-01            1  \n",
       "50   BCHL  46.0 2018-01-01            1  \n",
       "51    WHL   4.0 2018-01-01            1  "
      ]
     },
     "execution_count": 1707,
     "metadata": {},
     "output_type": "execute_result"
    }
   ],
   "source": [
    "first_round_players=first_round_players.loc[first_round_players['P'] < 50]\n",
    "first_round_players.head()\n",
    "\n",
    "#We see that the stats for these players do not make much sense and are actually wrong"
   ]
  },
  {
   "cell_type": "code",
   "execution_count": null,
   "metadata": {},
   "outputs": [
    {
     "data": {
      "text/plain": [
       "(435, 15)"
      ]
     },
     "execution_count": 1708,
     "metadata": {},
     "output_type": "execute_result"
    }
   ],
   "source": [
    "first_round_players.shape"
   ]
  },
  {
   "attachments": {},
   "cell_type": "markdown",
   "metadata": {},
   "source": [
    "I think its fair to say that these 312 data points are outliers. From my own knowledge, I know Nolan Allen had more than 1 point in his last season of the WHL. This is an issue with the data sets. I will drop these outliers."
   ]
  },
  {
   "cell_type": "code",
   "execution_count": null,
   "metadata": {},
   "outputs": [
    {
     "data": {
      "image/png": "[encoded data removed]",
      "text/plain": [
       "<Figure size 500x500 with 1 Axes>"
      ]
     },
     "metadata": {},
     "output_type": "display_data"
    }
   ],
   "source": [
    "mask=(players['P'] < 40) & (players[\"first_round\"] == 1)\n",
    "players=players.drop(players[mask].index)\n",
    "\n",
    "first_round_players=players.loc[players['first_round'] == 1]\n",
    "sns.displot(first_round_players.P)\n",
    "plt.show()\n",
    "plt.close()\n",
    "\n",
    "#This looks much better\n"
   ]
  },
  {
   "cell_type": "code",
   "execution_count": null,
   "metadata": {},
   "outputs": [
    {
     "data": {
      "image/png": "[encoded data removed]",
      "text/plain": [
       "<Figure size 500x500 with 1 Axes>"
      ]
     },
     "metadata": {},
     "output_type": "display_data"
    }
   ],
   "source": [
    "#Now, lets do the same thing but for non-first round picks\n",
    "non_firstRound=players.loc[players['first_round'] == 0]\n",
    "sns.displot(non_firstRound.P)\n",
    "plt.show()\n",
    "plt.close()\n",
    "\n",
    "#Wow, there is definitly some inacuracte data. Anyone scoring above 120 points is definitly a first round pick."
   ]
  },
  {
   "cell_type": "code",
   "execution_count": null,
   "metadata": {},
   "outputs": [
    {
     "data": {
      "image/png": "[encoded data removed]",
      "text/plain": [
       "<Figure size 500x500 with 1 Axes>"
      ]
     },
     "metadata": {},
     "output_type": "display_data"
    }
   ],
   "source": [
    "non_firstRound=non_firstRound.loc[non_firstRound['P'] > 100]\n",
    "sns.displot(non_firstRound.P)\n",
    "plt.show()\n",
    "plt.close()"
   ]
  },
  {
   "cell_type": "code",
   "execution_count": null,
   "metadata": {},
   "outputs": [
    {
     "data": {
      "text/plain": [
       "(278, 15)"
      ]
     },
     "execution_count": 1712,
     "metadata": {},
     "output_type": "execute_result"
    }
   ],
   "source": [
    "non_firstRound.shape"
   ]
  },
  {
   "attachments": {},
   "cell_type": "markdown",
   "metadata": {},
   "source": [
    "Again, I think these datapoints are definetly wrong. Lets remove them"
   ]
  },
  {
   "cell_type": "code",
   "execution_count": null,
   "metadata": {},
   "outputs": [],
   "source": [
    "mask=(players['P'] > 100) & (players[\"first_round\"] == 0)\n",
    "players=players.drop(players[mask].index)"
   ]
  },
  {
   "cell_type": "code",
   "execution_count": null,
   "metadata": {},
   "outputs": [
    {
     "data": {
      "text/html": [
       "<div>\n",
       "<style scoped>\n",
       "    .dataframe tbody tr th:only-of-type {\n",
       "        vertical-align: middle;\n",
       "    }\n",
       "\n",
       "    .dataframe tbody tr th {\n",
       "        vertical-align: top;\n",
       "    }\n",
       "\n",
       "    .dataframe thead th {\n",
       "        text-align: right;\n",
       "    }\n",
       "</style>\n",
       "<table border=\"1\" class=\"dataframe\">\n",
       "  <thead>\n",
       "    <tr style=\"text-align: right;\">\n",
       "      <th></th>\n",
       "      <th>year</th>\n",
       "      <th>overall_pick</th>\n",
       "      <th>team</th>\n",
       "      <th>player</th>\n",
       "      <th>nationality</th>\n",
       "      <th>position</th>\n",
       "      <th>amateur_team</th>\n",
       "      <th>G</th>\n",
       "      <th>A</th>\n",
       "      <th>GP</th>\n",
       "      <th>PIM</th>\n",
       "      <th>LEAGUE</th>\n",
       "      <th>P</th>\n",
       "      <th>start_year</th>\n",
       "      <th>first_round</th>\n",
       "    </tr>\n",
       "  </thead>\n",
       "  <tbody>\n",
       "    <tr>\n",
       "      <th>0</th>\n",
       "      <td>2022-01-01</td>\n",
       "      <td>145</td>\n",
       "      <td>Vegas Golden Knights</td>\n",
       "      <td>Patrick Guay</td>\n",
       "      <td>CA</td>\n",
       "      <td>C</td>\n",
       "      <td>Charlottetown Islanders (QMJHL)</td>\n",
       "      <td>18.0</td>\n",
       "      <td>18.0</td>\n",
       "      <td>54.0</td>\n",
       "      <td>16.0</td>\n",
       "      <td>QMJHL</td>\n",
       "      <td>36.0</td>\n",
       "      <td>2018-01-01</td>\n",
       "      <td>0</td>\n",
       "    </tr>\n",
       "    <tr>\n",
       "      <th>1</th>\n",
       "      <td>2022-01-01</td>\n",
       "      <td>146</td>\n",
       "      <td>Nashville Predators</td>\n",
       "      <td>Graham Sward</td>\n",
       "      <td>CA</td>\n",
       "      <td>D</td>\n",
       "      <td>Spokane Chiefs (WHL)</td>\n",
       "      <td>1.0</td>\n",
       "      <td>0.0</td>\n",
       "      <td>1.0</td>\n",
       "      <td>0.0</td>\n",
       "      <td>WHL</td>\n",
       "      <td>1.0</td>\n",
       "      <td>2018-01-01</td>\n",
       "      <td>0</td>\n",
       "    </tr>\n",
       "    <tr>\n",
       "      <th>2</th>\n",
       "      <td>2022-01-01</td>\n",
       "      <td>130</td>\n",
       "      <td>Montreal Canadiens</td>\n",
       "      <td>Jared Davidson</td>\n",
       "      <td>CA</td>\n",
       "      <td>C</td>\n",
       "      <td>Seattle Thunderbirds (WHL)</td>\n",
       "      <td>2.0</td>\n",
       "      <td>2.0</td>\n",
       "      <td>48.0</td>\n",
       "      <td>22.0</td>\n",
       "      <td>WHL</td>\n",
       "      <td>4.0</td>\n",
       "      <td>2018-01-01</td>\n",
       "      <td>0</td>\n",
       "    </tr>\n",
       "    <tr>\n",
       "      <th>3</th>\n",
       "      <td>2022-01-01</td>\n",
       "      <td>114</td>\n",
       "      <td>Nashville Predators</td>\n",
       "      <td>Cole O'Hara</td>\n",
       "      <td>CA</td>\n",
       "      <td>RW</td>\n",
       "      <td>Tri-City Storm (USHL)</td>\n",
       "      <td>11.0</td>\n",
       "      <td>31.0</td>\n",
       "      <td>53.0</td>\n",
       "      <td>24.0</td>\n",
       "      <td>OJHL</td>\n",
       "      <td>42.0</td>\n",
       "      <td>2018-01-01</td>\n",
       "      <td>0</td>\n",
       "    </tr>\n",
       "    <tr>\n",
       "      <th>4</th>\n",
       "      <td>2022-01-01</td>\n",
       "      <td>173</td>\n",
       "      <td>Chicago Blackhawks</td>\n",
       "      <td>Dominic James</td>\n",
       "      <td>US</td>\n",
       "      <td>C</td>\n",
       "      <td>Minnesota-Duluth (NCHC)</td>\n",
       "      <td>0.0</td>\n",
       "      <td>0.0</td>\n",
       "      <td>2.0</td>\n",
       "      <td>2.0</td>\n",
       "      <td>USHL</td>\n",
       "      <td>0.0</td>\n",
       "      <td>2018-01-01</td>\n",
       "      <td>0</td>\n",
       "    </tr>\n",
       "  </tbody>\n",
       "</table>\n",
       "</div>"
      ],
      "text/plain": [
       "        year  overall_pick                  team          player nationality  \\\n",
       "0 2022-01-01           145  Vegas Golden Knights    Patrick Guay          CA   \n",
       "1 2022-01-01           146   Nashville Predators    Graham Sward          CA   \n",
       "2 2022-01-01           130    Montreal Canadiens  Jared Davidson          CA   \n",
       "3 2022-01-01           114   Nashville Predators     Cole O'Hara          CA   \n",
       "4 2022-01-01           173    Chicago Blackhawks   Dominic James          US   \n",
       "\n",
       "  position                     amateur_team     G     A    GP   PIM LEAGUE  \\\n",
       "0        C  Charlottetown Islanders (QMJHL)  18.0  18.0  54.0  16.0  QMJHL   \n",
       "1        D             Spokane Chiefs (WHL)   1.0   0.0   1.0   0.0    WHL   \n",
       "2        C       Seattle Thunderbirds (WHL)   2.0   2.0  48.0  22.0    WHL   \n",
       "3       RW            Tri-City Storm (USHL)  11.0  31.0  53.0  24.0   OJHL   \n",
       "4        C          Minnesota-Duluth (NCHC)   0.0   0.0   2.0   2.0   USHL   \n",
       "\n",
       "      P start_year  first_round  \n",
       "0  36.0 2018-01-01            0  \n",
       "1   1.0 2018-01-01            0  \n",
       "2   4.0 2018-01-01            0  \n",
       "3  42.0 2018-01-01            0  \n",
       "4   0.0 2018-01-01            0  "
      ]
     },
     "execution_count": 1714,
     "metadata": {},
     "output_type": "execute_result"
    }
   ],
   "source": [
    "players.head()"
   ]
  },
  {
   "cell_type": "code",
   "execution_count": null,
   "metadata": {},
   "outputs": [],
   "source": [
    "#I plan to build a classification model. I will need to drop the string features or create dumby variables\n",
    "\n",
    "#Lets drop year, team, player, and start-year as they will not be needed\n",
    "\n",
    "feature_cols=[ 'nationality',\n",
    "       'position', 'amateur_team','G','A','GP','PIM','LEAGUE','P','first_round','year']\n",
    "\n",
    "players=players[feature_cols]"
   ]
  },
  {
   "cell_type": "code",
   "execution_count": null,
   "metadata": {},
   "outputs": [
    {
     "name": "stdout",
     "output_type": "stream",
     "text": [
      "['C' 'D' 'RW' 'LW' 'C/LW' 'C RW' 'C; LW' 'C/RW' 'W' 'F' 'Centr' 'C/W'\n",
      " 'C/D' 'D/LW' 'LW/D' 'RW/D' 'LW/C' 'RW/C' 'D/C']\n",
      "19\n",
      "['C' 'D' 'RW' 'LW' 'C RW' 'C; LW' 'W' 'F' 'Centr']\n"
     ]
    }
   ],
   "source": [
    "print(players.position.unique())\n",
    "print(players.position.nunique())\n",
    "\n",
    "#This can be drastically simplified. I am going to make an assumption that the first position if there are tow listed (i.e C/LW) is \n",
    "# the players preferred position. I will convert the position to the first one listed\n",
    "\n",
    "players.position=players.position.apply(lambda x: x.split('/')[0])\n",
    "print(players.position.unique())"
   ]
  },
  {
   "cell_type": "code",
   "execution_count": null,
   "metadata": {},
   "outputs": [
    {
     "name": "stdout",
     "output_type": "stream",
     "text": [
      "['C' 'D' 'RW' 'LW' 'W' 'F' 'Centr']\n"
     ]
    }
   ],
   "source": [
    "#We still have a few weird exceptions. Lets fix those\n",
    "players.position=players.position.apply(lambda x: x.split(';')[0])\n",
    "players.position=players.position.apply(lambda x: x.split(' ')[0])\n",
    "print(players.position.unique())"
   ]
  },
  {
   "cell_type": "code",
   "execution_count": null,
   "metadata": {},
   "outputs": [
    {
     "name": "stdout",
     "output_type": "stream",
     "text": [
      "['C' 'D' 'RW' 'LW']\n"
     ]
    }
   ],
   "source": [
    "#Lets make all Wingers equal to Right Wingers. All L equal to Left wingers and all F equal to centres\n",
    "players.position=np.where(players.position == 'W','RW',players.position)\n",
    "players.position=np.where(players.position == 'Centr','C',players.position)\n",
    "players.position=np.where(players.position == 'F','C',players.position)\n",
    "print(players.position.unique())"
   ]
  },
  {
   "cell_type": "code",
   "execution_count": null,
   "metadata": {},
   "outputs": [
    {
     "data": {
      "text/plain": [
       "D     0.3705\n",
       "C     0.2645\n",
       "LW    0.1853\n",
       "RW    0.1797\n",
       "Name: position, dtype: float64"
      ]
     },
     "execution_count": 1719,
     "metadata": {},
     "output_type": "execute_result"
    }
   ],
   "source": [
    "#Out of curiousity lets look at the distribution of positions\n",
    "players.position.value_counts(normalize=True).round(4)\n",
    "\n",
    "#36% of draft picks are D and the rest are forwards... interesting"
   ]
  },
  {
   "cell_type": "code",
   "execution_count": null,
   "metadata": {},
   "outputs": [
    {
     "name": "stdout",
     "output_type": "stream",
     "text": [
      "841\n"
     ]
    }
   ],
   "source": [
    "#Now lets look at amatuer team\n",
    "print(players.amateur_team.nunique())\n",
    "#Wow there are way to many and I do not think this is relevant. Lets drop it\n",
    "players.drop(columns='amateur_team',inplace=True)"
   ]
  },
  {
   "cell_type": "code",
   "execution_count": null,
   "metadata": {},
   "outputs": [
    {
     "name": "stdout",
     "output_type": "stream",
     "text": [
      "34\n",
      "['CA' 'US' 'RU' 'AT' 'CZ' 'GB' 'FI' 'CH' 'SE' 'BY' 'SK' 'AU' 'DE' 'TH'\n",
      " 'JM' 'NO' 'SI' 'LV' 'BE' 'UA' 'CN' 'NL' 'DK' 'FR' 'NG' 'JP' 'PL' 'ME'\n",
      " 'YU' 'KZ' 'TZ' 'BN' 'KR' 'IT']\n"
     ]
    }
   ],
   "source": [
    "#Next, lets look at Nationality\n",
    "print(players.nationality.nunique())\n",
    "print(players.nationality.unique())"
   ]
  },
  {
   "cell_type": "code",
   "execution_count": null,
   "metadata": {},
   "outputs": [],
   "source": [
    "#Again, there are two many. However, most draft pics are from North America. Maybe we could group by a broader geography and not country\n",
    "players.nationality.value_counts(normalize=True).reset_index().head()\n",
    "\n",
    "#Regardless, I will drop this feature. The country a player comes from should not limit their hockey abilities; however, it could \n",
    "# limit their access to development growing up\n",
    "\n",
    "players.drop(columns='nationality',inplace=True)"
   ]
  },
  {
   "cell_type": "code",
   "execution_count": null,
   "metadata": {},
   "outputs": [
    {
     "name": "stdout",
     "output_type": "stream",
     "text": [
      "15\n",
      "['QMJHL' 'WHL' 'OJHL' 'USHL' 'CCHL' 'AJHL' 'NCAA' 'MJHL' 'OHL' 'NOJHL'\n",
      " 'MJAHL' 'BCHL' 'QJAAAHL' 'SJHL' 'SIJHL']\n"
     ]
    }
   ],
   "source": [
    "#Finally, I will look at leagues\n",
    "print(players.LEAGUE.nunique())\n",
    "print(players.LEAGUE.unique())"
   ]
  },
  {
   "cell_type": "code",
   "execution_count": null,
   "metadata": {},
   "outputs": [],
   "source": [
    "#Again, there are too many and I dont think they will impact draft status. Lets drop the column\n",
    "players.drop(columns='LEAGUE',inplace=True)"
   ]
  },
  {
   "cell_type": "code",
   "execution_count": null,
   "metadata": {},
   "outputs": [
    {
     "data": {
      "text/html": [
       "<div>\n",
       "<style scoped>\n",
       "    .dataframe tbody tr th:only-of-type {\n",
       "        vertical-align: middle;\n",
       "    }\n",
       "\n",
       "    .dataframe tbody tr th {\n",
       "        vertical-align: top;\n",
       "    }\n",
       "\n",
       "    .dataframe thead th {\n",
       "        text-align: right;\n",
       "    }\n",
       "</style>\n",
       "<table border=\"1\" class=\"dataframe\">\n",
       "  <thead>\n",
       "    <tr style=\"text-align: right;\">\n",
       "      <th></th>\n",
       "      <th>G</th>\n",
       "      <th>A</th>\n",
       "      <th>GP</th>\n",
       "      <th>PIM</th>\n",
       "      <th>P</th>\n",
       "      <th>first_round</th>\n",
       "      <th>year</th>\n",
       "      <th>position_C</th>\n",
       "      <th>position_D</th>\n",
       "      <th>position_LW</th>\n",
       "      <th>position_RW</th>\n",
       "    </tr>\n",
       "  </thead>\n",
       "  <tbody>\n",
       "    <tr>\n",
       "      <th>0</th>\n",
       "      <td>18.0</td>\n",
       "      <td>18.0</td>\n",
       "      <td>54.0</td>\n",
       "      <td>16.0</td>\n",
       "      <td>36.0</td>\n",
       "      <td>0</td>\n",
       "      <td>2022-01-01</td>\n",
       "      <td>1</td>\n",
       "      <td>0</td>\n",
       "      <td>0</td>\n",
       "      <td>0</td>\n",
       "    </tr>\n",
       "    <tr>\n",
       "      <th>1</th>\n",
       "      <td>1.0</td>\n",
       "      <td>0.0</td>\n",
       "      <td>1.0</td>\n",
       "      <td>0.0</td>\n",
       "      <td>1.0</td>\n",
       "      <td>0</td>\n",
       "      <td>2022-01-01</td>\n",
       "      <td>0</td>\n",
       "      <td>1</td>\n",
       "      <td>0</td>\n",
       "      <td>0</td>\n",
       "    </tr>\n",
       "    <tr>\n",
       "      <th>2</th>\n",
       "      <td>2.0</td>\n",
       "      <td>2.0</td>\n",
       "      <td>48.0</td>\n",
       "      <td>22.0</td>\n",
       "      <td>4.0</td>\n",
       "      <td>0</td>\n",
       "      <td>2022-01-01</td>\n",
       "      <td>1</td>\n",
       "      <td>0</td>\n",
       "      <td>0</td>\n",
       "      <td>0</td>\n",
       "    </tr>\n",
       "  </tbody>\n",
       "</table>\n",
       "</div>"
      ],
      "text/plain": [
       "      G     A    GP   PIM     P  first_round       year  position_C  \\\n",
       "0  18.0  18.0  54.0  16.0  36.0            0 2022-01-01           1   \n",
       "1   1.0   0.0   1.0   0.0   1.0            0 2022-01-01           0   \n",
       "2   2.0   2.0  48.0  22.0   4.0            0 2022-01-01           1   \n",
       "\n",
       "   position_D  position_LW  position_RW  \n",
       "0           0            0            0  \n",
       "1           1            0            0  \n",
       "2           0            0            0  "
      ]
     },
     "execution_count": 1725,
     "metadata": {},
     "output_type": "execute_result"
    }
   ],
   "source": [
    "#Now, I can create dummy variables for the position\n",
    "players=pd.get_dummies(players)\n",
    "players.head(3)"
   ]
  },
  {
   "attachments": {},
   "cell_type": "markdown",
   "metadata": {},
   "source": [
    "Finally, lets look at the years in the data. Because of how much the game has changed in the last 30 years, I am only going to keep data from 1990 and onwards."
   ]
  },
  {
   "cell_type": "code",
   "execution_count": null,
   "metadata": {},
   "outputs": [
    {
     "data": {
      "text/html": [
       "<div>\n",
       "<style scoped>\n",
       "    .dataframe tbody tr th:only-of-type {\n",
       "        vertical-align: middle;\n",
       "    }\n",
       "\n",
       "    .dataframe tbody tr th {\n",
       "        vertical-align: top;\n",
       "    }\n",
       "\n",
       "    .dataframe thead th {\n",
       "        text-align: right;\n",
       "    }\n",
       "</style>\n",
       "<table border=\"1\" class=\"dataframe\">\n",
       "  <thead>\n",
       "    <tr style=\"text-align: right;\">\n",
       "      <th></th>\n",
       "      <th>G</th>\n",
       "      <th>A</th>\n",
       "      <th>GP</th>\n",
       "      <th>PIM</th>\n",
       "      <th>P</th>\n",
       "      <th>first_round</th>\n",
       "      <th>year</th>\n",
       "      <th>position_C</th>\n",
       "      <th>position_D</th>\n",
       "      <th>position_LW</th>\n",
       "      <th>position_RW</th>\n",
       "    </tr>\n",
       "  </thead>\n",
       "  <tbody>\n",
       "    <tr>\n",
       "      <th>0</th>\n",
       "      <td>18.0</td>\n",
       "      <td>18.0</td>\n",
       "      <td>54.0</td>\n",
       "      <td>16.0</td>\n",
       "      <td>36.0</td>\n",
       "      <td>0</td>\n",
       "      <td>2022-01-01</td>\n",
       "      <td>1</td>\n",
       "      <td>0</td>\n",
       "      <td>0</td>\n",
       "      <td>0</td>\n",
       "    </tr>\n",
       "    <tr>\n",
       "      <th>1</th>\n",
       "      <td>1.0</td>\n",
       "      <td>0.0</td>\n",
       "      <td>1.0</td>\n",
       "      <td>0.0</td>\n",
       "      <td>1.0</td>\n",
       "      <td>0</td>\n",
       "      <td>2022-01-01</td>\n",
       "      <td>0</td>\n",
       "      <td>1</td>\n",
       "      <td>0</td>\n",
       "      <td>0</td>\n",
       "    </tr>\n",
       "    <tr>\n",
       "      <th>2</th>\n",
       "      <td>2.0</td>\n",
       "      <td>2.0</td>\n",
       "      <td>48.0</td>\n",
       "      <td>22.0</td>\n",
       "      <td>4.0</td>\n",
       "      <td>0</td>\n",
       "      <td>2022-01-01</td>\n",
       "      <td>1</td>\n",
       "      <td>0</td>\n",
       "      <td>0</td>\n",
       "      <td>0</td>\n",
       "    </tr>\n",
       "    <tr>\n",
       "      <th>3</th>\n",
       "      <td>11.0</td>\n",
       "      <td>31.0</td>\n",
       "      <td>53.0</td>\n",
       "      <td>24.0</td>\n",
       "      <td>42.0</td>\n",
       "      <td>0</td>\n",
       "      <td>2022-01-01</td>\n",
       "      <td>0</td>\n",
       "      <td>0</td>\n",
       "      <td>0</td>\n",
       "      <td>1</td>\n",
       "    </tr>\n",
       "    <tr>\n",
       "      <th>4</th>\n",
       "      <td>0.0</td>\n",
       "      <td>0.0</td>\n",
       "      <td>2.0</td>\n",
       "      <td>2.0</td>\n",
       "      <td>0.0</td>\n",
       "      <td>0</td>\n",
       "      <td>2022-01-01</td>\n",
       "      <td>1</td>\n",
       "      <td>0</td>\n",
       "      <td>0</td>\n",
       "      <td>0</td>\n",
       "    </tr>\n",
       "  </tbody>\n",
       "</table>\n",
       "</div>"
      ],
      "text/plain": [
       "      G     A    GP   PIM     P  first_round       year  position_C  \\\n",
       "0  18.0  18.0  54.0  16.0  36.0            0 2022-01-01           1   \n",
       "1   1.0   0.0   1.0   0.0   1.0            0 2022-01-01           0   \n",
       "2   2.0   2.0  48.0  22.0   4.0            0 2022-01-01           1   \n",
       "3  11.0  31.0  53.0  24.0  42.0            0 2022-01-01           0   \n",
       "4   0.0   0.0   2.0   2.0   0.0            0 2022-01-01           1   \n",
       "\n",
       "   position_D  position_LW  position_RW  \n",
       "0           0            0            0  \n",
       "1           1            0            0  \n",
       "2           0            0            0  \n",
       "3           0            0            1  \n",
       "4           0            0            0  "
      ]
     },
     "execution_count": 1726,
     "metadata": {},
     "output_type": "execute_result"
    }
   ],
   "source": [
    "players=players[players.year > datetime.strptime('1990','%Y')]\n",
    "players.head()"
   ]
  },
  {
   "attachments": {},
   "cell_type": "markdown",
   "metadata": {},
   "source": [
    "### Outliers\n",
    "\n",
    "I will use the z-score approach to remove any outliers. I will remove outliers in terms of games played as these are often injuries."
   ]
  },
  {
   "cell_type": "code",
   "execution_count": null,
   "metadata": {},
   "outputs": [
    {
     "data": {
      "text/plain": [
       "(4007, 11)"
      ]
     },
     "execution_count": 1727,
     "metadata": {},
     "output_type": "execute_result"
    }
   ],
   "source": [
    "players.shape"
   ]
  },
  {
   "cell_type": "code",
   "execution_count": null,
   "metadata": {},
   "outputs": [
    {
     "data": {
      "text/plain": [
       "(3802, 12)"
      ]
     },
     "execution_count": 1728,
     "metadata": {},
     "output_type": "execute_result"
    }
   ],
   "source": [
    "z=np.abs(stats.zscore(players.GP))\n",
    "\n",
    "players['GP_z_score']=z\n",
    "Threshold = 2 \n",
    "players=players[players.GP_z_score < Threshold]\n",
    "\n",
    "players.shape"
   ]
  },
  {
   "attachments": {},
   "cell_type": "markdown",
   "metadata": {},
   "source": [
    "Now, lets do the same thing for points. I feel that a lot of the international data is innacurate"
   ]
  },
  {
   "cell_type": "code",
   "execution_count": null,
   "metadata": {},
   "outputs": [
    {
     "data": {
      "text/plain": [
       "(3690, 13)"
      ]
     },
     "execution_count": 1729,
     "metadata": {},
     "output_type": "execute_result"
    }
   ],
   "source": [
    "z=np.abs(stats.zscore(players.P))\n",
    "\n",
    "players['P_z_score']=z\n",
    "Threshold = 2 \n",
    "players=players[players.P_z_score < Threshold]\n",
    "\n",
    "players.shape"
   ]
  },
  {
   "attachments": {},
   "cell_type": "markdown",
   "metadata": {},
   "source": [
    "### Co-Linearity\n",
    "\n",
    "We must check to see if any of the features are co-linear. This is an assumption that must be checked for machine learning models."
   ]
  },
  {
   "cell_type": "code",
   "execution_count": null,
   "metadata": {},
   "outputs": [
    {
     "data": {
      "image/png": "[encoded data removed]",
      "text/plain": [
       "<Figure size 640x480 with 2 Axes>"
      ]
     },
     "metadata": {},
     "output_type": "display_data"
    }
   ],
   "source": [
    "cor_matrix=players.corr()\n",
    "red_blue = sns.diverging_palette(220, 20, as_cmap=True)\n",
    "sns.heatmap(cor_matrix, vmin = -1, vmax = 1, cmap=red_blue)\n",
    "plt.show()"
   ]
  },
  {
   "attachments": {},
   "cell_type": "markdown",
   "metadata": {},
   "source": [
    " We see that A, G, and P are highly correlated. This makes sense - they are co-linear. Lets drop the points column"
   ]
  },
  {
   "cell_type": "code",
   "execution_count": null,
   "metadata": {},
   "outputs": [],
   "source": [
    "players.drop(columns='P',inplace=True)"
   ]
  },
  {
   "attachments": {},
   "cell_type": "markdown",
   "metadata": {},
   "source": [
    "### Class Balance\n",
    "\n",
    "Another assumption we must check is class balance. ML Models require classes to be balanced"
   ]
  },
  {
   "cell_type": "code",
   "execution_count": null,
   "metadata": {},
   "outputs": [
    {
     "data": {
      "text/plain": [
       "0    0.9003\n",
       "1    0.0997\n",
       "Name: first_round, dtype: float64"
      ]
     },
     "execution_count": 1732,
     "metadata": {},
     "output_type": "execute_result"
    }
   ],
   "source": [
    "players.first_round.value_counts(normalize=True).round(4)\n",
    "\n",
    "#9% of the data are first round picks. This makes sense as there are 7 rounds in the draft.\n",
    "\n",
    "#Therefore, we must balance the class weights in the model"
   ]
  },
  {
   "attachments": {},
   "cell_type": "markdown",
   "metadata": {},
   "source": [
    "### Standardization"
   ]
  },
  {
   "attachments": {},
   "cell_type": "markdown",
   "metadata": {},
   "source": [
    "Using Scikit-Learn Pre-processing library, lets standardize the data so that the difference in scale does not impact our classification models.\n",
    "\n",
    "A standard score is the value less the mean and divided by the standard deviation. It centralizes the data with a mean at 0 and scales it by the STD"
   ]
  },
  {
   "cell_type": "code",
   "execution_count": null,
   "metadata": {},
   "outputs": [
    {
     "data": {
      "text/html": [
       "<div>\n",
       "<style scoped>\n",
       "    .dataframe tbody tr th:only-of-type {\n",
       "        vertical-align: middle;\n",
       "    }\n",
       "\n",
       "    .dataframe tbody tr th {\n",
       "        vertical-align: top;\n",
       "    }\n",
       "\n",
       "    .dataframe thead th {\n",
       "        text-align: right;\n",
       "    }\n",
       "</style>\n",
       "<table border=\"1\" class=\"dataframe\">\n",
       "  <thead>\n",
       "    <tr style=\"text-align: right;\">\n",
       "      <th></th>\n",
       "      <th>G</th>\n",
       "      <th>A</th>\n",
       "      <th>GP</th>\n",
       "      <th>PIM</th>\n",
       "      <th>position_C</th>\n",
       "      <th>position_D</th>\n",
       "      <th>position_LW</th>\n",
       "      <th>position_RW</th>\n",
       "    </tr>\n",
       "  </thead>\n",
       "  <tbody>\n",
       "    <tr>\n",
       "      <th>0</th>\n",
       "      <td>18.0</td>\n",
       "      <td>18.0</td>\n",
       "      <td>54.0</td>\n",
       "      <td>16.0</td>\n",
       "      <td>1</td>\n",
       "      <td>0</td>\n",
       "      <td>0</td>\n",
       "      <td>0</td>\n",
       "    </tr>\n",
       "    <tr>\n",
       "      <th>2</th>\n",
       "      <td>2.0</td>\n",
       "      <td>2.0</td>\n",
       "      <td>48.0</td>\n",
       "      <td>22.0</td>\n",
       "      <td>1</td>\n",
       "      <td>0</td>\n",
       "      <td>0</td>\n",
       "      <td>0</td>\n",
       "    </tr>\n",
       "    <tr>\n",
       "      <th>3</th>\n",
       "      <td>11.0</td>\n",
       "      <td>31.0</td>\n",
       "      <td>53.0</td>\n",
       "      <td>24.0</td>\n",
       "      <td>0</td>\n",
       "      <td>0</td>\n",
       "      <td>0</td>\n",
       "      <td>1</td>\n",
       "    </tr>\n",
       "    <tr>\n",
       "      <th>5</th>\n",
       "      <td>5.0</td>\n",
       "      <td>13.0</td>\n",
       "      <td>47.0</td>\n",
       "      <td>85.0</td>\n",
       "      <td>0</td>\n",
       "      <td>1</td>\n",
       "      <td>0</td>\n",
       "      <td>0</td>\n",
       "    </tr>\n",
       "    <tr>\n",
       "      <th>9</th>\n",
       "      <td>24.0</td>\n",
       "      <td>30.0</td>\n",
       "      <td>51.0</td>\n",
       "      <td>16.0</td>\n",
       "      <td>1</td>\n",
       "      <td>0</td>\n",
       "      <td>0</td>\n",
       "      <td>0</td>\n",
       "    </tr>\n",
       "  </tbody>\n",
       "</table>\n",
       "</div>"
      ],
      "text/plain": [
       "      G     A    GP   PIM  position_C  position_D  position_LW  position_RW\n",
       "0  18.0  18.0  54.0  16.0           1           0            0            0\n",
       "2   2.0   2.0  48.0  22.0           1           0            0            0\n",
       "3  11.0  31.0  53.0  24.0           0           0            0            1\n",
       "5   5.0  13.0  47.0  85.0           0           1            0            0\n",
       "9  24.0  30.0  51.0  16.0           1           0            0            0"
      ]
     },
     "execution_count": 1733,
     "metadata": {},
     "output_type": "execute_result"
    }
   ],
   "source": [
    "#Now lets split up into x and y \n",
    "players.drop(columns='year',inplace=True)\n",
    "y=players.first_round\n",
    "x=players.drop(columns={'first_round','GP_z_score','P_z_score'})\n",
    "x.head()"
   ]
  },
  {
   "cell_type": "code",
   "execution_count": null,
   "metadata": {},
   "outputs": [
    {
     "data": {
      "text/html": [
       "<div>\n",
       "<style scoped>\n",
       "    .dataframe tbody tr th:only-of-type {\n",
       "        vertical-align: middle;\n",
       "    }\n",
       "\n",
       "    .dataframe tbody tr th {\n",
       "        vertical-align: top;\n",
       "    }\n",
       "\n",
       "    .dataframe thead th {\n",
       "        text-align: right;\n",
       "    }\n",
       "</style>\n",
       "<table border=\"1\" class=\"dataframe\">\n",
       "  <thead>\n",
       "    <tr style=\"text-align: right;\">\n",
       "      <th></th>\n",
       "      <th>G</th>\n",
       "      <th>A</th>\n",
       "      <th>GP</th>\n",
       "      <th>PIM</th>\n",
       "      <th>position_C</th>\n",
       "      <th>position_D</th>\n",
       "      <th>position_LW</th>\n",
       "      <th>position_RW</th>\n",
       "    </tr>\n",
       "  </thead>\n",
       "  <tbody>\n",
       "    <tr>\n",
       "      <th>0</th>\n",
       "      <td>0.219011</td>\n",
       "      <td>-0.468028</td>\n",
       "      <td>0.301030</td>\n",
       "      <td>-0.923558</td>\n",
       "      <td>1.626728</td>\n",
       "      <td>-0.779194</td>\n",
       "      <td>-0.464559</td>\n",
       "      <td>-0.453308</td>\n",
       "    </tr>\n",
       "    <tr>\n",
       "      <th>1</th>\n",
       "      <td>-1.132554</td>\n",
       "      <td>-1.545018</td>\n",
       "      <td>-0.108608</td>\n",
       "      <td>-0.808941</td>\n",
       "      <td>1.626728</td>\n",
       "      <td>-0.779194</td>\n",
       "      <td>-0.464559</td>\n",
       "      <td>-0.453308</td>\n",
       "    </tr>\n",
       "  </tbody>\n",
       "</table>\n",
       "</div>"
      ],
      "text/plain": [
       "          G         A        GP       PIM  position_C  position_D  \\\n",
       "0  0.219011 -0.468028  0.301030 -0.923558    1.626728   -0.779194   \n",
       "1 -1.132554 -1.545018 -0.108608 -0.808941    1.626728   -0.779194   \n",
       "\n",
       "   position_LW  position_RW  \n",
       "0    -0.464559    -0.453308  \n",
       "1    -0.464559    -0.453308  "
      ]
     },
     "execution_count": 1734,
     "metadata": {},
     "output_type": "execute_result"
    }
   ],
   "source": [
    "#Lets scale the data\n",
    "from sklearn.preprocessing import StandardScaler\n",
    "scale=StandardScaler()\n",
    "x_titles=x.columns.tolist()\n",
    "x_not_scaled=x\n",
    "x_scaled=scale.fit_transform(x)\n",
    "x=pd.DataFrame(data=x_scaled,columns=x_titles)\n",
    "x.head(2)"
   ]
  },
  {
   "attachments": {},
   "cell_type": "markdown",
   "metadata": {},
   "source": [
    "# Feature Engineering"
   ]
  },
  {
   "attachments": {},
   "cell_type": "markdown",
   "metadata": {},
   "source": [
    "## PCA"
   ]
  },
  {
   "attachments": {},
   "cell_type": "markdown",
   "metadata": {},
   "source": [
    "PCA (Principal Component Analysis):\n",
    "\n",
    "PCA is an unsupervised ML algorithm that allows us to reduce the number of features that we have without loosing any of the information of the dataset.\n",
    "\n",
    "PCA algorithms calculate a covariance matrix to show the relationship between each feature. We then use matrix factorization to find a pair of matrices that equal the covariance matrix, hence reducing the features without losing information. To do this, we use eigenvectors and eigenvalues to rotate a n-dimensional space to a 2-dimensional space.\n",
    "\n",
    "To demonstrate my understanding, I will build a PCA algorithm before using scikit-learn model"
   ]
  },
  {
   "attachments": {},
   "cell_type": "markdown",
   "metadata": {},
   "source": [
    "### PCA Algorithm"
   ]
  },
  {
   "cell_type": "code",
   "execution_count": null,
   "metadata": {},
   "outputs": [
    {
     "data": {
      "image/png": "[encoded data removed]",
      "text/plain": [
       "<Figure size 640x480 with 2 Axes>"
      ]
     },
     "metadata": {},
     "output_type": "display_data"
    }
   ],
   "source": [
    "#Lets look at the correlation matrix\n",
    "cor_matrix=x.corr()\n",
    "red_blue = sns.diverging_palette(220, 20, as_cmap=True)\n",
    "sns.heatmap(cor_matrix, vmin = -1, vmax = 1, cmap=red_blue)\n",
    "plt.show()"
   ]
  },
  {
   "cell_type": "code",
   "execution_count": null,
   "metadata": {},
   "outputs": [],
   "source": [
    "#Now lets get the eigenvalues and eigenvectors\n",
    "eigenvalues ,eigenvectors =np.linalg.eig(cor_matrix)"
   ]
  },
  {
   "cell_type": "code",
   "execution_count": null,
   "metadata": {},
   "outputs": [],
   "source": [
    "# Find the proportion of information for each eigenvector, which is equal to the eigenvalues divided by the sum of all eigenvalues\n",
    "info_prop = eigenvalues/eigenvalues.sum()"
   ]
  },
  {
   "cell_type": "code",
   "execution_count": null,
   "metadata": {},
   "outputs": [
    {
     "data": {
      "image/png": "[encoded data removed]",
      "text/plain": [
       "<Figure size 640x480 with 1 Axes>"
      ]
     },
     "metadata": {},
     "output_type": "display_data"
    }
   ],
   "source": [
    "#Make a Scee plot to see how the percent of information explained changes with the number of features\n",
    "plt.plot(np.arange(1,len(info_prop)+1),info_prop, 'bo-', linewidth=2)\n",
    "plt.title('Scree Plot')\n",
    "plt.xlabel('Principal Axes')\n",
    "plt.xticks(np.arange(1,len(info_prop)+1))\n",
    "plt.ylabel('Percent of Information Explained')\n",
    "plt.show()\n",
    "plt.close()"
   ]
  },
  {
   "cell_type": "code",
   "execution_count": null,
   "metadata": {},
   "outputs": [
    {
     "data": {
      "image/png": "[encoded data removed]",
      "text/plain": [
       "<Figure size 640x480 with 1 Axes>"
      ]
     },
     "metadata": {},
     "output_type": "display_data"
    }
   ],
   "source": [
    "#What about the cumulative sum of the proportions\n",
    "cum_info_prop = np.cumsum(info_prop)\n",
    "\n",
    "\n",
    "plt.plot(cum_info_prop, 'bo-', linewidth=2)\n",
    "plt.hlines(y=.85, xmin=0, xmax=15)\n",
    "plt.vlines(x=5, ymin=0, ymax=1)\n",
    "plt.title('Cumulative Information percentages')\n",
    "plt.xlabel('Principal Axes')\n",
    "plt.xticks(np.arange(1,len(info_prop)))\n",
    "plt.ylabel('Cumulative Proportion of Variance Explained')\n",
    "plt.show()\n",
    "plt.close()\n",
    "\n",
    "#From this, we see that we need 6 features to explain 85% of the variance in the data.\n",
    "#We may be able to drop the last 2 featrues to reduce computation time"
   ]
  },
  {
   "cell_type": "code",
   "execution_count": null,
   "metadata": {},
   "outputs": [
    {
     "data": {
      "text/html": [
       "<div>\n",
       "<style scoped>\n",
       "    .dataframe tbody tr th:only-of-type {\n",
       "        vertical-align: middle;\n",
       "    }\n",
       "\n",
       "    .dataframe tbody tr th {\n",
       "        vertical-align: top;\n",
       "    }\n",
       "\n",
       "    .dataframe thead th {\n",
       "        text-align: right;\n",
       "    }\n",
       "</style>\n",
       "<table border=\"1\" class=\"dataframe\">\n",
       "  <thead>\n",
       "    <tr style=\"text-align: right;\">\n",
       "      <th></th>\n",
       "      <th>G</th>\n",
       "      <th>A</th>\n",
       "      <th>GP</th>\n",
       "      <th>PIM</th>\n",
       "      <th>position_C</th>\n",
       "      <th>position_D</th>\n",
       "      <th>position_LW</th>\n",
       "      <th>position_RW</th>\n",
       "    </tr>\n",
       "  </thead>\n",
       "  <tbody>\n",
       "    <tr>\n",
       "      <th>0</th>\n",
       "      <td>0.305182</td>\n",
       "      <td>0.516534</td>\n",
       "      <td>0.54507</td>\n",
       "      <td>0.586912</td>\n",
       "      <td>0.684866</td>\n",
       "      <td>0.848903</td>\n",
       "      <td>1.0</td>\n",
       "      <td>1.0</td>\n",
       "    </tr>\n",
       "  </tbody>\n",
       "</table>\n",
       "</div>"
      ],
      "text/plain": [
       "          G         A       GP       PIM  position_C  position_D  position_LW  \\\n",
       "0  0.305182  0.516534  0.54507  0.586912    0.684866    0.848903          1.0   \n",
       "\n",
       "   position_RW  \n",
       "0          1.0  "
      ]
     },
     "execution_count": 1740,
     "metadata": {},
     "output_type": "execute_result"
    }
   ],
   "source": [
    "cum_info_prop=np.reshape(cum_info_prop,(1,8))\n",
    "cum_info_prop= pd.DataFrame(columns=x_titles,data=cum_info_prop)\n",
    "cum_info_prop\n",
    "\n",
    "#It looks like position explians no variance in the data"
   ]
  },
  {
   "attachments": {},
   "cell_type": "markdown",
   "metadata": {},
   "source": [
    "### Using Scikit-Learn"
   ]
  },
  {
   "cell_type": "code",
   "execution_count": null,
   "metadata": {},
   "outputs": [],
   "source": [
    "from sklearn.decomposition import PCA\n",
    "\n",
    "pca=PCA()"
   ]
  },
  {
   "cell_type": "code",
   "execution_count": null,
   "metadata": {},
   "outputs": [],
   "source": [
    "#The data is already standardized so we can find the principal components just like the algorithm did\n",
    "components = pca.fit(x).components_\n",
    "components = pd.DataFrame(components).transpose()\n",
    "components.index = x.columns"
   ]
  },
  {
   "cell_type": "code",
   "execution_count": null,
   "metadata": {},
   "outputs": [
    {
     "data": {
      "text/html": [
       "<div>\n",
       "<style scoped>\n",
       "    .dataframe tbody tr th:only-of-type {\n",
       "        vertical-align: middle;\n",
       "    }\n",
       "\n",
       "    .dataframe tbody tr th {\n",
       "        vertical-align: top;\n",
       "    }\n",
       "\n",
       "    .dataframe thead th {\n",
       "        text-align: right;\n",
       "    }\n",
       "</style>\n",
       "<table border=\"1\" class=\"dataframe\">\n",
       "  <thead>\n",
       "    <tr style=\"text-align: right;\">\n",
       "      <th></th>\n",
       "      <th>G</th>\n",
       "      <th>A</th>\n",
       "      <th>GP</th>\n",
       "      <th>PIM</th>\n",
       "      <th>position_C</th>\n",
       "      <th>position_D</th>\n",
       "      <th>position_LW</th>\n",
       "      <th>position_RW</th>\n",
       "    </tr>\n",
       "  </thead>\n",
       "  <tbody>\n",
       "    <tr>\n",
       "      <th>0</th>\n",
       "      <td>30.52</td>\n",
       "      <td>21.14</td>\n",
       "      <td>16.4</td>\n",
       "      <td>15.11</td>\n",
       "      <td>9.8</td>\n",
       "      <td>4.18</td>\n",
       "      <td>2.85</td>\n",
       "      <td>0.0</td>\n",
       "    </tr>\n",
       "  </tbody>\n",
       "</table>\n",
       "</div>"
      ],
      "text/plain": [
       "       G      A    GP    PIM  position_C  position_D  position_LW  position_RW\n",
       "0  30.52  21.14  16.4  15.11         9.8        4.18         2.85          0.0"
      ]
     },
     "execution_count": 1743,
     "metadata": {},
     "output_type": "execute_result"
    }
   ],
   "source": [
    "#Then we need to calculate the variance and info proportion\n",
    "var_ratio = (pca.explained_variance_ratio_*100).round(2)\n",
    "var_ratio= pd.DataFrame(data=np.reshape(var_ratio,(1,8)),columns=x_titles)\n",
    "var_ratio\n",
    "#We see similar results... no variation is explained by the position of the player... interesting"
   ]
  },
  {
   "attachments": {},
   "cell_type": "markdown",
   "metadata": {},
   "source": [
    "Overall, the PCA revealed that 6 features will explian 95% variation in the data. The players postion is not needed."
   ]
  },
  {
   "attachments": {},
   "cell_type": "markdown",
   "metadata": {},
   "source": [
    "## Wrapper Methods"
   ]
  },
  {
   "attachments": {},
   "cell_type": "markdown",
   "metadata": {},
   "source": [
    "A wrapper method for is an algorithm that selects features by evaluating the performance of a machine learning model on different subsets of features. These algorithms add or remove features one at a time based on how useful those features are to the model. I will look at sequential forward and backwards feature selection with and without replacement and recursive feature selection.\n",
    "\n",
    "I will use a simple logistic regression model to determine the number of features needed"
   ]
  },
  {
   "attachments": {},
   "cell_type": "markdown",
   "metadata": {},
   "source": [
    "### Sequential Forward Selection"
   ]
  },
  {
   "cell_type": "code",
   "execution_count": null,
   "metadata": {},
   "outputs": [],
   "source": [
    "from sklearn.linear_model import LogisticRegression\n",
    "from mlxtend.feature_selection import SequentialFeatureSelector as SFS\n",
    "from mlxtend.plotting import plot_sequential_feature_selection as plot_sfs\n",
    "\n",
    "lr=LogisticRegression(class_weight='balanced')"
   ]
  },
  {
   "cell_type": "code",
   "execution_count": null,
   "metadata": {},
   "outputs": [
    {
     "name": "stderr",
     "output_type": "stream",
     "text": [
      "c:\\Users\\eobri\\anaconda3\\lib\\site-packages\\numpy\\core\\_methods.py:262: RuntimeWarning: Degrees of freedom <= 0 for slice\n",
      "  ret = _var(a, axis=axis, dtype=dtype, out=out, ddof=ddof,\n",
      "c:\\Users\\eobri\\anaconda3\\lib\\site-packages\\numpy\\core\\_methods.py:254: RuntimeWarning: invalid value encountered in double_scalars\n",
      "  ret = ret.dtype.type(ret / rcount)\n"
     ]
    },
    {
     "data": {
      "image/png": "[encoded data removed]",
      "text/plain": [
       "<Figure size 640x480 with 1 Axes>"
      ]
     },
     "metadata": {},
     "output_type": "display_data"
    }
   ],
   "source": [
    "sfs = SFS(lr,k_features=len(x.columns),forward=True,floating=False,scoring='accuracy',cv=0)\n",
    "sfs.fit(x, y)\n",
    "\n",
    "# Plot the model accuracy\n",
    "plot_sfs(sfs.get_metric_dict())\n",
    "plt.show()\n",
    "plt.close()\n",
    "\n",
    "#We see the model performs best with 6 features"
   ]
  },
  {
   "cell_type": "code",
   "execution_count": null,
   "metadata": {},
   "outputs": [
    {
     "name": "stdout",
     "output_type": "stream",
     "text": [
      "0.7434\n"
     ]
    }
   ],
   "source": [
    "#What is the accuracy at 5 features?\n",
    "\n",
    "print(sfs.subsets_[5]['avg_score'].round(4))"
   ]
  },
  {
   "attachments": {},
   "cell_type": "markdown",
   "metadata": {},
   "source": [
    "Now, lets do SFS but with floating selection. This means that each time we add a feature we will check if removing one improves the performance"
   ]
  },
  {
   "cell_type": "code",
   "execution_count": null,
   "metadata": {},
   "outputs": [
    {
     "name": "stderr",
     "output_type": "stream",
     "text": [
      "c:\\Users\\eobri\\anaconda3\\lib\\site-packages\\numpy\\core\\_methods.py:262: RuntimeWarning: Degrees of freedom <= 0 for slice\n",
      "  ret = _var(a, axis=axis, dtype=dtype, out=out, ddof=ddof,\n",
      "c:\\Users\\eobri\\anaconda3\\lib\\site-packages\\numpy\\core\\_methods.py:254: RuntimeWarning: invalid value encountered in double_scalars\n",
      "  ret = ret.dtype.type(ret / rcount)\n"
     ]
    },
    {
     "data": {
      "image/png": "[encoded data removed]",
      "text/plain": [
       "<Figure size 640x480 with 1 Axes>"
      ]
     },
     "metadata": {},
     "output_type": "display_data"
    }
   ],
   "source": [
    "sfs = SFS(lr,k_features=len(x.columns),forward=True,floating=True,scoring='accuracy',cv=0)\n",
    "sfs.fit(x, y)\n",
    "\n",
    "# Plot the model accuracy\n",
    "plot_sfs(sfs.get_metric_dict())\n",
    "plt.show()\n",
    "plt.close()\n",
    "\n",
    "#Again, we see that 6 features result in the best performance"
   ]
  },
  {
   "cell_type": "code",
   "execution_count": null,
   "metadata": {},
   "outputs": [
    {
     "name": "stdout",
     "output_type": "stream",
     "text": [
      "('G', 'A', 'GP', 'position_C', 'position_D', 'position_LW')\n",
      "0.7461\n"
     ]
    }
   ],
   "source": [
    "#Those features are:\n",
    "print(sfs.subsets_[6]['feature_names'])\n",
    "#With accuracy:\n",
    "print(sfs.subsets_[6]['avg_score'].round(4))\n",
    "\n",
    "#Interesting features chosen. We see that the model actually performs best with the positioning"
   ]
  },
  {
   "attachments": {},
   "cell_type": "markdown",
   "metadata": {},
   "source": [
    "### Sequential Backward Selection"
   ]
  },
  {
   "cell_type": "code",
   "execution_count": null,
   "metadata": {},
   "outputs": [
    {
     "name": "stderr",
     "output_type": "stream",
     "text": [
      "c:\\Users\\eobri\\anaconda3\\lib\\site-packages\\numpy\\core\\_methods.py:262: RuntimeWarning: Degrees of freedom <= 0 for slice\n",
      "  ret = _var(a, axis=axis, dtype=dtype, out=out, ddof=ddof,\n",
      "c:\\Users\\eobri\\anaconda3\\lib\\site-packages\\numpy\\core\\_methods.py:254: RuntimeWarning: invalid value encountered in double_scalars\n",
      "  ret = ret.dtype.type(ret / rcount)\n"
     ]
    },
    {
     "data": {
      "image/png": "[encoded data removed]",
      "text/plain": [
       "<Figure size 640x480 with 1 Axes>"
      ]
     },
     "metadata": {},
     "output_type": "display_data"
    }
   ],
   "source": [
    "lr = LogisticRegression(class_weight='balanced')\n",
    "\n",
    "# Sequential backward selection. Lets do floating\n",
    "sbs = SFS(lr,k_features=len(x.columns),forward=True,floating=True,scoring='accuracy',cv=0)\n",
    "sbs.fit(x, y)\n",
    "\n",
    "plot_sfs(sbs.get_metric_dict())\n",
    "plt.show()\n",
    "plt.close()\n",
    "\n",
    "#Looks pretty similar to the forward selection"
   ]
  },
  {
   "cell_type": "code",
   "execution_count": null,
   "metadata": {},
   "outputs": [
    {
     "name": "stdout",
     "output_type": "stream",
     "text": [
      "('G', 'A', 'GP', 'position_C', 'position_D', 'position_LW')\n",
      "0.7461\n"
     ]
    }
   ],
   "source": [
    "#Those features are:\n",
    "print(sbs.subsets_[6]['feature_names'])\n",
    "#With accuracy:\n",
    "print(sbs.subsets_[6]['avg_score'].round(4))\n",
    "\n",
    "#We get the same results"
   ]
  },
  {
   "attachments": {},
   "cell_type": "markdown",
   "metadata": {},
   "source": [
    "### Recursive Feature Selection\n",
    "\n",
    "Recursive feature elimination is another wrapper method for feature selection. It starts by training a model with all available features. It then ranks each feature according to an importance metric and removes the least important feature. The algorithm then trains the model on the smaller feature set, ranks those features, and removes the least important one. The process stops when the desired number of features is reached.\n",
    "\n",
    "I will use 6 features as the chosen amount since the PCA showed that 6 features explains 95% of the variance"
   ]
  },
  {
   "cell_type": "code",
   "execution_count": null,
   "metadata": {},
   "outputs": [
    {
     "data": {
      "text/plain": [
       "RFE(estimator=LogisticRegression(class_weight='balanced', max_iter=1000),\n",
       "    n_features_to_select=6)"
      ]
     },
     "execution_count": 1751,
     "metadata": {},
     "output_type": "execute_result"
    }
   ],
   "source": [
    "from sklearn.feature_selection import RFE\n",
    "\n",
    "feature_list = list(x.columns)\n",
    "\n",
    "lr = LogisticRegression(max_iter=1000,class_weight='balanced')\n",
    "\n",
    "# Recursive feature elimination\n",
    "rfe = RFE(estimator=lr, n_features_to_select=6)\n",
    "rfe.fit(x, y)"
   ]
  },
  {
   "cell_type": "code",
   "execution_count": null,
   "metadata": {},
   "outputs": [
    {
     "name": "stdout",
     "output_type": "stream",
     "text": [
      "['G', 'A', 'GP', 'PIM', 'position_D', 'position_LW']\n",
      "0.7444\n"
     ]
    }
   ],
   "source": [
    "# List of features chosen by recursive feature elimination\n",
    "\n",
    "rfe_features = [f for (f, support) in zip(feature_list, rfe.support_) if support]\n",
    "\n",
    "print(rfe_features)\n",
    "\n",
    "# Print the accuracy of the model with features chosen by recursive feature elimination\n",
    "print(rfe.score(x,y).round(4))\n",
    "\n",
    "#Interesting... we get different results from the SFS and SBF. Lets use these columns moving forward as intuetly they make more sense"
   ]
  },
  {
   "attachments": {},
   "cell_type": "markdown",
   "metadata": {},
   "source": [
    "# Machine Learning Models"
   ]
  },
  {
   "attachments": {},
   "cell_type": "markdown",
   "metadata": {},
   "source": [
    "Overall, the SFS and SBS floating selection revealed that 6 features was needed for optimal model performance. The Recursive selection algorithms chose features that intuetively makes more sense to me. hence I will choose them.\n",
    "\n",
    "Moving forward, I will look at the features ['A', 'GP', 'PIM', 'P', 'position_D']"
   ]
  },
  {
   "cell_type": "code",
   "execution_count": null,
   "metadata": {},
   "outputs": [
    {
     "data": {
      "text/html": [
       "<div>\n",
       "<style scoped>\n",
       "    .dataframe tbody tr th:only-of-type {\n",
       "        vertical-align: middle;\n",
       "    }\n",
       "\n",
       "    .dataframe tbody tr th {\n",
       "        vertical-align: top;\n",
       "    }\n",
       "\n",
       "    .dataframe thead th {\n",
       "        text-align: right;\n",
       "    }\n",
       "</style>\n",
       "<table border=\"1\" class=\"dataframe\">\n",
       "  <thead>\n",
       "    <tr style=\"text-align: right;\">\n",
       "      <th></th>\n",
       "      <th>G</th>\n",
       "      <th>A</th>\n",
       "      <th>GP</th>\n",
       "      <th>PIM</th>\n",
       "      <th>position_D</th>\n",
       "      <th>position_LW</th>\n",
       "    </tr>\n",
       "  </thead>\n",
       "  <tbody>\n",
       "    <tr>\n",
       "      <th>0</th>\n",
       "      <td>0.219011</td>\n",
       "      <td>-0.468028</td>\n",
       "      <td>0.301030</td>\n",
       "      <td>-0.923558</td>\n",
       "      <td>-0.779194</td>\n",
       "      <td>-0.464559</td>\n",
       "    </tr>\n",
       "    <tr>\n",
       "      <th>1</th>\n",
       "      <td>-1.132554</td>\n",
       "      <td>-1.545018</td>\n",
       "      <td>-0.108608</td>\n",
       "      <td>-0.808941</td>\n",
       "      <td>-0.779194</td>\n",
       "      <td>-0.464559</td>\n",
       "    </tr>\n",
       "    <tr>\n",
       "      <th>2</th>\n",
       "      <td>-0.372299</td>\n",
       "      <td>0.407027</td>\n",
       "      <td>0.232757</td>\n",
       "      <td>-0.770736</td>\n",
       "      <td>-0.779194</td>\n",
       "      <td>-0.464559</td>\n",
       "    </tr>\n",
       "    <tr>\n",
       "      <th>3</th>\n",
       "      <td>-0.879136</td>\n",
       "      <td>-0.804587</td>\n",
       "      <td>-0.176881</td>\n",
       "      <td>0.394539</td>\n",
       "      <td>1.283378</td>\n",
       "      <td>-0.464559</td>\n",
       "    </tr>\n",
       "    <tr>\n",
       "      <th>4</th>\n",
       "      <td>0.725848</td>\n",
       "      <td>0.339715</td>\n",
       "      <td>0.096211</td>\n",
       "      <td>-0.923558</td>\n",
       "      <td>-0.779194</td>\n",
       "      <td>-0.464559</td>\n",
       "    </tr>\n",
       "  </tbody>\n",
       "</table>\n",
       "</div>"
      ],
      "text/plain": [
       "          G         A        GP       PIM  position_D  position_LW\n",
       "0  0.219011 -0.468028  0.301030 -0.923558   -0.779194    -0.464559\n",
       "1 -1.132554 -1.545018 -0.108608 -0.808941   -0.779194    -0.464559\n",
       "2 -0.372299  0.407027  0.232757 -0.770736   -0.779194    -0.464559\n",
       "3 -0.879136 -0.804587 -0.176881  0.394539    1.283378    -0.464559\n",
       "4  0.725848  0.339715  0.096211 -0.923558   -0.779194    -0.464559"
      ]
     },
     "execution_count": 1753,
     "metadata": {},
     "output_type": "execute_result"
    }
   ],
   "source": [
    "selected_features=['G', 'A', 'GP', 'PIM', 'position_D', 'position_LW']\n",
    "x=x[selected_features]\n",
    "x.head()"
   ]
  },
  {
   "attachments": {},
   "cell_type": "markdown",
   "metadata": {},
   "source": [
    "I will aim to classify if a player is drafted in the first round or not using a logistic regression, K Nearest Neighbours, Descision Tree, SVM, and Naive Bayers Classification model"
   ]
  },
  {
   "cell_type": "code",
   "execution_count": null,
   "metadata": {},
   "outputs": [],
   "source": [
    "#First, lets split the data into training and testing datasets\n",
    "\n",
    "from sklearn.model_selection import train_test_split\n",
    "\n",
    "x_train,x_test,y_train,y_test=train_test_split(x,y,test_size=0.2,random_state=42)"
   ]
  },
  {
   "attachments": {},
   "cell_type": "markdown",
   "metadata": {},
   "source": [
    "## Logistic Regression\n",
    "\n",
    "Logistic regressions are similar to a linear regression except it is used to predict a binary output. It uses log-odds or a sigmoid function to compute probabilities of a data point falling within a class. Based on some threshold it then classifies the point as 0 or 1. "
   ]
  },
  {
   "cell_type": "code",
   "execution_count": null,
   "metadata": {},
   "outputs": [
    {
     "data": {
      "text/plain": [
       "LogisticRegression(class_weight='balanced')"
      ]
     },
     "execution_count": 1755,
     "metadata": {},
     "output_type": "execute_result"
    }
   ],
   "source": [
    "from sklearn.linear_model import LogisticRegression\n",
    "from sklearn.metrics import confusion_matrix, classification_report, accuracy_score, precision_score, recall_score, f1_score\n",
    "#Logistic regression object using scikit-learn library\n",
    "lr=LogisticRegression(class_weight='balanced')\n",
    "#train the model using the data\n",
    "lr.fit(x_train,y_train)\n"
   ]
  },
  {
   "cell_type": "code",
   "execution_count": null,
   "metadata": {},
   "outputs": [
    {
     "name": "stdout",
     "output_type": "stream",
     "text": [
      "accruacy: 0.7304\n",
      "Confusion Matrix: \n",
      "[[490 183]\n",
      " [ 16  49]]\n",
      "classification report: \n",
      "              precision    recall  f1-score   support\n",
      "\n",
      "           0       0.97      0.73      0.83       673\n",
      "           1       0.21      0.75      0.33        65\n",
      "\n",
      "    accuracy                           0.73       738\n",
      "   macro avg       0.59      0.74      0.58       738\n",
      "weighted avg       0.90      0.73      0.79       738\n",
      "\n"
     ]
    }
   ],
   "source": [
    "#Check the performance\n",
    "y_pred=lr.predict(x_test)\n",
    "\n",
    "print(f'accruacy: {lr.score(x_test,y_test).round(4)}')\n",
    "print('Confusion Matrix: ')\n",
    "print(confusion_matrix(y_test,y_pred))\n",
    "print('classification report: ')\n",
    "print(classification_report(y_test,y_pred))"
   ]
  },
  {
   "cell_type": "code",
   "execution_count": null,
   "metadata": {},
   "outputs": [
    {
     "data": {
      "image/png": "[encoded data removed]",
      "text/plain": [
       "<Figure size 640x480 with 2 Axes>"
      ]
     },
     "metadata": {},
     "output_type": "display_data"
    }
   ],
   "source": [
    "conf_matrix=confusion_matrix(y_test,y_pred)\n",
    "sns.heatmap(conf_matrix, annot=True, fmt='d', cmap='Blues')\n",
    "\n",
    "# Show the plot\n",
    "plt.show()"
   ]
  },
  {
   "attachments": {},
   "cell_type": "markdown",
   "metadata": {},
   "source": [
    "## K Nearest Neighbours\n",
    "\n",
    "This model works by assuming data of the same class will be close to eachother. It uses the distance formula to determine how close an item is to other items of a known class. Then, using k, or the number of closest neighbours to assess, it classifies the point based on majority rules of what class of points are closest to it. Generally, a k of around 5 is acceptable"
   ]
  },
  {
   "cell_type": "code",
   "execution_count": null,
   "metadata": {},
   "outputs": [
    {
     "data": {
      "text/plain": [
       "KNeighborsClassifier(weights='distance')"
      ]
     },
     "execution_count": 1758,
     "metadata": {},
     "output_type": "execute_result"
    }
   ],
   "source": [
    "from sklearn.neighbors import KNeighborsClassifier\n",
    "#K nearest neighbours object using scikit-learn library\n",
    "class_weight = {0: 1, 1: 10}\n",
    "k_neigh = KNeighborsClassifier(n_neighbors=5, weights='distance' )\n",
    "#Train the model\n",
    "k_neigh.fit(x_train,y_train)"
   ]
  },
  {
   "cell_type": "code",
   "execution_count": null,
   "metadata": {},
   "outputs": [
    {
     "name": "stdout",
     "output_type": "stream",
     "text": [
      "accruacy: 0.8916\n",
      "Confusion Matrix: \n",
      "[[650  23]\n",
      " [ 57   8]]\n",
      "classification report: \n",
      "              precision    recall  f1-score   support\n",
      "\n",
      "           0       0.92      0.97      0.94       673\n",
      "           1       0.26      0.12      0.17        65\n",
      "\n",
      "    accuracy                           0.89       738\n",
      "   macro avg       0.59      0.54      0.55       738\n",
      "weighted avg       0.86      0.89      0.87       738\n",
      "\n"
     ]
    }
   ],
   "source": [
    "y_pred=k_neigh.predict(x_test)\n",
    "\n",
    "print(f'accruacy: {k_neigh.score(x_test,y_test).round(4)}')\n",
    "print('Confusion Matrix: ')\n",
    "print(confusion_matrix(y_test,y_pred))\n",
    "print('classification report: ')\n",
    "print(classification_report(y_test,y_pred))"
   ]
  },
  {
   "attachments": {},
   "cell_type": "markdown",
   "metadata": {},
   "source": [
    "These results are great... however, because the class weights are imbalanced, the data is overfit to the nagative class."
   ]
  },
  {
   "attachments": {},
   "cell_type": "markdown",
   "metadata": {},
   "source": [
    "## Decision Tree\n",
    "\n",
    "A decision tree is another classification model that looks at patterns in a dataset and breaks down data feature by feature to classify. \n",
    "\n",
    "The tree keeps splitting to lower the gini impurity (1 - sum of squared probabilties) to increase the information gain"
   ]
  },
  {
   "cell_type": "code",
   "execution_count": null,
   "metadata": {},
   "outputs": [],
   "source": [
    "from sklearn.tree import DecisionTreeClassifier\n",
    "from sklearn import tree\n",
    "#Max depth at 3 so not to overfit the data\n",
    "dTree= DecisionTreeClassifier(max_depth=7,class_weight='balanced')"
   ]
  },
  {
   "cell_type": "code",
   "execution_count": null,
   "metadata": {},
   "outputs": [
    {
     "name": "stdout",
     "output_type": "stream",
     "text": [
      "accruacy: 0.706\n",
      "Confusion Matrix: \n",
      "[[467 206]\n",
      " [ 11  54]]\n",
      "classification report: \n",
      "              precision    recall  f1-score   support\n",
      "\n",
      "           0       0.98      0.69      0.81       673\n",
      "           1       0.21      0.83      0.33        65\n",
      "\n",
      "    accuracy                           0.71       738\n",
      "   macro avg       0.59      0.76      0.57       738\n",
      "weighted avg       0.91      0.71      0.77       738\n",
      "\n"
     ]
    }
   ],
   "source": [
    "#Again, we will look at the performance\n",
    "dTree.fit(x_train,y_train)\n",
    "y_pred= dTree.predict(x_test)\n",
    "print(f'accruacy: {dTree.score(x_test,y_test).round(4)}')\n",
    "print('Confusion Matrix: ')\n",
    "print(confusion_matrix(y_test,y_pred))\n",
    "print('classification report: ')\n",
    "print(classification_report(y_test,y_pred,zero_division=0))\n",
    "\n"
   ]
  },
  {
   "cell_type": "code",
   "execution_count": null,
   "metadata": {},
   "outputs": [
    {
     "data": {
      "image/png": "[encoded data removed]",
      "text/plain": [
       "<Figure size 2700x1200 with 1 Axes>"
      ]
     },
     "metadata": {},
     "output_type": "display_data"
    }
   ],
   "source": [
    "#Lets visualize the tree\n",
    "plt.figure(figsize=(27,12))\n",
    "tree.plot_tree(dTree,feature_names =x_train.columns,class_names=['not_first_round','first_round'],filled=True)\n",
    "plt.tight_layout()\n",
    "plt.show()"
   ]
  },
  {
   "attachments": {},
   "cell_type": "markdown",
   "metadata": {},
   "source": [
    "## Support Vector Machines (SVM)\n",
    "\n",
    "SVM's work by defining a decision boundary and making a classification based off of which side of the boundary the point falls on.\n",
    "\n",
    "This model has high computational speed as we only are worried about the points on the decision boundary margin. I will use a RBF kernal "
   ]
  },
  {
   "cell_type": "code",
   "execution_count": null,
   "metadata": {},
   "outputs": [
    {
     "data": {
      "text/plain": [
       "SVC(C=1, class_weight='balanced', gamma=1)"
      ]
     },
     "execution_count": 1763,
     "metadata": {},
     "output_type": "execute_result"
    }
   ],
   "source": [
    "from sklearn.svm import SVC\n",
    "\n",
    "svc=SVC(kernel = \"rbf\", gamma = 1, C = 1,class_weight='balanced')\n",
    "\n",
    "svc.fit(x_train,y_train)"
   ]
  },
  {
   "cell_type": "code",
   "execution_count": null,
   "metadata": {},
   "outputs": [
    {
     "name": "stdout",
     "output_type": "stream",
     "text": [
      "accruacy: 0.7358\n",
      "Confusion Matrix: \n",
      "[[492 181]\n",
      " [ 14  51]]\n",
      "classification report: \n",
      "              precision    recall  f1-score   support\n",
      "\n",
      "           0       0.97      0.73      0.83       673\n",
      "           1       0.22      0.78      0.34        65\n",
      "\n",
      "    accuracy                           0.74       738\n",
      "   macro avg       0.60      0.76      0.59       738\n",
      "weighted avg       0.91      0.74      0.79       738\n",
      "\n"
     ]
    }
   ],
   "source": [
    "#Again, we will look at the performance\n",
    "y_pred= svc.predict(x_test)\n",
    "print(f'accruacy: {svc.score(x_test,y_test).round(4)}')\n",
    "print('Confusion Matrix: ')\n",
    "print(confusion_matrix(y_test,y_pred))\n",
    "print('classification report: ')\n",
    "print(classification_report(y_test,y_pred))\n",
    "\n",
    "#We will need to tune the model to find the ideal C and gamma. I will do that later"
   ]
  },
  {
   "attachments": {},
   "cell_type": "markdown",
   "metadata": {},
   "source": [
    "# Ensemble Methods"
   ]
  },
  {
   "attachments": {},
   "cell_type": "markdown",
   "metadata": {},
   "source": [
    "We have used 4 different classification models to predict if a player will be drafted in the first round of the NHL draft. Below are the resulting model accuracies.\n",
    "\n",
    "- LR: 73.04%\n",
    "\n",
    "- KN: 89.7%\n",
    "\n",
    "- DTree: 70.60%\n",
    "\n",
    "- SVM: 73.58%\n",
    "\n",
    "Although the KNN method returned the highest accuracy, it was extremely overfitted to the negative class. This is because the dataset has a class imbalance (9% class=1) and so this method must be ignored.\n",
    "\n",
    "Therefore, I will attempt to improve the perforamcne of the other models using various ensemble methods.\n"
   ]
  },
  {
   "attachments": {},
   "cell_type": "markdown",
   "metadata": {},
   "source": [
    "## Random Forests\n",
    "\n",
    "I will use the random forests ensemble method on the Decision Tree model from the previous section of my analsysis.\n",
    "\n",
    "A random forest contains many decision trees that all work together to classify new points. The default is 100 classifiers, and each of those trees reports their classification and the random forest returns the most popular classification.\n",
    "\n",
    "The random forest uses bootstrapping, meaning that each time a decision tree makes a classification it uses a random subset from the dataset. "
   ]
  },
  {
   "cell_type": "code",
   "execution_count": null,
   "metadata": {},
   "outputs": [
    {
     "name": "stdout",
     "output_type": "stream",
     "text": [
      "{'bootstrap': True, 'ccp_alpha': 0.0, 'class_weight': 'balanced', 'criterion': 'gini', 'max_depth': 7, 'max_features': 'auto', 'max_leaf_nodes': None, 'max_samples': None, 'min_impurity_decrease': 0.0, 'min_samples_leaf': 1, 'min_samples_split': 2, 'min_weight_fraction_leaf': 0.0, 'n_estimators': 10, 'n_jobs': None, 'oob_score': False, 'random_state': None, 'verbose': 0, 'warm_start': False}\n"
     ]
    }
   ],
   "source": [
    "from sklearn.ensemble import RandomForestClassifier, BaggingClassifier, RandomForestRegressor\n",
    "\n",
    "rf=RandomForestClassifier(bootstrap=True,max_depth=7,n_estimators=10,class_weight='balanced')\n",
    "rf.fit(x_train,y_train)\n",
    "print(rf.get_params())\n",
    "y_pred=rf.predict(x_test)\n"
   ]
  },
  {
   "cell_type": "code",
   "execution_count": null,
   "metadata": {},
   "outputs": [
    {
     "name": "stdout",
     "output_type": "stream",
     "text": [
      "accruacy: 0.7466\n",
      "Confusion Matrix: \n",
      "[[501 172]\n",
      " [ 15  50]]\n",
      "classification report: \n",
      "              precision    recall  f1-score   support\n",
      "\n",
      "           0       0.97      0.74      0.84       673\n",
      "           1       0.23      0.77      0.35        65\n",
      "\n",
      "    accuracy                           0.75       738\n",
      "   macro avg       0.60      0.76      0.60       738\n",
      "weighted avg       0.91      0.75      0.80       738\n",
      "\n"
     ]
    }
   ],
   "source": [
    "y_pred= rf.predict(x_test)\n",
    "print(f'accruacy: {rf.score(x_test,y_test).round(4)}')\n",
    "print('Confusion Matrix: ')\n",
    "print(confusion_matrix(y_test,y_pred))\n",
    "print('classification report: ')\n",
    "print(classification_report(y_test,y_pred))\n",
    "\n",
    "#We improved the model by 3%!!!"
   ]
  },
  {
   "attachments": {},
   "cell_type": "markdown",
   "metadata": {},
   "source": [
    "## Bagging\n",
    "\n",
    "The Random Forests ensemble method is a form of Bootstrap Aggregation or `Bagging`. It uses many classifiers each drawing on random subsets of the data and aggregates the results to find the most common classification. I will using the scikit-learn bagging classifier to try to improve both the Decision tree and SVM models"
   ]
  },
  {
   "cell_type": "code",
   "execution_count": null,
   "metadata": {},
   "outputs": [
    {
     "data": {
      "text/plain": [
       "BaggingClassifier(base_estimator=DecisionTreeClassifier(class_weight='balanced',\n",
       "                                                        max_depth=7),\n",
       "                  n_estimators=100)"
      ]
     },
     "execution_count": 1767,
     "metadata": {},
     "output_type": "execute_result"
    }
   ],
   "source": [
    "from sklearn.ensemble import BaggingClassifier\n",
    "\n",
    "bagging_DTree=BaggingClassifier(DecisionTreeClassifier(max_depth=7,class_weight='balanced'),n_estimators=100)\n",
    "bagging_DTree.fit(x_train,y_train)"
   ]
  },
  {
   "cell_type": "code",
   "execution_count": null,
   "metadata": {},
   "outputs": [
    {
     "name": "stdout",
     "output_type": "stream",
     "text": [
      "accruacy: 0.748\n",
      "Confusion Matrix: \n",
      "[[504 169]\n",
      " [ 17  48]]\n",
      "classification report: \n",
      "              precision    recall  f1-score   support\n",
      "\n",
      "           0       0.97      0.75      0.84       673\n",
      "           1       0.22      0.74      0.34        65\n",
      "\n",
      "    accuracy                           0.75       738\n",
      "   macro avg       0.59      0.74      0.59       738\n",
      "weighted avg       0.90      0.75      0.80       738\n",
      "\n"
     ]
    }
   ],
   "source": [
    "y_pred= bagging_DTree.predict(x_test)\n",
    "print(f'accruacy: {bagging_DTree.score(x_test,y_test).round(4)}')\n",
    "print('Confusion Matrix: ')\n",
    "print(confusion_matrix(y_test,y_pred))\n",
    "print('classification report: ')\n",
    "print(classification_report(y_test,y_pred,zero_division=0))\n",
    "\n",
    "#We see a bigger accuracy improvement using the bagging method. Improvement by 4.2%"
   ]
  },
  {
   "attachments": {},
   "cell_type": "markdown",
   "metadata": {},
   "source": [
    "We see that we were able to improve the models accuracy. Now lets implement the same with the SVM model"
   ]
  },
  {
   "cell_type": "code",
   "execution_count": null,
   "metadata": {},
   "outputs": [
    {
     "data": {
      "text/plain": [
       "BaggingClassifier(base_estimator=SVC(C=10, class_weight='balanced', gamma=1),\n",
       "                  n_estimators=100)"
      ]
     },
     "execution_count": 1769,
     "metadata": {},
     "output_type": "execute_result"
    }
   ],
   "source": [
    "bagging_SVM=BaggingClassifier(SVC(kernel = \"rbf\", gamma = 1, C = 10,class_weight='balanced'),n_estimators=100)\n",
    "bagging_SVM.fit(x_train,y_train)"
   ]
  },
  {
   "cell_type": "code",
   "execution_count": null,
   "metadata": {},
   "outputs": [
    {
     "name": "stdout",
     "output_type": "stream",
     "text": [
      "accruacy: 0.8198\n",
      "Confusion Matrix: \n",
      "[[567 106]\n",
      " [ 27  38]]\n",
      "classification report: \n",
      "              precision    recall  f1-score   support\n",
      "\n",
      "           0       0.95      0.84      0.90       673\n",
      "           1       0.26      0.58      0.36        65\n",
      "\n",
      "    accuracy                           0.82       738\n",
      "   macro avg       0.61      0.71      0.63       738\n",
      "weighted avg       0.89      0.82      0.85       738\n",
      "\n"
     ]
    }
   ],
   "source": [
    "y_pred= bagging_SVM.predict(x_test)\n",
    "print(f'accruacy: {bagging_SVM.score(x_test,y_test).round(4)}')\n",
    "print('Confusion Matrix: ')\n",
    "print(confusion_matrix(y_test,y_pred))\n",
    "print('classification report: ')\n",
    "print(classification_report(y_test,y_pred))\n",
    "\n",
    "#We improved accuracy by almost 10%... WOW!!!"
   ]
  },
  {
   "attachments": {},
   "cell_type": "markdown",
   "metadata": {},
   "source": [
    "Now with the LR"
   ]
  },
  {
   "cell_type": "code",
   "execution_count": null,
   "metadata": {},
   "outputs": [
    {
     "data": {
      "text/plain": [
       "BaggingClassifier(base_estimator=LogisticRegression(class_weight='balanced'))"
      ]
     },
     "execution_count": 1771,
     "metadata": {},
     "output_type": "execute_result"
    }
   ],
   "source": [
    "bagging_lr=BaggingClassifier(LogisticRegression(class_weight='balanced'),n_estimators=10)\n",
    "bagging_lr.fit(x_train,y_train)"
   ]
  },
  {
   "cell_type": "code",
   "execution_count": null,
   "metadata": {},
   "outputs": [
    {
     "name": "stdout",
     "output_type": "stream",
     "text": [
      "accruacy: 0.7398\n",
      "Confusion Matrix: \n",
      "[[497 176]\n",
      " [ 16  49]]\n",
      "classification report: \n",
      "              precision    recall  f1-score   support\n",
      "\n",
      "           0       0.97      0.74      0.84       673\n",
      "           1       0.22      0.75      0.34        65\n",
      "\n",
      "    accuracy                           0.74       738\n",
      "   macro avg       0.59      0.75      0.59       738\n",
      "weighted avg       0.90      0.74      0.79       738\n",
      "\n"
     ]
    }
   ],
   "source": [
    "y_pred= bagging_lr.predict(x_test)\n",
    "print(f'accruacy: {bagging_lr.score(x_test,y_test).round(4)}')\n",
    "print('Confusion Matrix: ')\n",
    "print(confusion_matrix(y_test,y_pred))\n",
    "print('classification report: ')\n",
    "print(classification_report(y_test,y_pred))\n",
    "\n",
    "#The accuracy improved slightly"
   ]
  },
  {
   "attachments": {},
   "cell_type": "markdown",
   "metadata": {},
   "source": [
    "## Boosting\n",
    "\n",
    "Boosting is a sequential learning technique where each of the base models is a weak learner and builds off of the previous model. Each subsequent model aims to improve the performance of the final ensemble model by attempting to fix the errors in the previous stage.\n",
    "\n",
    "There are two types of boosting methods: Adaptive Boosting and Gradient Boosting.\n",
    "\n",
    "AdaBoost (Adaptive Boosting) is a sequential method where each base model is reweighted to reduce error. I will use adaptive boosting for the decision tree and SVM model"
   ]
  },
  {
   "attachments": {},
   "cell_type": "markdown",
   "metadata": {},
   "source": [
    "### AdaBoost"
   ]
  },
  {
   "cell_type": "code",
   "execution_count": null,
   "metadata": {},
   "outputs": [
    {
     "data": {
      "text/plain": [
       "AdaBoostClassifier(base_estimator=DecisionTreeClassifier(class_weight='balanced',\n",
       "                                                         max_depth=1),\n",
       "                   n_estimators=5)"
      ]
     },
     "execution_count": 1773,
     "metadata": {},
     "output_type": "execute_result"
    }
   ],
   "source": [
    "from sklearn.ensemble import AdaBoostClassifier\n",
    "\n",
    "decision_stump=DecisionTreeClassifier(max_depth=1,class_weight='balanced')\n",
    "ada_classifier=AdaBoostClassifier(base_estimator =decision_stump,n_estimators=5)\n",
    "ada_classifier.fit(x_train,y_train)"
   ]
  },
  {
   "cell_type": "code",
   "execution_count": null,
   "metadata": {},
   "outputs": [
    {
     "name": "stdout",
     "output_type": "stream",
     "text": [
      "accruacy: 0.6558\n",
      "Confusion Matrix: \n",
      "[[432 241]\n",
      " [ 13  52]]\n",
      "classification report: \n",
      "              precision    recall  f1-score   support\n",
      "\n",
      "           0       0.97      0.64      0.77       673\n",
      "           1       0.18      0.80      0.29        65\n",
      "\n",
      "    accuracy                           0.66       738\n",
      "   macro avg       0.57      0.72      0.53       738\n",
      "weighted avg       0.90      0.66      0.73       738\n",
      "\n"
     ]
    }
   ],
   "source": [
    "y_pred= ada_classifier.predict(x_test)\n",
    "print(f'accruacy: {ada_classifier.score(x_test,y_test).round(4)}')\n",
    "print('Confusion Matrix: ')\n",
    "print(confusion_matrix(y_test,y_pred))\n",
    "print('classification report: ')\n",
    "print(classification_report(y_test,y_pred,zero_division=0))\n",
    "\n",
    "#The model perforamnce actually decreased!"
   ]
  },
  {
   "cell_type": "code",
   "execution_count": null,
   "metadata": {},
   "outputs": [
    {
     "data": {
      "text/plain": [
       "AdaBoostClassifier(algorithm='SAMME',\n",
       "                   base_estimator=SVC(C=20, class_weight='balanced', gamma=1),\n",
       "                   n_estimators=5)"
      ]
     },
     "execution_count": 1775,
     "metadata": {},
     "output_type": "execute_result"
    }
   ],
   "source": [
    "svc_boost=SVC(kernel = \"rbf\", gamma = 1, C = 20,class_weight='balanced')\n",
    "ada_classifier=AdaBoostClassifier(base_estimator =svc_boost,n_estimators=5,algorithm='SAMME')\n",
    "ada_classifier.fit(x_train,y_train)"
   ]
  },
  {
   "cell_type": "code",
   "execution_count": null,
   "metadata": {},
   "outputs": [
    {
     "name": "stdout",
     "output_type": "stream",
     "text": [
      "accruacy: 0.9119\n",
      "Confusion Matrix: \n",
      "[[673   0]\n",
      " [ 65   0]]\n",
      "classification report: \n",
      "              precision    recall  f1-score   support\n",
      "\n",
      "           0       0.91      1.00      0.95       673\n",
      "           1       0.00      0.00      0.00        65\n",
      "\n",
      "    accuracy                           0.91       738\n",
      "   macro avg       0.46      0.50      0.48       738\n",
      "weighted avg       0.83      0.91      0.87       738\n",
      "\n"
     ]
    }
   ],
   "source": [
    "y_pred= ada_classifier.predict(x_test)\n",
    "print(f'accruacy: {accuracy_score(y_test,y_pred).round(4)}')\n",
    "print('Confusion Matrix: ')\n",
    "print(confusion_matrix(y_test,y_pred))\n",
    "print('classification report: ')\n",
    "print(classification_report(y_test,y_pred,zero_division=0))\n",
    "\n"
   ]
  },
  {
   "attachments": {},
   "cell_type": "markdown",
   "metadata": {},
   "source": [
    "We see a massive increase in accuracy, however the data is results of extremely unbalanced. None of the positive classes were correctly predicted. We must discard this model."
   ]
  },
  {
   "cell_type": "code",
   "execution_count": null,
   "metadata": {},
   "outputs": [
    {
     "data": {
      "text/plain": [
       "AdaBoostClassifier(base_estimator=LogisticRegression(class_weight='balanced'),\n",
       "                   n_estimators=5)"
      ]
     },
     "execution_count": 1777,
     "metadata": {},
     "output_type": "execute_result"
    }
   ],
   "source": [
    "lr_boost=LogisticRegression(class_weight='balanced')\n",
    "ada_classifier=AdaBoostClassifier(base_estimator =lr_boost,n_estimators=5)\n",
    "ada_classifier.fit(x_train,y_train)"
   ]
  },
  {
   "cell_type": "code",
   "execution_count": null,
   "metadata": {},
   "outputs": [
    {
     "name": "stdout",
     "output_type": "stream",
     "text": [
      "accruacy: 0.7127\n",
      "Confusion Matrix: \n",
      "[[485 188]\n",
      " [ 24  41]]\n",
      "classification report: \n",
      "              precision    recall  f1-score   support\n",
      "\n",
      "           0       0.95      0.72      0.82       673\n",
      "           1       0.18      0.63      0.28        65\n",
      "\n",
      "    accuracy                           0.71       738\n",
      "   macro avg       0.57      0.68      0.55       738\n",
      "weighted avg       0.88      0.71      0.77       738\n",
      "\n"
     ]
    }
   ],
   "source": [
    "y_pred= ada_classifier.predict(x_test)\n",
    "print(f'accruacy: {accuracy_score(y_test,y_pred).round(4)}')\n",
    "print('Confusion Matrix: ')\n",
    "print(confusion_matrix(y_test,y_pred))\n",
    "print('classification report: ')\n",
    "print(classification_report(y_test,y_pred,zero_division=0))\n",
    "\n",
    "#The model accuracy decreased, but the precision increased"
   ]
  },
  {
   "attachments": {},
   "cell_type": "markdown",
   "metadata": {},
   "source": [
    "### Gradient Boost\n",
    "\n",
    "Gradient Boosting fits a base model to the negative gradient of the error in the previous stage. So the second model will calculate the residuals of the previous model and determine the weighting of parameters. I will only use this for Decision Tree model"
   ]
  },
  {
   "cell_type": "code",
   "execution_count": null,
   "metadata": {},
   "outputs": [
    {
     "data": {
      "text/plain": [
       "GradientBoostingClassifier(n_estimators=10)"
      ]
     },
     "execution_count": 1779,
     "metadata": {},
     "output_type": "execute_result"
    }
   ],
   "source": [
    "from sklearn.ensemble import GradientBoostingClassifier\n",
    "\n",
    "grad_classifier=GradientBoostingClassifier(n_estimators =10)\n",
    "\n",
    "grad_classifier.fit(x_train,y_train)\n"
   ]
  },
  {
   "cell_type": "code",
   "execution_count": null,
   "metadata": {},
   "outputs": [
    {
     "name": "stdout",
     "output_type": "stream",
     "text": [
      "accruacy: 0.9119\n",
      "Confusion Matrix: \n",
      "[[673   0]\n",
      " [ 65   0]]\n",
      "classification report: \n",
      "              precision    recall  f1-score   support\n",
      "\n",
      "           0       0.91      1.00      0.95       673\n",
      "           1       0.00      0.00      0.00        65\n",
      "\n",
      "    accuracy                           0.91       738\n",
      "   macro avg       0.46      0.50      0.48       738\n",
      "weighted avg       0.83      0.91      0.87       738\n",
      "\n"
     ]
    }
   ],
   "source": [
    "y_pred= grad_classifier.predict(x_test)\n",
    "print(f'accruacy: {accuracy_score(y_test,y_pred).round(4)}')\n",
    "print('Confusion Matrix: ')\n",
    "print(confusion_matrix(y_test,y_pred))\n",
    "print('classification report: ')\n",
    "print(classification_report(y_test,y_pred,zero_division=0))\n",
    "\n",
    "#No change in accuracy"
   ]
  },
  {
   "attachments": {},
   "cell_type": "markdown",
   "metadata": {},
   "source": [
    "We see a massive increase in accuracy, however the data is results of extremely unbalanced. None of the positive classes were correctly predicted. We must discard this model."
   ]
  },
  {
   "attachments": {},
   "cell_type": "markdown",
   "metadata": {},
   "source": [
    "# Hyperparamater Tuning\n",
    "\n",
    "After the various ensemble methods and then disregarding the unbalanced models with high accuracys, I can conclude that the Bagging SVM and the Bagging DT were the most accurate models.\n",
    "\n",
    "- SVM: 81.44%\n",
    "\n",
    "- Bagging DT: 74.8%\n",
    "\n",
    "I will now use Hyperparameter tuning to further improve model accuracy. I will use lasso and ridge regularization and attempt to find the optimal paramters for all types of models. \n",
    "\n",
    "Lasso is a shrinkage feature selection method and ridge focuses on multicolinearity\n",
    "\n"
   ]
  },
  {
   "attachments": {},
   "cell_type": "markdown",
   "metadata": {},
   "source": [
    "## SVM"
   ]
  },
  {
   "cell_type": "code",
   "execution_count": null,
   "metadata": {},
   "outputs": [
    {
     "name": "stdout",
     "output_type": "stream",
     "text": [
      "Fitting 5 folds for each of 16 candidates, totalling 80 fits\n",
      "[CV] END .....................................C=0.1, gamma=1; total time=   0.4s\n",
      "[CV] END .....................................C=0.1, gamma=1; total time=   0.5s\n",
      "[CV] END .....................................C=0.1, gamma=1; total time=   0.4s\n",
      "[CV] END .....................................C=0.1, gamma=1; total time=   0.3s\n",
      "[CV] END .....................................C=0.1, gamma=1; total time=   0.3s\n",
      "[CV] END ...................................C=0.1, gamma=0.1; total time=   0.2s\n",
      "[CV] END ...................................C=0.1, gamma=0.1; total time=   0.3s\n",
      "[CV] END ...................................C=0.1, gamma=0.1; total time=   0.3s\n",
      "[CV] END ...................................C=0.1, gamma=0.1; total time=   0.3s\n",
      "[CV] END ...................................C=0.1, gamma=0.1; total time=   0.3s\n",
      "[CV] END ..................................C=0.1, gamma=0.01; total time=   0.3s\n",
      "[CV] END ..................................C=0.1, gamma=0.01; total time=   0.3s\n",
      "[CV] END ..................................C=0.1, gamma=0.01; total time=   0.3s\n",
      "[CV] END ..................................C=0.1, gamma=0.01; total time=   0.4s\n",
      "[CV] END ..................................C=0.1, gamma=0.01; total time=   0.4s\n",
      "[CV] END .................................C=0.1, gamma=0.001; total time=   0.7s\n",
      "[CV] END .................................C=0.1, gamma=0.001; total time=   0.6s\n",
      "[CV] END .................................C=0.1, gamma=0.001; total time=   0.6s\n",
      "[CV] END .................................C=0.1, gamma=0.001; total time=   0.5s\n",
      "[CV] END .................................C=0.1, gamma=0.001; total time=   0.6s\n",
      "[CV] END .......................................C=1, gamma=1; total time=   0.2s\n",
      "[CV] END .......................................C=1, gamma=1; total time=   0.3s\n",
      "[CV] END .......................................C=1, gamma=1; total time=   0.3s\n",
      "[CV] END .......................................C=1, gamma=1; total time=   0.2s\n",
      "[CV] END .......................................C=1, gamma=1; total time=   0.2s\n",
      "[CV] END .....................................C=1, gamma=0.1; total time=   0.3s\n",
      "[CV] END .....................................C=1, gamma=0.1; total time=   0.2s\n",
      "[CV] END .....................................C=1, gamma=0.1; total time=   0.2s\n",
      "[CV] END .....................................C=1, gamma=0.1; total time=   0.2s\n",
      "[CV] END .....................................C=1, gamma=0.1; total time=   0.3s\n",
      "[CV] END ....................................C=1, gamma=0.01; total time=   0.3s\n",
      "[CV] END ....................................C=1, gamma=0.01; total time=   0.3s\n",
      "[CV] END ....................................C=1, gamma=0.01; total time=   0.3s\n",
      "[CV] END ....................................C=1, gamma=0.01; total time=   0.3s\n",
      "[CV] END ....................................C=1, gamma=0.01; total time=   0.3s\n",
      "[CV] END ...................................C=1, gamma=0.001; total time=   0.3s\n",
      "[CV] END ...................................C=1, gamma=0.001; total time=   0.3s\n",
      "[CV] END ...................................C=1, gamma=0.001; total time=   0.3s\n",
      "[CV] END ...................................C=1, gamma=0.001; total time=   0.4s\n",
      "[CV] END ...................................C=1, gamma=0.001; total time=   0.4s\n",
      "[CV] END ......................................C=10, gamma=1; total time=   0.2s\n",
      "[CV] END ......................................C=10, gamma=1; total time=   0.2s\n",
      "[CV] END ......................................C=10, gamma=1; total time=   0.2s\n",
      "[CV] END ......................................C=10, gamma=1; total time=   0.2s\n",
      "[CV] END ......................................C=10, gamma=1; total time=   0.2s\n",
      "[CV] END ....................................C=10, gamma=0.1; total time=   0.3s\n",
      "[CV] END ....................................C=10, gamma=0.1; total time=   0.2s\n",
      "[CV] END ....................................C=10, gamma=0.1; total time=   0.2s\n",
      "[CV] END ....................................C=10, gamma=0.1; total time=   0.2s\n",
      "[CV] END ....................................C=10, gamma=0.1; total time=   0.2s\n",
      "[CV] END ...................................C=10, gamma=0.01; total time=   0.2s\n",
      "[CV] END ...................................C=10, gamma=0.01; total time=   0.3s\n",
      "[CV] END ...................................C=10, gamma=0.01; total time=   0.3s\n",
      "[CV] END ...................................C=10, gamma=0.01; total time=   0.3s\n",
      "[CV] END ...................................C=10, gamma=0.01; total time=   0.3s\n",
      "[CV] END ..................................C=10, gamma=0.001; total time=   0.3s\n",
      "[CV] END ..................................C=10, gamma=0.001; total time=   0.3s\n",
      "[CV] END ..................................C=10, gamma=0.001; total time=   0.3s\n",
      "[CV] END ..................................C=10, gamma=0.001; total time=   0.4s\n",
      "[CV] END ..................................C=10, gamma=0.001; total time=   0.4s\n",
      "[CV] END .....................................C=100, gamma=1; total time=   0.3s\n",
      "[CV] END .....................................C=100, gamma=1; total time=   0.4s\n",
      "[CV] END .....................................C=100, gamma=1; total time=   0.3s\n",
      "[CV] END .....................................C=100, gamma=1; total time=   0.3s\n",
      "[CV] END .....................................C=100, gamma=1; total time=   0.3s\n",
      "[CV] END ...................................C=100, gamma=0.1; total time=   0.5s\n",
      "[CV] END ...................................C=100, gamma=0.1; total time=   0.4s\n",
      "[CV] END ...................................C=100, gamma=0.1; total time=   0.4s\n",
      "[CV] END ...................................C=100, gamma=0.1; total time=   0.4s\n",
      "[CV] END ...................................C=100, gamma=0.1; total time=   0.4s\n",
      "[CV] END ..................................C=100, gamma=0.01; total time=   0.3s\n",
      "[CV] END ..................................C=100, gamma=0.01; total time=   0.3s\n",
      "[CV] END ..................................C=100, gamma=0.01; total time=   0.3s\n",
      "[CV] END ..................................C=100, gamma=0.01; total time=   0.3s\n",
      "[CV] END ..................................C=100, gamma=0.01; total time=   0.3s\n",
      "[CV] END .................................C=100, gamma=0.001; total time=   0.3s\n",
      "[CV] END .................................C=100, gamma=0.001; total time=   0.3s\n",
      "[CV] END .................................C=100, gamma=0.001; total time=   0.3s\n",
      "[CV] END .................................C=100, gamma=0.001; total time=   0.4s\n",
      "[CV] END .................................C=100, gamma=0.001; total time=   0.3s\n"
     ]
    },
    {
     "data": {
      "text/plain": [
       "GridSearchCV(estimator=SVC(class_weight='balanced'),\n",
       "             param_grid={'C': [0.1, 1, 10, 100],\n",
       "                         'gamma': [1, 0.1, 0.01, 0.001]},\n",
       "             scoring='accuracy', verbose=2)"
      ]
     },
     "execution_count": 1781,
     "metadata": {},
     "output_type": "execute_result"
    }
   ],
   "source": [
    "from sklearn.model_selection import GridSearchCV\n",
    "\n",
    "parameters = { 'C': [0.1, 1, 10, 100], 'gamma': [1,0.1,0.01,0.001]}\n",
    "svc=SVC(kernel = \"rbf\",class_weight='balanced')\n",
    "\n",
    "clf=GridSearchCV(svc,parameters,refit=True,verbose=2,scoring='accuracy')\n",
    "\n",
    "clf.fit(x_train,y_train)"
   ]
  },
  {
   "cell_type": "code",
   "execution_count": null,
   "metadata": {},
   "outputs": [
    {
     "name": "stdout",
     "output_type": "stream",
     "text": [
      "       Accuracy                              \n",
      "gamma     0.001     0.010     0.100     1.000\n",
      "C                                            \n",
      "0.1    0.648362  0.692745  0.673431  0.687658\n",
      "1.0    0.701892  0.693078  0.686641  0.739831\n",
      "10.0   0.715103  0.691727  0.701218  0.782852\n",
      "100.0  0.708667  0.687661  0.713749  0.809962\n"
     ]
    }
   ],
   "source": [
    "df = pd.concat([pd.DataFrame(clf.cv_results_['params']), pd.DataFrame(clf.cv_results_['mean_test_score'], columns=['Accuracy'])] ,axis=1)\n",
    "\n",
    "# This table displays the information more clearly.\n",
    "cv_table = df.pivot(index = 'C', columns = 'gamma')\n",
    "print(cv_table)"
   ]
  },
  {
   "cell_type": "code",
   "execution_count": null,
   "metadata": {},
   "outputs": [
    {
     "name": "stdout",
     "output_type": "stream",
     "text": [
      "SVC(C=100, class_weight='balanced', gamma=1)\n"
     ]
    }
   ],
   "source": [
    "print(clf.best_estimator_)"
   ]
  },
  {
   "cell_type": "code",
   "execution_count": null,
   "metadata": {},
   "outputs": [
    {
     "data": {
      "text/plain": [
       "SVC(C=100, class_weight='balanced', gamma=1)"
      ]
     },
     "execution_count": 1784,
     "metadata": {},
     "output_type": "execute_result"
    }
   ],
   "source": [
    "svc=SVC(gamma=1,C=100,kernel='rbf',class_weight='balanced')\n",
    "svc.fit(x_train,y_train)"
   ]
  },
  {
   "cell_type": "code",
   "execution_count": null,
   "metadata": {},
   "outputs": [
    {
     "name": "stdout",
     "output_type": "stream",
     "text": [
      "accruacy: 0.8117\n",
      "Confusion Matrix: \n",
      "[[569 104]\n",
      " [ 35  30]]\n",
      "classification report: \n",
      "              precision    recall  f1-score   support\n",
      "\n",
      "           0       0.94      0.85      0.89       673\n",
      "           1       0.22      0.46      0.30        65\n",
      "\n",
      "    accuracy                           0.81       738\n",
      "   macro avg       0.58      0.65      0.60       738\n",
      "weighted avg       0.88      0.81      0.84       738\n",
      "\n"
     ]
    }
   ],
   "source": [
    "y_pred= svc.predict(x_test)\n",
    "print(f'accruacy: {svc.score(x_test,y_test).round(4)}')\n",
    "print('Confusion Matrix: ')\n",
    "print(confusion_matrix(y_test,y_pred))\n",
    "print('classification report: ')\n",
    "print(classification_report(y_test,y_pred,zero_division=0))"
   ]
  },
  {
   "attachments": {},
   "cell_type": "markdown",
   "metadata": {},
   "source": [
    "## Bagging DT"
   ]
  },
  {
   "cell_type": "code",
   "execution_count": null,
   "metadata": {},
   "outputs": [
    {
     "name": "stdout",
     "output_type": "stream",
     "text": [
      "Fitting 5 folds for each of 14 candidates, totalling 70 fits\n",
      "[CV] END ........................criterion=gini, max_depth=1; total time=   0.0s\n",
      "[CV] END ........................criterion=gini, max_depth=1; total time=   0.0s\n",
      "[CV] END ........................criterion=gini, max_depth=1; total time=   0.0s\n",
      "[CV] END ........................criterion=gini, max_depth=1; total time=   0.0s\n",
      "[CV] END ........................criterion=gini, max_depth=1; total time=   0.0s\n",
      "[CV] END ........................criterion=gini, max_depth=2; total time=   0.0s\n",
      "[CV] END ........................criterion=gini, max_depth=2; total time=   0.0s\n",
      "[CV] END ........................criterion=gini, max_depth=2; total time=   0.0s\n",
      "[CV] END ........................criterion=gini, max_depth=2; total time=   0.0s\n",
      "[CV] END ........................criterion=gini, max_depth=2; total time=   0.0s\n",
      "[CV] END ........................criterion=gini, max_depth=3; total time=   0.0s\n",
      "[CV] END ........................criterion=gini, max_depth=3; total time=   0.0s\n",
      "[CV] END ........................criterion=gini, max_depth=3; total time=   0.0s\n",
      "[CV] END ........................criterion=gini, max_depth=3; total time=   0.0s\n",
      "[CV] END ........................criterion=gini, max_depth=3; total time=   0.0s\n",
      "[CV] END ........................criterion=gini, max_depth=4; total time=   0.0s\n",
      "[CV] END ........................criterion=gini, max_depth=4; total time=   0.0s\n",
      "[CV] END ........................criterion=gini, max_depth=4; total time=   0.0s\n",
      "[CV] END ........................criterion=gini, max_depth=4; total time=   0.0s\n",
      "[CV] END ........................criterion=gini, max_depth=4; total time=   0.0s\n",
      "[CV] END ........................criterion=gini, max_depth=5; total time=   0.0s\n",
      "[CV] END ........................criterion=gini, max_depth=5; total time=   0.0s\n",
      "[CV] END ........................criterion=gini, max_depth=5; total time=   0.0s\n",
      "[CV] END ........................criterion=gini, max_depth=5; total time=   0.0s\n",
      "[CV] END ........................criterion=gini, max_depth=5; total time=   0.0s\n",
      "[CV] END ........................criterion=gini, max_depth=6; total time=   0.0s\n",
      "[CV] END ........................criterion=gini, max_depth=6; total time=   0.0s\n",
      "[CV] END ........................criterion=gini, max_depth=6; total time=   0.0s\n",
      "[CV] END ........................criterion=gini, max_depth=6; total time=   0.0s\n",
      "[CV] END ........................criterion=gini, max_depth=6; total time=   0.0s\n",
      "[CV] END ........................criterion=gini, max_depth=7; total time=   0.0s\n",
      "[CV] END ........................criterion=gini, max_depth=7; total time=   0.0s\n",
      "[CV] END ........................criterion=gini, max_depth=7; total time=   0.0s\n",
      "[CV] END ........................criterion=gini, max_depth=7; total time=   0.0s\n",
      "[CV] END ........................criterion=gini, max_depth=7; total time=   0.0s\n",
      "[CV] END .....................criterion=entropy, max_depth=1; total time=   0.0s\n",
      "[CV] END .....................criterion=entropy, max_depth=1; total time=   0.0s\n",
      "[CV] END .....................criterion=entropy, max_depth=1; total time=   0.0s\n",
      "[CV] END .....................criterion=entropy, max_depth=1; total time=   0.0s\n",
      "[CV] END .....................criterion=entropy, max_depth=1; total time=   0.0s\n",
      "[CV] END .....................criterion=entropy, max_depth=2; total time=   0.0s\n",
      "[CV] END .....................criterion=entropy, max_depth=2; total time=   0.0s\n",
      "[CV] END .....................criterion=entropy, max_depth=2; total time=   0.0s\n",
      "[CV] END .....................criterion=entropy, max_depth=2; total time=   0.0s\n",
      "[CV] END .....................criterion=entropy, max_depth=2; total time=   0.0s\n",
      "[CV] END .....................criterion=entropy, max_depth=3; total time=   0.0s\n",
      "[CV] END .....................criterion=entropy, max_depth=3; total time=   0.0s\n",
      "[CV] END .....................criterion=entropy, max_depth=3; total time=   0.0s\n",
      "[CV] END .....................criterion=entropy, max_depth=3; total time=   0.0s\n",
      "[CV] END .....................criterion=entropy, max_depth=3; total time=   0.0s\n",
      "[CV] END .....................criterion=entropy, max_depth=4; total time=   0.0s\n",
      "[CV] END .....................criterion=entropy, max_depth=4; total time=   0.0s\n",
      "[CV] END .....................criterion=entropy, max_depth=4; total time=   0.0s\n",
      "[CV] END .....................criterion=entropy, max_depth=4; total time=   0.0s\n",
      "[CV] END .....................criterion=entropy, max_depth=4; total time=   0.0s\n",
      "[CV] END .....................criterion=entropy, max_depth=5; total time=   0.0s\n",
      "[CV] END .....................criterion=entropy, max_depth=5; total time=   0.0s\n",
      "[CV] END .....................criterion=entropy, max_depth=5; total time=   0.0s\n",
      "[CV] END .....................criterion=entropy, max_depth=5; total time=   0.0s\n",
      "[CV] END .....................criterion=entropy, max_depth=5; total time=   0.0s\n",
      "[CV] END .....................criterion=entropy, max_depth=6; total time=   0.0s\n",
      "[CV] END .....................criterion=entropy, max_depth=6; total time=   0.0s\n",
      "[CV] END .....................criterion=entropy, max_depth=6; total time=   0.0s\n",
      "[CV] END .....................criterion=entropy, max_depth=6; total time=   0.0s\n",
      "[CV] END .....................criterion=entropy, max_depth=6; total time=   0.0s\n",
      "[CV] END .....................criterion=entropy, max_depth=7; total time=   0.0s\n",
      "[CV] END .....................criterion=entropy, max_depth=7; total time=   0.0s\n",
      "[CV] END .....................criterion=entropy, max_depth=7; total time=   0.0s\n",
      "[CV] END .....................criterion=entropy, max_depth=7; total time=   0.0s\n",
      "[CV] END .....................criterion=entropy, max_depth=7; total time=   0.0s\n"
     ]
    },
    {
     "data": {
      "text/plain": [
       "GridSearchCV(estimator=DecisionTreeClassifier(class_weight='balanced'),\n",
       "             param_grid={'criterion': ['gini', 'entropy'],\n",
       "                         'max_depth': [1, 2, 3, 4, 5, 6, 7]},\n",
       "             verbose=2)"
      ]
     },
     "execution_count": 1786,
     "metadata": {},
     "output_type": "execute_result"
    }
   ],
   "source": [
    "parameters = {  'criterion' :['gini', 'entropy'], 'max_depth': [1,2,3,4,5,6,7]}\n",
    "dTree=DecisionTreeClassifier(class_weight='balanced')\n",
    "\n",
    "clf=GridSearchCV(dTree,parameters,refit=True,verbose=2)\n",
    "\n",
    "clf.fit(x_train,y_train)"
   ]
  },
  {
   "cell_type": "code",
   "execution_count": null,
   "metadata": {},
   "outputs": [
    {
     "name": "stdout",
     "output_type": "stream",
     "text": [
      "           Accuracy                                                    \\\n",
      "max_depth         1         2         3         4         5         6   \n",
      "criterion                                                               \n",
      "entropy    0.581959  0.584679  0.633477  0.646335  0.709338  0.700539   \n",
      "gini       0.581959  0.584679  0.644657  0.679527  0.689007  0.691373   \n",
      "\n",
      "                     \n",
      "max_depth         7  \n",
      "criterion            \n",
      "entropy    0.708334  \n",
      "gini       0.715084  \n"
     ]
    }
   ],
   "source": [
    "df = pd.concat([pd.DataFrame(clf.cv_results_['params']), pd.DataFrame(clf.cv_results_['mean_test_score'], columns=['Accuracy'])] ,axis=1)\n",
    "\n",
    "# This table displays the information more clearly.\n",
    "cv_table = df.pivot(index = 'criterion', columns = 'max_depth')\n",
    "print(cv_table)"
   ]
  },
  {
   "cell_type": "code",
   "execution_count": null,
   "metadata": {},
   "outputs": [
    {
     "name": "stdout",
     "output_type": "stream",
     "text": [
      "DecisionTreeClassifier(class_weight='balanced', max_depth=7)\n"
     ]
    }
   ],
   "source": [
    "print(clf.best_estimator_)"
   ]
  },
  {
   "cell_type": "code",
   "execution_count": null,
   "metadata": {},
   "outputs": [
    {
     "name": "stdout",
     "output_type": "stream",
     "text": [
      "accruacy: 0.706\n",
      "Confusion Matrix: \n",
      "[[467  11]\n",
      " [206  54]]\n",
      "classification report: \n",
      "              precision    recall  f1-score   support\n",
      "\n",
      "           0       0.98      0.69      0.81       673\n",
      "           1       0.21      0.83      0.33        65\n",
      "\n",
      "    accuracy                           0.71       738\n",
      "   macro avg       0.59      0.76      0.57       738\n",
      "weighted avg       0.91      0.71      0.77       738\n",
      "\n"
     ]
    }
   ],
   "source": [
    "dTree=DecisionTreeClassifier(max_depth=7,criterion='gini',class_weight='balanced')\n",
    "dTree.fit(x_train,y_train)\n",
    "y_pred= dTree.predict(x_test)\n",
    "print(f'accruacy: {dTree.score(x_test,y_test).round(4)}')\n",
    "print('Confusion Matrix: ')\n",
    "print(confusion_matrix(y_pred,y_test))\n",
    "print('classification report: ')\n",
    "print(classification_report(y_test,y_pred,zero_division=0))\n",
    "\n"
   ]
  },
  {
   "cell_type": "code",
   "execution_count": null,
   "metadata": {},
   "outputs": [
    {
     "data": {
      "image/png": "[encoded data removed]",
      "text/plain": [
       "<Figure size 640x480 with 2 Axes>"
      ]
     },
     "metadata": {},
     "output_type": "display_data"
    }
   ],
   "source": [
    "conf_matrix=confusion_matrix(y_pred,y_test)\n",
    "sns.heatmap(conf_matrix, annot=True, fmt='d', cmap='Blues')\n",
    "\n",
    "# Show the plot\n",
    "plt.show()"
   ]
  },
  {
   "attachments": {},
   "cell_type": "markdown",
   "metadata": {},
   "source": [
    "# Conclusion"
   ]
  },
  {
   "attachments": {},
   "cell_type": "markdown",
   "metadata": {},
   "source": [
    "The following analysis cleaned and pre-processed data on the NHL draft picks since the 1960s. It was a great exercise that demonstrated my python and ML abilities. To summarize, below are the model results:\n",
    "\n",
    "Preliminary Models:\n",
    "- LR: 73.04%\n",
    "- KN: 89.7% (Unbalanced)\n",
    "- DTree: 70.60%\n",
    "- SVM: 73.58%\n",
    "\n",
    "Ensemble Methods:\n",
    "- Random Forests: 73.58%\n",
    "- Bagging DTree: 74.8%\n",
    "- Bagging SVM: 81.44%\n",
    "- Bagging LR: 73.44%\n",
    "- AdaBoost DTree: 65.58%\n",
    "- AdaBoost SVM: 91.19% (Unbalanced)\n",
    "- AdaBoost LR: 71.27%\n",
    "- Gradient Boost DTree: 91.19% (Unbalanced)\n",
    "\n",
    "Selected Parameters:\n",
    "- SVM: C=100, gamma=1\n",
    "- Bagging DT: max_depth=7, criterion='gini'\n",
    "\n",
    "Therefore, the model has an accuracy of 81.44%\n",
    "\n",
    "Selected Parameters:\n",
    "- SVM: C=1, gamma=1\n",
    "- Bagging DT: max_depth=5, criterion='entropy'\n",
    "\n",
    "Overall, we can conclude that the two best models are the Bagging SVM and the Bagging Decision Tree. Both had mediocre accuracies at 81.44% and 74.8%, however had relatively high recall scores at 55% and 77%. The results are understandable as often the difference between a first round and a second round pick is not much.\n",
    "\n",
    "Below is an example using the Bagging Decision Tree (it's quicker) to predict draft picks. "
   ]
  }
 ],
 "metadata": {
  "kernelspec": {
   "display_name": "Python 3",
   "language": "python",
   "name": "python3"
  },
  "language_info": {
   "codemirror_mode": {
    "name": "ipython",
    "version": 3
   },
   "file_extension": ".py",
   "mimetype": "text/x-python",
   "name": "python",
   "nbconvert_exporter": "python",
   "pygments_lexer": "ipython3",
   "version": "3.9.13"
  },
  "orig_nbformat": 4,
  "vscode": {
   "interpreter": {
    "hash": "bbbfd17ecadaba743870d1db4721335248acf2e3b3d095351d8ddf1da7dfc52c"
   }
  }
 },
 "nbformat": 4,
 "nbformat_minor": 2
}
